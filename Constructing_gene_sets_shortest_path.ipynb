{
 "cells": [
  {
   "cell_type": "code",
   "execution_count": 246,
   "metadata": {},
   "outputs": [],
   "source": [
    "import pandas as pd\n",
    "import numpy as np\n",
    "import networkx as nx\n",
    "import os\n",
    "from os import listdir\n",
    "import random"
   ]
  },
  {
   "cell_type": "markdown",
   "metadata": {},
   "source": [
    "# Constructing Gene Sets Using Shortest Path from an AMR gene to conserved gene\n",
    "\n",
    "This following steps allow to construct gene sets to run the model from Nguyen et. al. based on shortest path of conserved genes obtained considering the distance from a conserved gene to an AMR gene. We are working with the following subspecies choosed to have the same RefSeq on PATRIC database and STRING:\n",
    "\n",
    "- Klebsiella pneumoniae subsp. pneumoniae MGH 78578\n",
    "- Mycobacterium tuberculosis H37Rv\n",
    "- Salmonella enterica subsp. enterica serovar Typhimurium str. LT2\n",
    "- Staphylococcus aureus subsp. aureus NCTC 8325"
   ]
  },
  {
   "cell_type": "code",
   "execution_count": 247,
   "metadata": {},
   "outputs": [],
   "source": [
    "bacteria = ['Mycobacterium', 'Klebsiella', 'Salmonella', 'Staphylococcus']"
   ]
  },
  {
   "cell_type": "markdown",
   "metadata": {},
   "source": [
    "To construct gene sets for a specific bacteria, modify the index below according to the list above"
   ]
  },
  {
   "cell_type": "code",
   "execution_count": 252,
   "metadata": {},
   "outputs": [],
   "source": [
    "root = os.getcwd() + '\\\\' + bacteria[2] "
   ]
  },
  {
   "cell_type": "markdown",
   "metadata": {},
   "source": [
    "# Data From PATRIC"
   ]
  },
  {
   "cell_type": "markdown",
   "metadata": {},
   "source": [
    "## Genomic Features\n",
    "\n",
    "The table below contains a list of genomic features, including coding DNA.\n",
    "\n",
    "Each feature is identified by BRC ID from PATRIC and associated to a protein family referred as PATRIC genus-specific families (PLfams). Most of the genes has the associated Protein ID."
   ]
  },
  {
   "cell_type": "code",
   "execution_count": 253,
   "metadata": {},
   "outputs": [],
   "source": [
    "features = pd.read_csv(f'{root}\\\\genome_features.csv')"
   ]
  },
  {
   "cell_type": "code",
   "execution_count": 254,
   "metadata": {},
   "outputs": [
    {
     "name": "stdout",
     "output_type": "stream",
     "text": [
      "<class 'pandas.core.frame.DataFrame'>\n",
      "RangeIndex: 4970 entries, 0 to 4969\n",
      "Data columns (total 21 columns):\n",
      " #   Column                                   Non-Null Count  Dtype  \n",
      "---  ------                                   --------------  -----  \n",
      " 0   Genome                                   4970 non-null   object \n",
      " 1   Genome ID                                4970 non-null   float64\n",
      " 2   Accession                                4970 non-null   object \n",
      " 3   BRC ID                                   4970 non-null   object \n",
      " 4   RefSeq Locus Tag                         4460 non-null   object \n",
      " 5   Alt Locus Tag                            4970 non-null   object \n",
      " 6   Feature ID                               4970 non-null   object \n",
      " 7   Annotation                               4970 non-null   object \n",
      " 8   Feature Type                             4970 non-null   object \n",
      " 9   Start                                    4970 non-null   int64  \n",
      " 10  End                                      4970 non-null   int64  \n",
      " 11  Length                                   4970 non-null   int64  \n",
      " 12  Strand                                   4970 non-null   object \n",
      " 13  FIGfam ID                                4908 non-null   object \n",
      " 14  PATRIC genus-specific families (PLfams)  4970 non-null   object \n",
      " 15  PATRIC cross-genus families (PGfams)     4970 non-null   object \n",
      " 16  Protein ID                               4460 non-null   object \n",
      " 17  AA Length                                4970 non-null   int64  \n",
      " 18  Gene Symbol                              3297 non-null   object \n",
      " 19  Product                                  4970 non-null   object \n",
      " 20  GO                                       1129 non-null   object \n",
      "dtypes: float64(1), int64(4), object(16)\n",
      "memory usage: 815.5+ KB\n"
     ]
    }
   ],
   "source": [
    "features.info()"
   ]
  },
  {
   "cell_type": "markdown",
   "metadata": {},
   "source": [
    "Through this table, we extract useful data to map protein families referred by Nguyen et. al.:"
   ]
  },
  {
   "cell_type": "code",
   "execution_count": 255,
   "metadata": {},
   "outputs": [
    {
     "data": {
      "text/html": [
       "<div>\n",
       "<style scoped>\n",
       "    .dataframe tbody tr th:only-of-type {\n",
       "        vertical-align: middle;\n",
       "    }\n",
       "\n",
       "    .dataframe tbody tr th {\n",
       "        vertical-align: top;\n",
       "    }\n",
       "\n",
       "    .dataframe thead th {\n",
       "        text-align: right;\n",
       "    }\n",
       "</style>\n",
       "<table border=\"1\" class=\"dataframe\">\n",
       "  <thead>\n",
       "    <tr style=\"text-align: right;\">\n",
       "      <th></th>\n",
       "      <th>PLFam</th>\n",
       "    </tr>\n",
       "    <tr>\n",
       "      <th>BRC_ID</th>\n",
       "      <th></th>\n",
       "    </tr>\n",
       "  </thead>\n",
       "  <tbody>\n",
       "    <tr>\n",
       "      <th>fig|99287.12.peg.977</th>\n",
       "      <td>PLF_590_00000012</td>\n",
       "    </tr>\n",
       "    <tr>\n",
       "      <th>fig|99287.12.peg.978</th>\n",
       "      <td>PLF_590_00014201</td>\n",
       "    </tr>\n",
       "    <tr>\n",
       "      <th>fig|99287.12.peg.979</th>\n",
       "      <td>PLF_590_00019426</td>\n",
       "    </tr>\n",
       "    <tr>\n",
       "      <th>fig|99287.12.peg.980</th>\n",
       "      <td>PLF_590_00015851</td>\n",
       "    </tr>\n",
       "    <tr>\n",
       "      <th>fig|99287.12.peg.981</th>\n",
       "      <td>PLF_590_00000025</td>\n",
       "    </tr>\n",
       "    <tr>\n",
       "      <th>...</th>\n",
       "      <td>...</td>\n",
       "    </tr>\n",
       "    <tr>\n",
       "      <th>fig|99287.12.peg.4975</th>\n",
       "      <td>PLF_590_00006047</td>\n",
       "    </tr>\n",
       "    <tr>\n",
       "      <th>fig|99287.12.peg.4976</th>\n",
       "      <td>PLF_590_00005031</td>\n",
       "    </tr>\n",
       "    <tr>\n",
       "      <th>fig|99287.12.peg.4844</th>\n",
       "      <td>PLF_590_00005081</td>\n",
       "    </tr>\n",
       "    <tr>\n",
       "      <th>fig|99287.12.peg.4864</th>\n",
       "      <td>PLF_590_00005446</td>\n",
       "    </tr>\n",
       "    <tr>\n",
       "      <th>fig|99287.12.peg.4846</th>\n",
       "      <td>PLF_590_00005107</td>\n",
       "    </tr>\n",
       "  </tbody>\n",
       "</table>\n",
       "<p>4970 rows × 1 columns</p>\n",
       "</div>"
      ],
      "text/plain": [
       "                                  PLFam\n",
       "BRC_ID                                 \n",
       "fig|99287.12.peg.977   PLF_590_00000012\n",
       "fig|99287.12.peg.978   PLF_590_00014201\n",
       "fig|99287.12.peg.979   PLF_590_00019426\n",
       "fig|99287.12.peg.980   PLF_590_00015851\n",
       "fig|99287.12.peg.981   PLF_590_00000025\n",
       "...                                 ...\n",
       "fig|99287.12.peg.4975  PLF_590_00006047\n",
       "fig|99287.12.peg.4976  PLF_590_00005031\n",
       "fig|99287.12.peg.4844  PLF_590_00005081\n",
       "fig|99287.12.peg.4864  PLF_590_00005446\n",
       "fig|99287.12.peg.4846  PLF_590_00005107\n",
       "\n",
       "[4970 rows x 1 columns]"
      ]
     },
     "execution_count": 255,
     "metadata": {},
     "output_type": "execute_result"
    }
   ],
   "source": [
    "plf = features[['BRC ID', 'PATRIC genus-specific families (PLfams)']].astype(\"string\")\n",
    "plf.columns = ['BRC_ID', 'PLFam']\n",
    "plf.set_index('BRC_ID', inplace = True)\n",
    "plf"
   ]
  },
  {
   "cell_type": "markdown",
   "metadata": {},
   "source": [
    "## Specialty Genes\n",
    "\n",
    "A table containing AMR genes for this specie according to PATRIC."
   ]
  },
  {
   "cell_type": "code",
   "execution_count": 256,
   "metadata": {},
   "outputs": [],
   "source": [
    "AMR_refseq = pd.DataFrame(pd.read_csv(f'{root}\\\\specialty_genes.csv')['RefSeq Locus Tag'])\n",
    "AMR_refseq.columns = ['AMR_RefSeq']"
   ]
  },
  {
   "cell_type": "markdown",
   "metadata": {},
   "source": [
    "## Data from Nguyen et. al."
   ]
  },
  {
   "cell_type": "markdown",
   "metadata": {},
   "source": [
    "Be sure you have data from Nguyen et. al inside a directory of the specific bacteria "
   ]
  },
  {
   "cell_type": "code",
   "execution_count": 257,
   "metadata": {},
   "outputs": [],
   "source": [
    "plf_500 = []\n",
    "\n",
    "datadir = root + '\\\\Nguyen_et_al_2020\\\\fasta.500.0'\n",
    "for strain in listdir(datadir):\n",
    "    with open(os.path.join(datadir, strain), 'r') as sequences:\n",
    "        for line in sequences:\n",
    "            if line[0] == '>':\n",
    "                plf_500.append(line[1:len(line)-1])\n",
    "                \n",
    "plf_500 = pd.DataFrame(np.unique(plf_500))\n",
    "plf_500.columns = ['Protein Family ID']"
   ]
  },
  {
   "cell_type": "markdown",
   "metadata": {},
   "source": [
    "## RefSeq Mapping"
   ]
  },
  {
   "cell_type": "code",
   "execution_count": 258,
   "metadata": {},
   "outputs": [],
   "source": [
    "refseq = features[['BRC ID', 'RefSeq Locus Tag']]\n",
    "refseq.columns = ['BRC_ID', 'RefSeq']\n",
    "refseq.set_index('BRC_ID', inplace = True)"
   ]
  },
  {
   "cell_type": "code",
   "execution_count": 259,
   "metadata": {},
   "outputs": [],
   "source": [
    "plf_map_refseq = features[['RefSeq Locus Tag', 'PATRIC genus-specific families (PLfams)']][features['PATRIC genus-specific families (PLfams)'].isin(plf_500['Protein Family ID'])].reset_index(drop = True)\n",
    "plf_map_refseq.columns = ['RefSeq', 'PLF']\n",
    "plf_map_refseq.dropna(inplace = True)\n",
    "plf_map_refseq.reset_index(drop = True, inplace = True)"
   ]
  },
  {
   "cell_type": "code",
   "execution_count": 260,
   "metadata": {},
   "outputs": [
    {
     "data": {
      "text/html": [
       "<div>\n",
       "<style scoped>\n",
       "    .dataframe tbody tr th:only-of-type {\n",
       "        vertical-align: middle;\n",
       "    }\n",
       "\n",
       "    .dataframe tbody tr th {\n",
       "        vertical-align: top;\n",
       "    }\n",
       "\n",
       "    .dataframe thead th {\n",
       "        text-align: right;\n",
       "    }\n",
       "</style>\n",
       "<table border=\"1\" class=\"dataframe\">\n",
       "  <thead>\n",
       "    <tr style=\"text-align: right;\">\n",
       "      <th></th>\n",
       "      <th>RefSeq</th>\n",
       "      <th>PLF</th>\n",
       "    </tr>\n",
       "  </thead>\n",
       "  <tbody>\n",
       "    <tr>\n",
       "      <th>0</th>\n",
       "      <td>STM0934</td>\n",
       "      <td>PLF_590_00001917</td>\n",
       "    </tr>\n",
       "    <tr>\n",
       "      <th>1</th>\n",
       "      <td>STM0936</td>\n",
       "      <td>PLF_590_00003070</td>\n",
       "    </tr>\n",
       "    <tr>\n",
       "      <th>2</th>\n",
       "      <td>STM0942</td>\n",
       "      <td>PLF_590_00000215</td>\n",
       "    </tr>\n",
       "    <tr>\n",
       "      <th>3</th>\n",
       "      <td>STM0961</td>\n",
       "      <td>PLF_590_00001933</td>\n",
       "    </tr>\n",
       "    <tr>\n",
       "      <th>4</th>\n",
       "      <td>STM0969</td>\n",
       "      <td>PLF_590_00001385</td>\n",
       "    </tr>\n",
       "    <tr>\n",
       "      <th>...</th>\n",
       "      <td>...</td>\n",
       "      <td>...</td>\n",
       "    </tr>\n",
       "    <tr>\n",
       "      <th>487</th>\n",
       "      <td>STM0869</td>\n",
       "      <td>PLF_590_00002654</td>\n",
       "    </tr>\n",
       "    <tr>\n",
       "      <th>488</th>\n",
       "      <td>STM0874</td>\n",
       "      <td>PLF_590_00000196</td>\n",
       "    </tr>\n",
       "    <tr>\n",
       "      <th>489</th>\n",
       "      <td>STM0876</td>\n",
       "      <td>PLF_590_00001271</td>\n",
       "    </tr>\n",
       "    <tr>\n",
       "      <th>490</th>\n",
       "      <td>STM0889</td>\n",
       "      <td>PLF_590_00000747</td>\n",
       "    </tr>\n",
       "    <tr>\n",
       "      <th>491</th>\n",
       "      <td>STM0086</td>\n",
       "      <td>PLF_590_00000529</td>\n",
       "    </tr>\n",
       "  </tbody>\n",
       "</table>\n",
       "<p>492 rows × 2 columns</p>\n",
       "</div>"
      ],
      "text/plain": [
       "      RefSeq               PLF\n",
       "0    STM0934  PLF_590_00001917\n",
       "1    STM0936  PLF_590_00003070\n",
       "2    STM0942  PLF_590_00000215\n",
       "3    STM0961  PLF_590_00001933\n",
       "4    STM0969  PLF_590_00001385\n",
       "..       ...               ...\n",
       "487  STM0869  PLF_590_00002654\n",
       "488  STM0874  PLF_590_00000196\n",
       "489  STM0876  PLF_590_00001271\n",
       "490  STM0889  PLF_590_00000747\n",
       "491  STM0086  PLF_590_00000529\n",
       "\n",
       "[492 rows x 2 columns]"
      ]
     },
     "execution_count": 260,
     "metadata": {},
     "output_type": "execute_result"
    }
   ],
   "source": [
    "plf_map_refseq"
   ]
  },
  {
   "cell_type": "markdown",
   "metadata": {},
   "source": [
    "## Protein Interaction Network"
   ]
  },
  {
   "cell_type": "code",
   "execution_count": 261,
   "metadata": {},
   "outputs": [],
   "source": [
    "ppi_patric = pd.read_csv(f'{root}\\\\ppi_patric.csv')\n",
    "ppi_patric = ppi_patric[['Interactor A ID', 'Interactor B ID']].astype(\"string\")\n",
    "ppi_patric.columns = ['Interactor_A_ID', 'Interactor_B_ID']"
   ]
  },
  {
   "cell_type": "code",
   "execution_count": 262,
   "metadata": {},
   "outputs": [],
   "source": [
    "ppi_refseq = ppi_patric\n",
    "for i in range(len(ppi_refseq['Interactor_A_ID'])):\n",
    "    if ppi_refseq['Interactor_A_ID'][i] in list(refseq.index):\n",
    "        ppi_refseq.at[i, 'Interactor_A_ID'] = refseq.loc[ppi_refseq['Interactor_A_ID'][i]].RefSeq\n",
    "    else:\n",
    "        ppi_refseq.drop(inplace = True, labels = i)\n",
    "        \n",
    "ppi_refseq.reset_index(inplace = True, drop = True)\n",
    "        \n",
    "for i in range(len(ppi_refseq['Interactor_B_ID'])):\n",
    "    if ppi_refseq['Interactor_B_ID'][i]in (refseq.index):\n",
    "        ppi_refseq.at[i, 'Interactor_B_ID'] = refseq.loc[ppi_refseq['Interactor_B_ID'][i]].RefSeq\n",
    "    else:\n",
    "        ppi_refseq.drop(inplace = True, labels = i)"
   ]
  },
  {
   "cell_type": "code",
   "execution_count": 263,
   "metadata": {},
   "outputs": [
    {
     "name": "stderr",
     "output_type": "stream",
     "text": [
      "C:\\ProgramData\\Anaconda3\\lib\\site-packages\\ipykernel_launcher.py:6: SettingWithCopyWarning: \n",
      "A value is trying to be set on a copy of a slice from a DataFrame\n",
      "\n",
      "See the caveats in the documentation: https://pandas.pydata.org/pandas-docs/stable/user_guide/indexing.html#returning-a-view-versus-a-copy\n",
      "  \n",
      "C:\\ProgramData\\Anaconda3\\lib\\site-packages\\ipykernel_launcher.py:7: SettingWithCopyWarning: \n",
      "A value is trying to be set on a copy of a slice from a DataFrame\n",
      "\n",
      "See the caveats in the documentation: https://pandas.pydata.org/pandas-docs/stable/user_guide/indexing.html#returning-a-view-versus-a-copy\n",
      "  import sys\n"
     ]
    },
    {
     "data": {
      "text/html": [
       "<div>\n",
       "<style scoped>\n",
       "    .dataframe tbody tr th:only-of-type {\n",
       "        vertical-align: middle;\n",
       "    }\n",
       "\n",
       "    .dataframe tbody tr th {\n",
       "        vertical-align: top;\n",
       "    }\n",
       "\n",
       "    .dataframe thead th {\n",
       "        text-align: right;\n",
       "    }\n",
       "</style>\n",
       "<table border=\"1\" class=\"dataframe\">\n",
       "  <thead>\n",
       "    <tr style=\"text-align: right;\">\n",
       "      <th></th>\n",
       "      <th>Interactor_A_ID</th>\n",
       "      <th>Interactor_B_ID</th>\n",
       "      <th>weight</th>\n",
       "    </tr>\n",
       "  </thead>\n",
       "  <tbody>\n",
       "    <tr>\n",
       "      <th>0</th>\n",
       "      <td>STM0002</td>\n",
       "      <td>STM0003</td>\n",
       "      <td>323</td>\n",
       "    </tr>\n",
       "    <tr>\n",
       "      <th>1</th>\n",
       "      <td>STM0003</td>\n",
       "      <td>STM0002</td>\n",
       "      <td>323</td>\n",
       "    </tr>\n",
       "    <tr>\n",
       "      <th>2</th>\n",
       "      <td>STM0002</td>\n",
       "      <td>STM0067</td>\n",
       "      <td>411</td>\n",
       "    </tr>\n",
       "    <tr>\n",
       "      <th>3</th>\n",
       "      <td>STM0067</td>\n",
       "      <td>STM0002</td>\n",
       "      <td>411</td>\n",
       "    </tr>\n",
       "    <tr>\n",
       "      <th>4</th>\n",
       "      <td>STM0002</td>\n",
       "      <td>STM0097</td>\n",
       "      <td>436</td>\n",
       "    </tr>\n",
       "    <tr>\n",
       "      <th>...</th>\n",
       "      <td>...</td>\n",
       "      <td>...</td>\n",
       "      <td>...</td>\n",
       "    </tr>\n",
       "    <tr>\n",
       "      <th>105069</th>\n",
       "      <td>STM4585</td>\n",
       "      <td>STM4578</td>\n",
       "      <td>403</td>\n",
       "    </tr>\n",
       "    <tr>\n",
       "      <th>105070</th>\n",
       "      <td>STM4588</td>\n",
       "      <td>STM4589</td>\n",
       "      <td>627</td>\n",
       "    </tr>\n",
       "    <tr>\n",
       "      <th>105071</th>\n",
       "      <td>STM4589</td>\n",
       "      <td>STM4588</td>\n",
       "      <td>627</td>\n",
       "    </tr>\n",
       "    <tr>\n",
       "      <th>105072</th>\n",
       "      <td>STM4592</td>\n",
       "      <td>STM4593</td>\n",
       "      <td>173</td>\n",
       "    </tr>\n",
       "    <tr>\n",
       "      <th>105073</th>\n",
       "      <td>STM4593</td>\n",
       "      <td>STM4592</td>\n",
       "      <td>173</td>\n",
       "    </tr>\n",
       "  </tbody>\n",
       "</table>\n",
       "<p>105074 rows × 3 columns</p>\n",
       "</div>"
      ],
      "text/plain": [
       "       Interactor_A_ID Interactor_B_ID  weight\n",
       "0              STM0002         STM0003     323\n",
       "1              STM0003         STM0002     323\n",
       "2              STM0002         STM0067     411\n",
       "3              STM0067         STM0002     411\n",
       "4              STM0002         STM0097     436\n",
       "...                ...             ...     ...\n",
       "105069         STM4585         STM4578     403\n",
       "105070         STM4588         STM4589     627\n",
       "105071         STM4589         STM4588     627\n",
       "105072         STM4592         STM4593     173\n",
       "105073         STM4593         STM4592     173\n",
       "\n",
       "[105074 rows x 3 columns]"
      ]
     },
     "execution_count": 263,
     "metadata": {},
     "output_type": "execute_result"
    }
   ],
   "source": [
    "ppi_string = pd.read_csv(f'{root}\\\\ppi_string.txt', sep = ' ')\n",
    "ppi_string.columns = ['Interactor_A_ID', 'Interactor_B_ID', 'weight']\n",
    "ppi_string\n",
    "\n",
    "for i in ppi_string.index:\n",
    "    ppi_string['Interactor_A_ID'][i] = ppi_string['Interactor_A_ID'][i].split('.')[1]\n",
    "    ppi_string['Interactor_B_ID'][i] = ppi_string['Interactor_B_ID'][i].split('.')[1]\n",
    "ppi_string"
   ]
  },
  {
   "cell_type": "code",
   "execution_count": 264,
   "metadata": {},
   "outputs": [],
   "source": [
    "ppi = pd.DataFrame(pd.concat([ppi_refseq, ppi_string], axis = 0)[['Interactor_A_ID', 'Interactor_B_ID']]).reset_index(drop = True)"
   ]
  },
  {
   "cell_type": "code",
   "execution_count": 1,
   "metadata": {},
   "outputs": [
    {
     "ename": "NameError",
     "evalue": "name 'ppi' is not defined",
     "output_type": "error",
     "traceback": [
      "\u001b[1;31m---------------------------------------------------------------------------\u001b[0m",
      "\u001b[1;31mNameError\u001b[0m                                 Traceback (most recent call last)",
      "\u001b[1;32m<ipython-input-1-5cf7e747e4fd>\u001b[0m in \u001b[0;36m<module>\u001b[1;34m\u001b[0m\n\u001b[1;32m----> 1\u001b[1;33m \u001b[0mppi\u001b[0m\u001b[1;33m\u001b[0m\u001b[1;33m\u001b[0m\u001b[0m\n\u001b[0m",
      "\u001b[1;31mNameError\u001b[0m: name 'ppi' is not defined"
     ]
    }
   ],
   "source": [
    "ppi"
   ]
  },
  {
   "cell_type": "code",
   "execution_count": 265,
   "metadata": {},
   "outputs": [],
   "source": [
    "conserved_ppi_A = plf_map_refseq[plf_map_refseq['RefSeq'].isin(ppi['Interactor_A_ID'])]['RefSeq']\n",
    "conserved_ppi_B = plf_map_refseq[plf_map_refseq['RefSeq'].isin(ppi['Interactor_B_ID'])]['RefSeq']\n",
    "\n",
    "conserved_ppi = pd.DataFrame(pd.concat([conserved_ppi_A, conserved_ppi_B], axis = 0).drop_duplicates())"
   ]
  },
  {
   "cell_type": "code",
   "execution_count": 266,
   "metadata": {},
   "outputs": [],
   "source": [
    "AMR_ppi_A = AMR_refseq[AMR_refseq['AMR_RefSeq'].isin(ppi['Interactor_A_ID'])]['AMR_RefSeq']\n",
    "AMR_ppi_B = AMR_refseq[AMR_refseq['AMR_RefSeq'].isin(ppi['Interactor_B_ID'])]['AMR_RefSeq']\n",
    "\n",
    "AMR_ppi = pd.DataFrame(pd.concat([AMR_ppi_A, AMR_ppi_B], axis = 0))\n",
    "AMR_ppi.reset_index(drop=True, inplace=True)"
   ]
  },
  {
   "cell_type": "code",
   "execution_count": 267,
   "metadata": {},
   "outputs": [
    {
     "data": {
      "text/plain": [
       "66"
      ]
     },
     "execution_count": 267,
     "metadata": {},
     "output_type": "execute_result"
    }
   ],
   "source": [
    "AMR_ppi['AMR_RefSeq'].nunique()"
   ]
  },
  {
   "cell_type": "code",
   "execution_count": 268,
   "metadata": {},
   "outputs": [],
   "source": [
    "AMR_ppi.drop_duplicates(inplace = True)"
   ]
  },
  {
   "cell_type": "code",
   "execution_count": 269,
   "metadata": {},
   "outputs": [],
   "source": [
    "ppi_info = pd.DataFrame(columns = ['Conserved Gene', 'Shortest Path to an AMR gene (length)',])\n",
    "\n",
    "ppi_info['Conserved Gene'] = conserved_ppi.reset_index(drop = True)['RefSeq']"
   ]
  },
  {
   "cell_type": "code",
   "execution_count": 270,
   "metadata": {},
   "outputs": [],
   "source": [
    "ppi_graph = nx.from_pandas_edgelist(ppi, 'Interactor_A_ID', 'Interactor_B_ID')"
   ]
  },
  {
   "cell_type": "code",
   "execution_count": 271,
   "metadata": {},
   "outputs": [
    {
     "data": {
      "text/plain": [
       "56279"
      ]
     },
     "execution_count": 271,
     "metadata": {},
     "output_type": "execute_result"
    }
   ],
   "source": [
    "ppi_graph.number_of_edges()"
   ]
  },
  {
   "cell_type": "code",
   "execution_count": 272,
   "metadata": {},
   "outputs": [
    {
     "data": {
      "text/plain": [
       "3946"
      ]
     },
     "execution_count": 272,
     "metadata": {},
     "output_type": "execute_result"
    }
   ],
   "source": [
    "ppi_graph.number_of_nodes()"
   ]
  },
  {
   "cell_type": "code",
   "execution_count": 274,
   "metadata": {},
   "outputs": [],
   "source": [
    "idx = 0\n",
    "for i in conserved_ppi['RefSeq']:\n",
    "    lengths = []\n",
    "    for j in AMR_ppi['AMR_RefSeq']:\n",
    "        if nx.has_path(ppi_graph, i, j):\n",
    "            lengths.append(nx.shortest_path_length(ppi_graph, i, j))\n",
    "    if lengths:        \n",
    "        ppi_info['Shortest Path to an AMR gene (length)'][idx] = min(lengths)\n",
    "        \n",
    "    idx += 1"
   ]
  },
  {
   "cell_type": "code",
   "execution_count": 275,
   "metadata": {},
   "outputs": [],
   "source": [
    "plf_map_refseq = plf_map_refseq.set_index('RefSeq')"
   ]
  },
  {
   "cell_type": "code",
   "execution_count": 276,
   "metadata": {},
   "outputs": [],
   "source": [
    "for i in ppi_info['Shortest Path to an AMR gene (length)'].unique():\n",
    "    gene_set = ppi_info[ppi_info['Shortest Path to an AMR gene (length)'] == i]['Conserved Gene']\n",
    "    keys = plf_map_refseq.index.intersection(gene_set)\n",
    "    globals()[f'plf_length_{i}'] = plf_map_refseq.loc[list(keys)]['PLF']"
   ]
  },
  {
   "cell_type": "code",
   "execution_count": 281,
   "metadata": {},
   "outputs": [],
   "source": [
    "bacdir = f'{root}\\\\GeneSets\\\\PathLengths'\n",
    "\n",
    "os.mkdir(bacdir)\n",
    "\n",
    "for i in ppi_info['Shortest Path to an AMR gene (length)'].unique():\n",
    "    newdir = f'Length_{i}'\n",
    "    lendir = os.path.join(bacdir, newdir)\n",
    "    os.mkdir(lendir)\n",
    "    \n",
    "    sample = f'{root}\\\\Nguyen_et_al_2020\\\\fasta.500.0'\n",
    "    for strain in listdir(sample):\n",
    "        with open(os.path.join(lendir, strain), 'a') as mystrain:\n",
    "            with open(os.path.join(sample, strain), 'r') as sequences:\n",
    "                first_loop = True\n",
    "                for line in sequences:\n",
    "                    if line[0] == '>':\n",
    "                        if first_loop:\n",
    "                            plfam = line[1:len(line)-1]\n",
    "                            seq = ''\n",
    "                            first_loop = False\n",
    "                            continue\n",
    "                        if plfam in list((globals()[f'plf_length_{i}'])):\n",
    "                            mystrain.write('>' + plfam + '\\n')\n",
    "                            mystrain.write(seq)\n",
    "                        plfam = line[1:len(line)-1]\n",
    "                        seq = ''\n",
    "                    else:\n",
    "                        seq += line\n",
    "                if plfam in list((globals()[f'plf_length_{i}'])):\n",
    "                            mystrain.write('>' + plfam + '\\n')\n",
    "                            mystrain.write(seq)"
   ]
  },
  {
   "cell_type": "markdown",
   "metadata": {},
   "source": [
    "At this point, it is possible to use this new configuration of data to run the model\n",
    "\n",
    "Note we have 10 genes with length zero. This means that there are 10 conserved genes in the ppi annotated as AMR genes today, but they were not when the data from paper was collected. let's make groups of 10 genes to compare with the group of 10 AMR genes."
   ]
  },
  {
   "cell_type": "code",
   "execution_count": 277,
   "metadata": {},
   "outputs": [
    {
     "name": "stdout",
     "output_type": "stream",
     "text": [
      "   Shortest Path to an AMR gene (length)  Count\n",
      "0                                      0     10\n",
      "1                                      1    145\n",
      "2                                      2    261\n",
      "3                                      3     38\n",
      "4                                      4      4\n"
     ]
    }
   ],
   "source": [
    "print(ppi_info.groupby(['Shortest Path to an AMR gene (length)']).size().reset_index(name='Count'))"
   ]
  },
  {
   "cell_type": "markdown",
   "metadata": {},
   "source": [
    "Let's take as many non overlapping groups of 10 genes as we can:"
   ]
  },
  {
   "cell_type": "code",
   "execution_count": 307,
   "metadata": {},
   "outputs": [],
   "source": [
    "dir_genes = os.path.join(bacdir, '10genes')\n",
    "os.mkdir(dir_genes)\n",
    "\n",
    "num_genes = [10, 140, 260, 30]\n",
    "\n",
    "for i in range(4):\n",
    "    for j in range(1, int(num_genes[i]/10)+2):\n",
    "        repdir = os.path.join(dir_genes, f'length.{i}.{j}')\n",
    "        os.mkdir(repdir)"
   ]
  },
  {
   "cell_type": "code",
   "execution_count": 308,
   "metadata": {},
   "outputs": [],
   "source": [
    "for i in [1, 2, 3]:\n",
    "    j = 1\n",
    "    lendir = os.path.join(bacdir, f'Length_{i}')\n",
    "    for strain in listdir(lendir):\n",
    "        with open(os.path.join(lendir, strain), 'r') as sequences:\n",
    "            repdir = os.path.join(dir_genes, f'length.{i}.{j}')\n",
    "            c = 0\n",
    "            mystrain = open(os.path.join(repdir, strain), 'a')\n",
    "            first_loop = True        \n",
    "            for line in sequences:\n",
    "                if line[0] == '>':\n",
    "                    if first_loop:\n",
    "                        plfam = line\n",
    "                        seq = ''\n",
    "                        first_loop = False\n",
    "                        continue\n",
    "                    mystrain.write(plfam)\n",
    "                    mystrain.write(seq)\n",
    "                    plfam = line\n",
    "                    seq = ''\n",
    "                    c += 1\n",
    "                else:\n",
    "                    seq += line\n",
    "                if c == 10:\n",
    "                    mystrain.close()\n",
    "                    j += 1\n",
    "                    repdir = os.path.join(dir_genes, f'length.{i}.{j}')\n",
    "                    c = 0\n",
    "                    mystrain = open(os.path.join(repdir, strain), 'a')\n",
    "            j = 1\n",
    "            mystrain.close()"
   ]
  },
  {
   "cell_type": "code",
   "execution_count": null,
   "metadata": {},
   "outputs": [],
   "source": []
  }
 ],
 "metadata": {
  "kernelspec": {
   "display_name": "Python 3",
   "language": "python",
   "name": "python3"
  },
  "language_info": {
   "codemirror_mode": {
    "name": "ipython",
    "version": 3
   },
   "file_extension": ".py",
   "mimetype": "text/x-python",
   "name": "python",
   "nbconvert_exporter": "python",
   "pygments_lexer": "ipython3",
   "version": "3.7.6"
  }
 },
 "nbformat": 4,
 "nbformat_minor": 4
}
