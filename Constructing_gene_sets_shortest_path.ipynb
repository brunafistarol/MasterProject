{
 "cells": [
  {
   "cell_type": "code",
   "execution_count": 3,
   "metadata": {},
   "outputs": [],
   "source": [
    "import pandas as pd\n",
    "import numpy as np\n",
    "import networkx as nx\n",
    "import os\n",
    "from os import listdir\n",
    "import random"
   ]
  },
  {
   "cell_type": "markdown",
   "metadata": {},
   "source": [
    "# Constructing Gene Sets Using Shortest Path from an AMR gene to conserved gene\n",
    "\n",
    "This following steps allow to construct gene sets to run the model from Nguyen et. al. based on shortest path of conserved genes obtained considering the distance from a conserved gene to an AMR gene. We are working with the following subspecies choosed to have the same RefSeq on PATRIC database and STRING:\n",
    "\n",
    "- Klebsiella pneumoniae subsp. pneumoniae MGH 78578\n",
    "- Mycobacterium tuberculosis H37Rv\n",
    "- Salmonella enterica subsp. enterica serovar Typhimurium str. LT2\n",
    "- Staphylococcus aureus subsp. aureus NCTC 8325"
   ]
  },
  {
   "cell_type": "code",
   "execution_count": 195,
   "metadata": {},
   "outputs": [],
   "source": [
    "bacteria = ['Mycobacterium', 'Klebsiella', 'Salmonella', 'Staphylococcus']"
   ]
  },
  {
   "cell_type": "markdown",
   "metadata": {},
   "source": [
    "To construct gene sets for a specific bacteria, modify the index below according to the list above"
   ]
  },
  {
   "cell_type": "code",
   "execution_count": 221,
   "metadata": {},
   "outputs": [],
   "source": [
    "root = os.getcwd() + '\\\\' + bacteria[3] "
   ]
  },
  {
   "cell_type": "markdown",
   "metadata": {},
   "source": [
    "# Data From PATRIC"
   ]
  },
  {
   "cell_type": "markdown",
   "metadata": {},
   "source": [
    "## Genomic Features\n",
    "\n",
    "The table below contains a list of genomic features, including coding DNA.\n",
    "\n",
    "Each feature is identified by BRC ID from PATRIC and associated to a protein family referred as PATRIC genus-specific families (PLfams). Most of the genes has the associated Protein ID."
   ]
  },
  {
   "cell_type": "code",
   "execution_count": 222,
   "metadata": {},
   "outputs": [],
   "source": [
    "features = pd.read_csv(f'{root}\\\\genome_features.csv')"
   ]
  },
  {
   "cell_type": "code",
   "execution_count": 223,
   "metadata": {},
   "outputs": [
    {
     "name": "stdout",
     "output_type": "stream",
     "text": [
      "<class 'pandas.core.frame.DataFrame'>\n",
      "RangeIndex: 2755 entries, 0 to 2754\n",
      "Data columns (total 21 columns):\n",
      " #   Column                                   Non-Null Count  Dtype  \n",
      "---  ------                                   --------------  -----  \n",
      " 0   Genome                                   2755 non-null   object \n",
      " 1   Genome ID                                2755 non-null   float64\n",
      " 2   Accession                                2755 non-null   object \n",
      " 3   BRC ID                                   2755 non-null   object \n",
      " 4   RefSeq Locus Tag                         2681 non-null   object \n",
      " 5   Alt Locus Tag                            2755 non-null   object \n",
      " 6   Feature ID                               2755 non-null   object \n",
      " 7   Annotation                               2755 non-null   object \n",
      " 8   Feature Type                             2755 non-null   object \n",
      " 9   Start                                    2755 non-null   int64  \n",
      " 10  End                                      2755 non-null   int64  \n",
      " 11  Length                                   2755 non-null   int64  \n",
      " 12  Strand                                   2755 non-null   object \n",
      " 13  FIGfam ID                                2727 non-null   object \n",
      " 14  PATRIC genus-specific families (PLfams)  2754 non-null   object \n",
      " 15  PATRIC cross-genus families (PGfams)     2754 non-null   object \n",
      " 16  Protein ID                               2681 non-null   object \n",
      " 17  AA Length                                2755 non-null   int64  \n",
      " 18  Gene Symbol                              207 non-null    object \n",
      " 19  Product                                  2755 non-null   object \n",
      " 20  GO                                       726 non-null    object \n",
      "dtypes: float64(1), int64(4), object(16)\n",
      "memory usage: 452.1+ KB\n"
     ]
    }
   ],
   "source": [
    "features.info()"
   ]
  },
  {
   "cell_type": "markdown",
   "metadata": {},
   "source": [
    "Through this table, we extract useful data to map protein families referred by Nguyen et. al.:"
   ]
  },
  {
   "cell_type": "code",
   "execution_count": 224,
   "metadata": {},
   "outputs": [
    {
     "data": {
      "text/html": [
       "<div>\n",
       "<style scoped>\n",
       "    .dataframe tbody tr th:only-of-type {\n",
       "        vertical-align: middle;\n",
       "    }\n",
       "\n",
       "    .dataframe tbody tr th {\n",
       "        vertical-align: top;\n",
       "    }\n",
       "\n",
       "    .dataframe thead th {\n",
       "        text-align: right;\n",
       "    }\n",
       "</style>\n",
       "<table border=\"1\" class=\"dataframe\">\n",
       "  <thead>\n",
       "    <tr style=\"text-align: right;\">\n",
       "      <th></th>\n",
       "      <th>PLFam</th>\n",
       "    </tr>\n",
       "    <tr>\n",
       "      <th>BRC_ID</th>\n",
       "      <th></th>\n",
       "    </tr>\n",
       "  </thead>\n",
       "  <tbody>\n",
       "    <tr>\n",
       "      <th>fig|93061.5.peg.943</th>\n",
       "      <td>PLF_1279_00001903</td>\n",
       "    </tr>\n",
       "    <tr>\n",
       "      <th>fig|93061.5.peg.944</th>\n",
       "      <td>PLF_1279_00000989</td>\n",
       "    </tr>\n",
       "    <tr>\n",
       "      <th>fig|93061.5.peg.945</th>\n",
       "      <td>PLF_1279_00001254</td>\n",
       "    </tr>\n",
       "    <tr>\n",
       "      <th>fig|93061.5.peg.946</th>\n",
       "      <td>PLF_1279_00000620</td>\n",
       "    </tr>\n",
       "    <tr>\n",
       "      <th>fig|93061.5.peg.947</th>\n",
       "      <td>PLF_1279_00085250</td>\n",
       "    </tr>\n",
       "    <tr>\n",
       "      <th>...</th>\n",
       "      <td>...</td>\n",
       "    </tr>\n",
       "    <tr>\n",
       "      <th>fig|93061.5.peg.83</th>\n",
       "      <td>PLF_1279_00002111</td>\n",
       "    </tr>\n",
       "    <tr>\n",
       "      <th>fig|93061.5.peg.939</th>\n",
       "      <td>PLF_1279_00000867</td>\n",
       "    </tr>\n",
       "    <tr>\n",
       "      <th>fig|93061.5.peg.940</th>\n",
       "      <td>PLF_1279_00000994</td>\n",
       "    </tr>\n",
       "    <tr>\n",
       "      <th>fig|93061.5.peg.941</th>\n",
       "      <td>PLF_1279_00000907</td>\n",
       "    </tr>\n",
       "    <tr>\n",
       "      <th>fig|93061.5.peg.942</th>\n",
       "      <td>PLF_1279_00000657</td>\n",
       "    </tr>\n",
       "  </tbody>\n",
       "</table>\n",
       "<p>2755 rows × 1 columns</p>\n",
       "</div>"
      ],
      "text/plain": [
       "                                 PLFam\n",
       "BRC_ID                                \n",
       "fig|93061.5.peg.943  PLF_1279_00001903\n",
       "fig|93061.5.peg.944  PLF_1279_00000989\n",
       "fig|93061.5.peg.945  PLF_1279_00001254\n",
       "fig|93061.5.peg.946  PLF_1279_00000620\n",
       "fig|93061.5.peg.947  PLF_1279_00085250\n",
       "...                                ...\n",
       "fig|93061.5.peg.83   PLF_1279_00002111\n",
       "fig|93061.5.peg.939  PLF_1279_00000867\n",
       "fig|93061.5.peg.940  PLF_1279_00000994\n",
       "fig|93061.5.peg.941  PLF_1279_00000907\n",
       "fig|93061.5.peg.942  PLF_1279_00000657\n",
       "\n",
       "[2755 rows x 1 columns]"
      ]
     },
     "execution_count": 224,
     "metadata": {},
     "output_type": "execute_result"
    }
   ],
   "source": [
    "plf = features[['BRC ID', 'PATRIC genus-specific families (PLfams)']].astype(\"string\")\n",
    "plf.columns = ['BRC_ID', 'PLFam']\n",
    "plf.set_index('BRC_ID', inplace = True)\n",
    "plf"
   ]
  },
  {
   "cell_type": "markdown",
   "metadata": {},
   "source": [
    "## Specialty Genes\n",
    "\n",
    "A table containing AMR genes for this specie according to PATRIC."
   ]
  },
  {
   "cell_type": "code",
   "execution_count": 225,
   "metadata": {},
   "outputs": [],
   "source": [
    "AMR_refseq = pd.DataFrame(pd.read_csv(f'{root}\\\\specialty_genes.csv')['RefSeq Locus Tag'])\n",
    "AMR_refseq.columns = ['AMR_RefSeq']"
   ]
  },
  {
   "cell_type": "markdown",
   "metadata": {},
   "source": [
    "## Data from Nguyen et. al."
   ]
  },
  {
   "cell_type": "code",
   "execution_count": 226,
   "metadata": {},
   "outputs": [],
   "source": [
    "plf_500 = []\n",
    "\n",
    "datadir = root + '\\\\Nguyen_et_al_2020\\\\fasta.500.0'\n",
    "for strain in listdir(datadir):\n",
    "    with open(os.path.join(datadir, strain), 'r') as sequences:\n",
    "        for line in sequences:\n",
    "            if line[0] == '>':\n",
    "                plf_500.append(line[1:len(line)-1])\n",
    "                \n",
    "plf_500 = pd.DataFrame(np.unique(plf_500))\n",
    "plf_500.columns = ['Protein Family ID']"
   ]
  },
  {
   "cell_type": "markdown",
   "metadata": {},
   "source": [
    "## RefSeq Mapping"
   ]
  },
  {
   "cell_type": "code",
   "execution_count": 227,
   "metadata": {},
   "outputs": [],
   "source": [
    "refseq = features[['BRC ID', 'RefSeq Locus Tag']]\n",
    "refseq.columns = ['BRC_ID', 'RefSeq']\n",
    "refseq.set_index('BRC_ID', inplace = True)"
   ]
  },
  {
   "cell_type": "code",
   "execution_count": 228,
   "metadata": {},
   "outputs": [],
   "source": [
    "plf_map_refseq = features[['RefSeq Locus Tag', 'PATRIC genus-specific families (PLfams)']][features['PATRIC genus-specific families (PLfams)'].isin(plf_500['Protein Family ID'])].reset_index(drop = True)\n",
    "plf_map_refseq.columns = ['RefSeq', 'PLF']\n",
    "plf_map_refseq.dropna(inplace = True)\n",
    "plf_map_refseq.reset_index(drop = True, inplace = True)"
   ]
  },
  {
   "cell_type": "code",
   "execution_count": 229,
   "metadata": {},
   "outputs": [
    {
     "data": {
      "text/html": [
       "<div>\n",
       "<style scoped>\n",
       "    .dataframe tbody tr th:only-of-type {\n",
       "        vertical-align: middle;\n",
       "    }\n",
       "\n",
       "    .dataframe tbody tr th {\n",
       "        vertical-align: top;\n",
       "    }\n",
       "\n",
       "    .dataframe thead th {\n",
       "        text-align: right;\n",
       "    }\n",
       "</style>\n",
       "<table border=\"1\" class=\"dataframe\">\n",
       "  <thead>\n",
       "    <tr style=\"text-align: right;\">\n",
       "      <th></th>\n",
       "      <th>RefSeq</th>\n",
       "      <th>PLF</th>\n",
       "    </tr>\n",
       "  </thead>\n",
       "  <tbody>\n",
       "    <tr>\n",
       "      <th>0</th>\n",
       "      <td>SAOUHSC_01030</td>\n",
       "      <td>PLF_1279_00001903</td>\n",
       "    </tr>\n",
       "    <tr>\n",
       "      <th>1</th>\n",
       "      <td>SAOUHSC_01038</td>\n",
       "      <td>PLF_1279_00000817</td>\n",
       "    </tr>\n",
       "    <tr>\n",
       "      <th>2</th>\n",
       "      <td>SAOUHSC_01044</td>\n",
       "      <td>PLF_1279_00002027</td>\n",
       "    </tr>\n",
       "    <tr>\n",
       "      <th>3</th>\n",
       "      <td>SAOUHSC_01045</td>\n",
       "      <td>PLF_1279_00062515</td>\n",
       "    </tr>\n",
       "    <tr>\n",
       "      <th>4</th>\n",
       "      <td>SAOUHSC_01047</td>\n",
       "      <td>PLF_1279_00000667</td>\n",
       "    </tr>\n",
       "    <tr>\n",
       "      <th>...</th>\n",
       "      <td>...</td>\n",
       "      <td>...</td>\n",
       "    </tr>\n",
       "    <tr>\n",
       "      <th>494</th>\n",
       "      <td>SAOUHSC_01011</td>\n",
       "      <td>PLF_1279_00000821</td>\n",
       "    </tr>\n",
       "    <tr>\n",
       "      <th>495</th>\n",
       "      <td>SAOUHSC_01016</td>\n",
       "      <td>PLF_1279_00000658</td>\n",
       "    </tr>\n",
       "    <tr>\n",
       "      <th>496</th>\n",
       "      <td>SAOUHSC_01019</td>\n",
       "      <td>PLF_1279_00001408</td>\n",
       "    </tr>\n",
       "    <tr>\n",
       "      <th>497</th>\n",
       "      <td>SAOUHSC_01021</td>\n",
       "      <td>PLF_1279_00000378</td>\n",
       "    </tr>\n",
       "    <tr>\n",
       "      <th>498</th>\n",
       "      <td>SAOUHSC_00093</td>\n",
       "      <td>PLF_1279_00002111</td>\n",
       "    </tr>\n",
       "  </tbody>\n",
       "</table>\n",
       "<p>499 rows × 2 columns</p>\n",
       "</div>"
      ],
      "text/plain": [
       "            RefSeq                PLF\n",
       "0    SAOUHSC_01030  PLF_1279_00001903\n",
       "1    SAOUHSC_01038  PLF_1279_00000817\n",
       "2    SAOUHSC_01044  PLF_1279_00002027\n",
       "3    SAOUHSC_01045  PLF_1279_00062515\n",
       "4    SAOUHSC_01047  PLF_1279_00000667\n",
       "..             ...                ...\n",
       "494  SAOUHSC_01011  PLF_1279_00000821\n",
       "495  SAOUHSC_01016  PLF_1279_00000658\n",
       "496  SAOUHSC_01019  PLF_1279_00001408\n",
       "497  SAOUHSC_01021  PLF_1279_00000378\n",
       "498  SAOUHSC_00093  PLF_1279_00002111\n",
       "\n",
       "[499 rows x 2 columns]"
      ]
     },
     "execution_count": 229,
     "metadata": {},
     "output_type": "execute_result"
    }
   ],
   "source": [
    "plf_map_refseq"
   ]
  },
  {
   "cell_type": "markdown",
   "metadata": {},
   "source": [
    "## Protein Interaction Network"
   ]
  },
  {
   "cell_type": "code",
   "execution_count": 230,
   "metadata": {},
   "outputs": [],
   "source": [
    "ppi_patric = pd.read_csv(f'{root}\\\\ppi_patric.csv')\n",
    "ppi_patric = ppi_patric[['Interactor A ID', 'Interactor B ID']].astype(\"string\")\n",
    "ppi_patric.columns = ['Interactor_A_ID', 'Interactor_B_ID']"
   ]
  },
  {
   "cell_type": "code",
   "execution_count": 231,
   "metadata": {},
   "outputs": [],
   "source": [
    "ppi_refseq = ppi_patric\n",
    "for i in range(len(ppi_refseq['Interactor_A_ID'])):\n",
    "    if ppi_refseq['Interactor_A_ID'][i] in list(refseq.index):\n",
    "        ppi_refseq.at[i, 'Interactor_A_ID'] = refseq.loc[ppi_refseq['Interactor_A_ID'][i]].RefSeq\n",
    "    else:\n",
    "        ppi_refseq.drop(inplace = True, labels = i)\n",
    "        \n",
    "ppi_refseq.reset_index(inplace = True, drop = True)\n",
    "        \n",
    "for i in range(len(ppi_refseq['Interactor_B_ID'])):\n",
    "    if ppi_refseq['Interactor_B_ID'][i]in (refseq.index):\n",
    "        ppi_refseq.at[i, 'Interactor_B_ID'] = refseq.loc[ppi_refseq['Interactor_B_ID'][i]].RefSeq\n",
    "    else:\n",
    "        ppi_refseq.drop(inplace = True, labels = i)"
   ]
  },
  {
   "cell_type": "code",
   "execution_count": 232,
   "metadata": {},
   "outputs": [],
   "source": [
    "ppi_string = pd.read_csv(f'{root}\\\\ppi_string.txt', sep = ' ')\n",
    "ppi_string.columns = ['Interactor_A_ID', 'Interactor_B_ID', 'weight']\n",
    "ppi_string.replace('93061.', '', regex = True, inplace = True)"
   ]
  },
  {
   "cell_type": "code",
   "execution_count": 233,
   "metadata": {},
   "outputs": [],
   "source": [
    "ppi = pd.DataFrame(pd.concat([ppi_refseq, ppi_string], axis = 0)[['Interactor_A_ID', 'Interactor_B_ID']]).reset_index(drop = True)"
   ]
  },
  {
   "cell_type": "code",
   "execution_count": 234,
   "metadata": {},
   "outputs": [],
   "source": [
    "conserved_ppi_A = plf_map_refseq[plf_map_refseq['RefSeq'].isin(ppi['Interactor_A_ID'])]['RefSeq']\n",
    "conserved_ppi_B = plf_map_refseq[plf_map_refseq['RefSeq'].isin(ppi['Interactor_B_ID'])]['RefSeq']\n",
    "\n",
    "conserved_ppi = pd.DataFrame(pd.concat([conserved_ppi_A, conserved_ppi_B], axis = 0).drop_duplicates())"
   ]
  },
  {
   "cell_type": "code",
   "execution_count": 235,
   "metadata": {},
   "outputs": [],
   "source": [
    "AMR_ppi_A = AMR_refseq[AMR_refseq['AMR_RefSeq'].isin(ppi['Interactor_A_ID'])]['AMR_RefSeq']\n",
    "AMR_ppi_B = AMR_refseq[AMR_refseq['AMR_RefSeq'].isin(ppi['Interactor_B_ID'])]['AMR_RefSeq']\n",
    "\n",
    "AMR_ppi = pd.DataFrame(pd.concat([AMR_ppi_A, AMR_ppi_B], axis = 0))\n",
    "AMR_ppi.reset_index(drop=True, inplace=True)"
   ]
  },
  {
   "cell_type": "code",
   "execution_count": 236,
   "metadata": {},
   "outputs": [
    {
     "data": {
      "text/plain": [
       "43"
      ]
     },
     "execution_count": 236,
     "metadata": {},
     "output_type": "execute_result"
    }
   ],
   "source": [
    "AMR_ppi['AMR_RefSeq'].nunique()"
   ]
  },
  {
   "cell_type": "code",
   "execution_count": 237,
   "metadata": {},
   "outputs": [],
   "source": [
    "AMR_ppi.drop_duplicates(inplace = True)"
   ]
  },
  {
   "cell_type": "code",
   "execution_count": 238,
   "metadata": {},
   "outputs": [],
   "source": [
    "ppi_info = pd.DataFrame(columns = ['Conserved Gene', 'Shortest Path to an AMR gene (length)',])\n",
    "\n",
    "ppi_info['Conserved Gene'] = conserved_ppi.reset_index(drop = True)['RefSeq']"
   ]
  },
  {
   "cell_type": "code",
   "execution_count": 239,
   "metadata": {},
   "outputs": [],
   "source": [
    "ppi_graph = nx.from_pandas_edgelist(ppi, 'Interactor_A_ID', 'Interactor_B_ID')"
   ]
  },
  {
   "cell_type": "code",
   "execution_count": 240,
   "metadata": {},
   "outputs": [
    {
     "data": {
      "text/plain": [
       "32881"
      ]
     },
     "execution_count": 240,
     "metadata": {},
     "output_type": "execute_result"
    }
   ],
   "source": [
    "ppi_graph.number_of_edges()"
   ]
  },
  {
   "cell_type": "code",
   "execution_count": 241,
   "metadata": {},
   "outputs": [
    {
     "data": {
      "text/plain": [
       "1893"
      ]
     },
     "execution_count": 241,
     "metadata": {},
     "output_type": "execute_result"
    }
   ],
   "source": [
    "ppi_graph.number_of_nodes()"
   ]
  },
  {
   "cell_type": "code",
   "execution_count": 242,
   "metadata": {},
   "outputs": [],
   "source": [
    "idx = 0\n",
    "for i in conserved_ppi['RefSeq']:\n",
    "    lengths = []\n",
    "    for j in AMR_ppi['AMR_RefSeq']:\n",
    "        if nx.has_path(ppi_graph, i, j):\n",
    "            lengths.append(nx.shortest_path_length(ppi_graph, i, j))\n",
    "    if lengths:        \n",
    "        ppi_info['Shortest Path to an AMR gene (length)'][idx] = min(lengths)\n",
    "        \n",
    "    idx += 1"
   ]
  },
  {
   "cell_type": "code",
   "execution_count": 243,
   "metadata": {},
   "outputs": [],
   "source": [
    "plf_map_refseq = plf_map_refseq.set_index('RefSeq')"
   ]
  },
  {
   "cell_type": "code",
   "execution_count": 244,
   "metadata": {},
   "outputs": [],
   "source": [
    "for i in ppi_info['Shortest Path to an AMR gene (length)'].unique():\n",
    "    gene_set = ppi_info[ppi_info['Shortest Path to an AMR gene (length)'] == i]['Conserved Gene']\n",
    "    keys = plf_map_refseq.index.intersection(gene_set)\n",
    "    globals()[f'plf_length_{i}'] = plf_map_refseq.loc[list(keys)]['PLF']"
   ]
  },
  {
   "cell_type": "code",
   "execution_count": 151,
   "metadata": {},
   "outputs": [],
   "source": [
    "bacdir = f'{root}\\\\GeneSets\\\\PathLengths'\n",
    "\n",
    "os.mkdir(bacdir)\n",
    "\n",
    "for i in ppi_info['Shortest Path to an AMR gene (length)'].unique():\n",
    "    newdir = f'Length_{i}'\n",
    "    lendir = os.path.join(bacdir, newdir)\n",
    "    os.mkdir(lendir)\n",
    "    \n",
    "    sample = f'{root}\\\\Nguyen_et_al_2020\\\\fasta.500.0'\n",
    "    for strain in listdir(sample):\n",
    "        with open(os.path.join(lendir, strain), 'a') as mystrain:\n",
    "            with open(os.path.join(sample, strain), 'r') as sequences:\n",
    "                first_loop = True\n",
    "                for line in sequences:\n",
    "                    if line[0] == '>':\n",
    "                        if first_loop:\n",
    "                            plfam = line[1:len(line)-1]\n",
    "                            seq = ''\n",
    "                            first_loop = False\n",
    "                            continue\n",
    "                        if plfam in list((globals()[f'plf_length_{i}'])):\n",
    "                            mystrain.write('>' + plfam + '\\n')\n",
    "                            mystrain.write(seq)\n",
    "                        plfam = line[1:len(line)-1]\n",
    "                        seq = ''\n",
    "                    else:\n",
    "                        seq += line\n",
    "                if plfam in list((globals()[f'plf_length_{i}'])):\n",
    "                            mystrain.write('>' + plfam + '\\n')\n",
    "                            mystrain.write(seq)"
   ]
  },
  {
   "cell_type": "markdown",
   "metadata": {},
   "source": [
    "At this point, it is possible to use this new configuration of data to run the model\n",
    "\n",
    "Klebsiella: we can take 25 genes to each strain for different path lengths (1, 2, 3 and 4), because the results from the paper also are derived from groups of 25 genes, hence, we can compare these results.\n",
    "\n",
    "Salmonella: note we have 10 genes with length zero. This means that there are 10 conserved genes in the ppi annotated as AMR genes today, but they were not when the data from paper was collected. let's make groups of 10 genes to compare with the group of 10 AMR genes."
   ]
  },
  {
   "cell_type": "code",
   "execution_count": 245,
   "metadata": {},
   "outputs": [
    {
     "name": "stdout",
     "output_type": "stream",
     "text": [
      "   Shortest Path to an AMR gene (length)  Count\n",
      "0                                      0      1\n",
      "1                                      1    171\n",
      "2                                      2    192\n",
      "3                                      3     22\n"
     ]
    }
   ],
   "source": [
    "print(ppi_info.groupby(['Shortest Path to an AMR gene (length)']).size().reset_index(name='Count'))"
   ]
  },
  {
   "cell_type": "code",
   "execution_count": 126,
   "metadata": {},
   "outputs": [],
   "source": [
    "dir_25genes = os.path.join(bacdir, '25genes')\n",
    "os.mkdir(dir_25genes)\n",
    "\n",
    "#Klebsiella\n",
    "# rand_idx = [sorted(random.sample(range(29), 25)), \n",
    "#             sorted(random.sample(range(52), 25)), \n",
    "#             sorted(random.sample(range(82), 25)),\n",
    "#             sorted(random.sample(range(36), 25)),\n",
    "\n",
    "#Salmonella\n",
    "rand_idx = [sorted(random.sample(range(10), 10)), \n",
    "            sorted(random.sample(range(21), 10)), \n",
    "            sorted(random.sample(range(42), 10)),\n",
    "            sorted(random.sample(range(77), 10)),\n",
    "            sorted(random.sample(range(49), 10)),\n",
    "            sorted(random.sample(range(43), 10)),\n",
    "            sorted(random.sample(range(15), 10)),\n",
    "            sorted(random.sample(range(13), 10))]\n",
    "\n",
    "for i in range(1, len(rand_idx)+1):   \n",
    "\n",
    "    lendir = os.path.join(bacdir, f'Length_{i}')\n",
    "    repdir = os.path.join(dir_25genes, f'length.{i}')\n",
    "    os.mkdir(repdir)\n",
    "\n",
    "    for strain in listdir(lendir):\n",
    "        with open(os.path.join(repdir, strain), 'a') as mystrain:\n",
    "            with open(os.path.join(lendir, strain), 'r') as sequences:\n",
    "                c = 0\n",
    "                first_loop = True\n",
    "                for line in sequences:\n",
    "                    if line[0] == '>':\n",
    "                        if first_loop:\n",
    "                            plfam = line\n",
    "                            seq = ''\n",
    "                            first_loop = False\n",
    "                            continue\n",
    "                        if c in rand_idx[i-1]:\n",
    "                            mystrain.write(plfam)\n",
    "                            mystrain.write(seq)\n",
    "                        plfam = line\n",
    "                        seq = ''\n",
    "                        c += 1\n",
    "                    else:\n",
    "                        seq += line\n",
    "                if c in rand_idx[i-1]:\n",
    "                        mystrain.write(plfam)\n",
    "                        mystrain.write(seq)"
   ]
  },
  {
   "cell_type": "markdown",
   "metadata": {},
   "source": [
    "# Randomizing AMR labels"
   ]
  }
 ],
 "metadata": {
  "kernelspec": {
   "display_name": "Python 3",
   "language": "python",
   "name": "python3"
  },
  "language_info": {
   "codemirror_mode": {
    "name": "ipython",
    "version": 3
   },
   "file_extension": ".py",
   "mimetype": "text/x-python",
   "name": "python",
   "nbconvert_exporter": "python",
   "pygments_lexer": "ipython3",
   "version": "3.7.6"
  }
 },
 "nbformat": 4,
 "nbformat_minor": 4
}
