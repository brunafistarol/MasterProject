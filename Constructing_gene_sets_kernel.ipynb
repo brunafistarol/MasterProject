{
 "cells": [
  {
   "cell_type": "code",
   "execution_count": 2,
   "metadata": {},
   "outputs": [],
   "source": [
    "import pandas as pd\n",
    "import numpy as np\n",
    "import networkx as nx\n",
    "import os\n",
    "from os import listdir\n",
    "import random"
   ]
  },
  {
   "cell_type": "markdown",
   "metadata": {},
   "source": [
    "# Constructing Gene Sets Using Kernel Scores\n",
    "\n",
    "This following steps allow to construct gene sets to run the model from Nguyen et. al. based on kernel scores of conserved genes obtained considering the distance from a conserved gene to an AMR gene. We are working with the following subspecies choosed to have the same RefSeq on PATRIC database and STRING:\n",
    "\n",
    "- Salmonella enterica subsp. enterica serovar Typhimurium str. LT2\n"
   ]
  },
  {
   "cell_type": "code",
   "execution_count": 3,
   "metadata": {},
   "outputs": [],
   "source": [
    "bacteria = 'Salmonella'"
   ]
  },
  {
   "cell_type": "markdown",
   "metadata": {},
   "source": [
    "To construct gene sets for a specific bacteria, modify the index below according to the list above"
   ]
  },
  {
   "cell_type": "code",
   "execution_count": 4,
   "metadata": {},
   "outputs": [],
   "source": [
    "root = os.getcwd() + '\\\\' + bacteria"
   ]
  },
  {
   "cell_type": "markdown",
   "metadata": {},
   "source": [
    "# Data From PATRIC"
   ]
  },
  {
   "cell_type": "markdown",
   "metadata": {},
   "source": [
    "## Genomic Features\n",
    "\n",
    "The table below contains a list of genomic features, including coding DNA.\n",
    "\n",
    "Each feature is solely identified by BRC ID and associated to a protein family referred as PATRIC genus-specific families (PLfams). Most of the genes has the associated RefSeq."
   ]
  },
  {
   "cell_type": "code",
   "execution_count": 5,
   "metadata": {},
   "outputs": [],
   "source": [
    "features = pd.read_csv(f'{root}\\\\genome_features.csv')"
   ]
  },
  {
   "cell_type": "code",
   "execution_count": 6,
   "metadata": {},
   "outputs": [
    {
     "name": "stdout",
     "output_type": "stream",
     "text": [
      "<class 'pandas.core.frame.DataFrame'>\n",
      "RangeIndex: 4970 entries, 0 to 4969\n",
      "Data columns (total 21 columns):\n",
      " #   Column                                   Non-Null Count  Dtype  \n",
      "---  ------                                   --------------  -----  \n",
      " 0   Genome                                   4970 non-null   object \n",
      " 1   Genome ID                                4970 non-null   float64\n",
      " 2   Accession                                4970 non-null   object \n",
      " 3   BRC ID                                   4970 non-null   object \n",
      " 4   RefSeq Locus Tag                         4460 non-null   object \n",
      " 5   Alt Locus Tag                            4970 non-null   object \n",
      " 6   Feature ID                               4970 non-null   object \n",
      " 7   Annotation                               4970 non-null   object \n",
      " 8   Feature Type                             4970 non-null   object \n",
      " 9   Start                                    4970 non-null   int64  \n",
      " 10  End                                      4970 non-null   int64  \n",
      " 11  Length                                   4970 non-null   int64  \n",
      " 12  Strand                                   4970 non-null   object \n",
      " 13  FIGfam ID                                4908 non-null   object \n",
      " 14  PATRIC genus-specific families (PLfams)  4970 non-null   object \n",
      " 15  PATRIC cross-genus families (PGfams)     4970 non-null   object \n",
      " 16  Protein ID                               4460 non-null   object \n",
      " 17  AA Length                                4970 non-null   int64  \n",
      " 18  Gene Symbol                              3297 non-null   object \n",
      " 19  Product                                  4970 non-null   object \n",
      " 20  GO                                       1129 non-null   object \n",
      "dtypes: float64(1), int64(4), object(16)\n",
      "memory usage: 815.5+ KB\n"
     ]
    }
   ],
   "source": [
    "features.info()"
   ]
  },
  {
   "cell_type": "markdown",
   "metadata": {},
   "source": [
    "Through this table, we extract useful data to map protein families referred by Nguyen et. al.:"
   ]
  },
  {
   "cell_type": "code",
   "execution_count": 7,
   "metadata": {},
   "outputs": [
    {
     "data": {
      "text/html": [
       "<div>\n",
       "<style scoped>\n",
       "    .dataframe tbody tr th:only-of-type {\n",
       "        vertical-align: middle;\n",
       "    }\n",
       "\n",
       "    .dataframe tbody tr th {\n",
       "        vertical-align: top;\n",
       "    }\n",
       "\n",
       "    .dataframe thead th {\n",
       "        text-align: right;\n",
       "    }\n",
       "</style>\n",
       "<table border=\"1\" class=\"dataframe\">\n",
       "  <thead>\n",
       "    <tr style=\"text-align: right;\">\n",
       "      <th></th>\n",
       "      <th>PLFam</th>\n",
       "    </tr>\n",
       "    <tr>\n",
       "      <th>BRC_ID</th>\n",
       "      <th></th>\n",
       "    </tr>\n",
       "  </thead>\n",
       "  <tbody>\n",
       "    <tr>\n",
       "      <th>fig|99287.12.peg.977</th>\n",
       "      <td>PLF_590_00000012</td>\n",
       "    </tr>\n",
       "    <tr>\n",
       "      <th>fig|99287.12.peg.978</th>\n",
       "      <td>PLF_590_00014201</td>\n",
       "    </tr>\n",
       "    <tr>\n",
       "      <th>fig|99287.12.peg.979</th>\n",
       "      <td>PLF_590_00019426</td>\n",
       "    </tr>\n",
       "    <tr>\n",
       "      <th>fig|99287.12.peg.980</th>\n",
       "      <td>PLF_590_00015851</td>\n",
       "    </tr>\n",
       "    <tr>\n",
       "      <th>fig|99287.12.peg.981</th>\n",
       "      <td>PLF_590_00000025</td>\n",
       "    </tr>\n",
       "    <tr>\n",
       "      <th>...</th>\n",
       "      <td>...</td>\n",
       "    </tr>\n",
       "    <tr>\n",
       "      <th>fig|99287.12.peg.4975</th>\n",
       "      <td>PLF_590_00006047</td>\n",
       "    </tr>\n",
       "    <tr>\n",
       "      <th>fig|99287.12.peg.4976</th>\n",
       "      <td>PLF_590_00005031</td>\n",
       "    </tr>\n",
       "    <tr>\n",
       "      <th>fig|99287.12.peg.4844</th>\n",
       "      <td>PLF_590_00005081</td>\n",
       "    </tr>\n",
       "    <tr>\n",
       "      <th>fig|99287.12.peg.4864</th>\n",
       "      <td>PLF_590_00005446</td>\n",
       "    </tr>\n",
       "    <tr>\n",
       "      <th>fig|99287.12.peg.4846</th>\n",
       "      <td>PLF_590_00005107</td>\n",
       "    </tr>\n",
       "  </tbody>\n",
       "</table>\n",
       "<p>4970 rows × 1 columns</p>\n",
       "</div>"
      ],
      "text/plain": [
       "                                  PLFam\n",
       "BRC_ID                                 \n",
       "fig|99287.12.peg.977   PLF_590_00000012\n",
       "fig|99287.12.peg.978   PLF_590_00014201\n",
       "fig|99287.12.peg.979   PLF_590_00019426\n",
       "fig|99287.12.peg.980   PLF_590_00015851\n",
       "fig|99287.12.peg.981   PLF_590_00000025\n",
       "...                                 ...\n",
       "fig|99287.12.peg.4975  PLF_590_00006047\n",
       "fig|99287.12.peg.4976  PLF_590_00005031\n",
       "fig|99287.12.peg.4844  PLF_590_00005081\n",
       "fig|99287.12.peg.4864  PLF_590_00005446\n",
       "fig|99287.12.peg.4846  PLF_590_00005107\n",
       "\n",
       "[4970 rows x 1 columns]"
      ]
     },
     "execution_count": 7,
     "metadata": {},
     "output_type": "execute_result"
    }
   ],
   "source": [
    "plf = features[['BRC ID', 'PATRIC genus-specific families (PLfams)']].astype(\"string\")\n",
    "plf.columns = ['BRC_ID', 'PLFam']\n",
    "plf.set_index('BRC_ID', inplace = True)\n",
    "plf"
   ]
  },
  {
   "cell_type": "code",
   "execution_count": 108,
   "metadata": {},
   "outputs": [
    {
     "data": {
      "text/html": [
       "<div>\n",
       "<style scoped>\n",
       "    .dataframe tbody tr th:only-of-type {\n",
       "        vertical-align: middle;\n",
       "    }\n",
       "\n",
       "    .dataframe tbody tr th {\n",
       "        vertical-align: top;\n",
       "    }\n",
       "\n",
       "    .dataframe thead th {\n",
       "        text-align: right;\n",
       "    }\n",
       "</style>\n",
       "<table border=\"1\" class=\"dataframe\">\n",
       "  <thead>\n",
       "    <tr style=\"text-align: right;\">\n",
       "      <th></th>\n",
       "      <th>PLFam</th>\n",
       "      <th>Prot_ID</th>\n",
       "    </tr>\n",
       "    <tr>\n",
       "      <th>BRC_ID</th>\n",
       "      <th></th>\n",
       "      <th></th>\n",
       "    </tr>\n",
       "  </thead>\n",
       "  <tbody>\n",
       "    <tr>\n",
       "      <th>fig|99287.12.peg.977</th>\n",
       "      <td>PLF_590_00000012</td>\n",
       "      <td>STM0927</td>\n",
       "    </tr>\n",
       "    <tr>\n",
       "      <th>fig|99287.12.peg.978</th>\n",
       "      <td>PLF_590_00014201</td>\n",
       "      <td>STM0928</td>\n",
       "    </tr>\n",
       "    <tr>\n",
       "      <th>fig|99287.12.peg.979</th>\n",
       "      <td>PLF_590_00019426</td>\n",
       "      <td>&lt;NA&gt;</td>\n",
       "    </tr>\n",
       "    <tr>\n",
       "      <th>fig|99287.12.peg.980</th>\n",
       "      <td>PLF_590_00015851</td>\n",
       "      <td>&lt;NA&gt;</td>\n",
       "    </tr>\n",
       "    <tr>\n",
       "      <th>fig|99287.12.peg.981</th>\n",
       "      <td>PLF_590_00000025</td>\n",
       "      <td>STM0930</td>\n",
       "    </tr>\n",
       "    <tr>\n",
       "      <th>...</th>\n",
       "      <td>...</td>\n",
       "      <td>...</td>\n",
       "    </tr>\n",
       "    <tr>\n",
       "      <th>fig|99287.12.peg.4975</th>\n",
       "      <td>PLF_590_00006047</td>\n",
       "      <td>PSLT110</td>\n",
       "    </tr>\n",
       "    <tr>\n",
       "      <th>fig|99287.12.peg.4976</th>\n",
       "      <td>PLF_590_00005031</td>\n",
       "      <td>PSLT111</td>\n",
       "    </tr>\n",
       "    <tr>\n",
       "      <th>fig|99287.12.peg.4844</th>\n",
       "      <td>PLF_590_00005081</td>\n",
       "      <td>PSLT001</td>\n",
       "    </tr>\n",
       "    <tr>\n",
       "      <th>fig|99287.12.peg.4864</th>\n",
       "      <td>PLF_590_00005446</td>\n",
       "      <td>PSLT015</td>\n",
       "    </tr>\n",
       "    <tr>\n",
       "      <th>fig|99287.12.peg.4846</th>\n",
       "      <td>PLF_590_00005107</td>\n",
       "      <td>PSLT002</td>\n",
       "    </tr>\n",
       "  </tbody>\n",
       "</table>\n",
       "<p>4970 rows × 2 columns</p>\n",
       "</div>"
      ],
      "text/plain": [
       "                                  PLFam  Prot_ID\n",
       "BRC_ID                                          \n",
       "fig|99287.12.peg.977   PLF_590_00000012  STM0927\n",
       "fig|99287.12.peg.978   PLF_590_00014201  STM0928\n",
       "fig|99287.12.peg.979   PLF_590_00019426     <NA>\n",
       "fig|99287.12.peg.980   PLF_590_00015851     <NA>\n",
       "fig|99287.12.peg.981   PLF_590_00000025  STM0930\n",
       "...                                 ...      ...\n",
       "fig|99287.12.peg.4975  PLF_590_00006047  PSLT110\n",
       "fig|99287.12.peg.4976  PLF_590_00005031  PSLT111\n",
       "fig|99287.12.peg.4844  PLF_590_00005081  PSLT001\n",
       "fig|99287.12.peg.4864  PLF_590_00005446  PSLT015\n",
       "fig|99287.12.peg.4846  PLF_590_00005107  PSLT002\n",
       "\n",
       "[4970 rows x 2 columns]"
      ]
     },
     "execution_count": 108,
     "metadata": {},
     "output_type": "execute_result"
    }
   ],
   "source": [
    "prot_info = features[['BRC ID', 'PATRIC genus-specific families (PLfams)', 'RefSeq Locus Tag']].astype(\"string\")\n",
    "prot_info.columns = ['BRC_ID', 'PLFam', 'Prot_ID']\n",
    "prot_info.set_index('BRC_ID', inplace = True)\n",
    "prot_info"
   ]
  },
  {
   "cell_type": "markdown",
   "metadata": {},
   "source": [
    "## Specialty Genes\n",
    "\n",
    "The table containing specialty genes relates several genomic features to a relevant property. Here the table is filtered by the antibiotic resistance property"
   ]
  },
  {
   "cell_type": "code",
   "execution_count": 118,
   "metadata": {},
   "outputs": [],
   "source": [
    "AMR = pd.read_csv(f'{root}\\\\specialty_genes.csv')['BRC ID']\n",
    "\n",
    "AMR_refseq = pd.DataFrame(prot_info.loc[AMR, 'Prot_ID'])"
   ]
  },
  {
   "cell_type": "code",
   "execution_count": 119,
   "metadata": {},
   "outputs": [
    {
     "data": {
      "text/plain": [
       "72"
      ]
     },
     "execution_count": 119,
     "metadata": {},
     "output_type": "execute_result"
    }
   ],
   "source": [
    "AMR_refseq['Prot_ID'].nunique()"
   ]
  },
  {
   "cell_type": "markdown",
   "metadata": {},
   "source": [
    "## Data from Nguyen et. al."
   ]
  },
  {
   "cell_type": "code",
   "execution_count": 10,
   "metadata": {},
   "outputs": [],
   "source": [
    "plf_500 = []\n",
    "\n",
    "datadir = root + '\\\\Nguyen_et_al_2020\\\\fasta.500.0'\n",
    "for strain in listdir(datadir):\n",
    "    with open(os.path.join(datadir, strain), 'r') as sequences:\n",
    "        for line in sequences:\n",
    "            if line[0] == '>':\n",
    "                plf_500.append(line[1:len(line)-1])\n",
    "                \n",
    "plf_500 = pd.DataFrame(np.unique(plf_500))\n",
    "plf_500.columns = ['Protein Family ID']"
   ]
  },
  {
   "cell_type": "markdown",
   "metadata": {},
   "source": [
    "## RefSeq Mapping"
   ]
  },
  {
   "cell_type": "code",
   "execution_count": 109,
   "metadata": {},
   "outputs": [],
   "source": [
    "refseq = features[['BRC ID', 'RefSeq Locus Tag']]\n",
    "refseq.columns = ['BRC_ID', 'Prot_ID']\n",
    "refseq.set_index('BRC_ID', inplace = True)"
   ]
  },
  {
   "cell_type": "code",
   "execution_count": 110,
   "metadata": {},
   "outputs": [],
   "source": [
    "plf_map_refseq = features[['RefSeq Locus Tag', 'PATRIC genus-specific families (PLfams)']][features['PATRIC genus-specific families (PLfams)'].isin(plf_500['Protein Family ID'])].reset_index(drop = True)\n",
    "plf_map_refseq.columns = ['Prot_ID', 'PLF']\n",
    "plf_map_refseq.dropna(inplace = True)\n",
    "plf_map_refseq.reset_index(drop = True, inplace = True)"
   ]
  },
  {
   "cell_type": "code",
   "execution_count": 111,
   "metadata": {},
   "outputs": [
    {
     "data": {
      "text/html": [
       "<div>\n",
       "<style scoped>\n",
       "    .dataframe tbody tr th:only-of-type {\n",
       "        vertical-align: middle;\n",
       "    }\n",
       "\n",
       "    .dataframe tbody tr th {\n",
       "        vertical-align: top;\n",
       "    }\n",
       "\n",
       "    .dataframe thead th {\n",
       "        text-align: right;\n",
       "    }\n",
       "</style>\n",
       "<table border=\"1\" class=\"dataframe\">\n",
       "  <thead>\n",
       "    <tr style=\"text-align: right;\">\n",
       "      <th></th>\n",
       "      <th>Prot_ID</th>\n",
       "      <th>PLF</th>\n",
       "    </tr>\n",
       "  </thead>\n",
       "  <tbody>\n",
       "    <tr>\n",
       "      <th>0</th>\n",
       "      <td>STM0934</td>\n",
       "      <td>PLF_590_00001917</td>\n",
       "    </tr>\n",
       "    <tr>\n",
       "      <th>1</th>\n",
       "      <td>STM0936</td>\n",
       "      <td>PLF_590_00003070</td>\n",
       "    </tr>\n",
       "    <tr>\n",
       "      <th>2</th>\n",
       "      <td>STM0942</td>\n",
       "      <td>PLF_590_00000215</td>\n",
       "    </tr>\n",
       "    <tr>\n",
       "      <th>3</th>\n",
       "      <td>STM0961</td>\n",
       "      <td>PLF_590_00001933</td>\n",
       "    </tr>\n",
       "    <tr>\n",
       "      <th>4</th>\n",
       "      <td>STM0969</td>\n",
       "      <td>PLF_590_00001385</td>\n",
       "    </tr>\n",
       "    <tr>\n",
       "      <th>...</th>\n",
       "      <td>...</td>\n",
       "      <td>...</td>\n",
       "    </tr>\n",
       "    <tr>\n",
       "      <th>487</th>\n",
       "      <td>STM0869</td>\n",
       "      <td>PLF_590_00002654</td>\n",
       "    </tr>\n",
       "    <tr>\n",
       "      <th>488</th>\n",
       "      <td>STM0874</td>\n",
       "      <td>PLF_590_00000196</td>\n",
       "    </tr>\n",
       "    <tr>\n",
       "      <th>489</th>\n",
       "      <td>STM0876</td>\n",
       "      <td>PLF_590_00001271</td>\n",
       "    </tr>\n",
       "    <tr>\n",
       "      <th>490</th>\n",
       "      <td>STM0889</td>\n",
       "      <td>PLF_590_00000747</td>\n",
       "    </tr>\n",
       "    <tr>\n",
       "      <th>491</th>\n",
       "      <td>STM0086</td>\n",
       "      <td>PLF_590_00000529</td>\n",
       "    </tr>\n",
       "  </tbody>\n",
       "</table>\n",
       "<p>492 rows × 2 columns</p>\n",
       "</div>"
      ],
      "text/plain": [
       "     Prot_ID               PLF\n",
       "0    STM0934  PLF_590_00001917\n",
       "1    STM0936  PLF_590_00003070\n",
       "2    STM0942  PLF_590_00000215\n",
       "3    STM0961  PLF_590_00001933\n",
       "4    STM0969  PLF_590_00001385\n",
       "..       ...               ...\n",
       "487  STM0869  PLF_590_00002654\n",
       "488  STM0874  PLF_590_00000196\n",
       "489  STM0876  PLF_590_00001271\n",
       "490  STM0889  PLF_590_00000747\n",
       "491  STM0086  PLF_590_00000529\n",
       "\n",
       "[492 rows x 2 columns]"
      ]
     },
     "execution_count": 111,
     "metadata": {},
     "output_type": "execute_result"
    }
   ],
   "source": [
    "plf_map_refseq"
   ]
  },
  {
   "cell_type": "markdown",
   "metadata": {},
   "source": [
    "## Protein Interaction Network"
   ]
  },
  {
   "cell_type": "code",
   "execution_count": 21,
   "metadata": {},
   "outputs": [],
   "source": [
    "#FROM TRANSFERRED LINKS\n",
    "\n",
    "transferred_links = pd.read_csv(f'{root}\\\\salmonella.interolog', sep = '\\t', names = ['interactor1', 'interactor2', 'source1', 'source2', \n",
    "                                                         'interolog_quality', 'evalue', 'source_org_id', 'det_type', \n",
    "                                                         'int_type', 'pubmed'])\n",
    "ppi = pd.DataFrame(transferred_links[['interactor1', 'interactor2']])\n",
    "ppi.columns = ['Interactor_A_ID', 'Interactor_B_ID']\n",
    "#ppi.to_csv(path_or_buf = root + '\\\\ppi_transferred.csv')"
   ]
  },
  {
   "cell_type": "code",
   "execution_count": 107,
   "metadata": {},
   "outputs": [
    {
     "data": {
      "text/html": [
       "<div>\n",
       "<style scoped>\n",
       "    .dataframe tbody tr th:only-of-type {\n",
       "        vertical-align: middle;\n",
       "    }\n",
       "\n",
       "    .dataframe tbody tr th {\n",
       "        vertical-align: top;\n",
       "    }\n",
       "\n",
       "    .dataframe thead th {\n",
       "        text-align: right;\n",
       "    }\n",
       "</style>\n",
       "<table border=\"1\" class=\"dataframe\">\n",
       "  <thead>\n",
       "    <tr style=\"text-align: right;\">\n",
       "      <th></th>\n",
       "      <th>Interactor_A_ID</th>\n",
       "      <th>Interactor_B_ID</th>\n",
       "      <th>weight</th>\n",
       "    </tr>\n",
       "  </thead>\n",
       "  <tbody>\n",
       "    <tr>\n",
       "      <th>0</th>\n",
       "      <td>STM0002</td>\n",
       "      <td>STM0003</td>\n",
       "      <td>323</td>\n",
       "    </tr>\n",
       "    <tr>\n",
       "      <th>1</th>\n",
       "      <td>STM0003</td>\n",
       "      <td>STM0002</td>\n",
       "      <td>323</td>\n",
       "    </tr>\n",
       "    <tr>\n",
       "      <th>2</th>\n",
       "      <td>STM0002</td>\n",
       "      <td>STM0067</td>\n",
       "      <td>411</td>\n",
       "    </tr>\n",
       "    <tr>\n",
       "      <th>3</th>\n",
       "      <td>STM0067</td>\n",
       "      <td>STM0002</td>\n",
       "      <td>411</td>\n",
       "    </tr>\n",
       "    <tr>\n",
       "      <th>4</th>\n",
       "      <td>STM0002</td>\n",
       "      <td>STM0097</td>\n",
       "      <td>436</td>\n",
       "    </tr>\n",
       "    <tr>\n",
       "      <th>...</th>\n",
       "      <td>...</td>\n",
       "      <td>...</td>\n",
       "      <td>...</td>\n",
       "    </tr>\n",
       "    <tr>\n",
       "      <th>105069</th>\n",
       "      <td>STM4585</td>\n",
       "      <td>STM4578</td>\n",
       "      <td>403</td>\n",
       "    </tr>\n",
       "    <tr>\n",
       "      <th>105070</th>\n",
       "      <td>STM4588</td>\n",
       "      <td>STM4589</td>\n",
       "      <td>627</td>\n",
       "    </tr>\n",
       "    <tr>\n",
       "      <th>105071</th>\n",
       "      <td>STM4589</td>\n",
       "      <td>STM4588</td>\n",
       "      <td>627</td>\n",
       "    </tr>\n",
       "    <tr>\n",
       "      <th>105072</th>\n",
       "      <td>STM4592</td>\n",
       "      <td>STM4593</td>\n",
       "      <td>173</td>\n",
       "    </tr>\n",
       "    <tr>\n",
       "      <th>105073</th>\n",
       "      <td>STM4593</td>\n",
       "      <td>STM4592</td>\n",
       "      <td>173</td>\n",
       "    </tr>\n",
       "  </tbody>\n",
       "</table>\n",
       "<p>105074 rows × 3 columns</p>\n",
       "</div>"
      ],
      "text/plain": [
       "       Interactor_A_ID Interactor_B_ID  weight\n",
       "0              STM0002         STM0003     323\n",
       "1              STM0003         STM0002     323\n",
       "2              STM0002         STM0067     411\n",
       "3              STM0067         STM0002     411\n",
       "4              STM0002         STM0097     436\n",
       "...                ...             ...     ...\n",
       "105069         STM4585         STM4578     403\n",
       "105070         STM4588         STM4589     627\n",
       "105071         STM4589         STM4588     627\n",
       "105072         STM4592         STM4593     173\n",
       "105073         STM4593         STM4592     173\n",
       "\n",
       "[105074 rows x 3 columns]"
      ]
     },
     "execution_count": 107,
     "metadata": {},
     "output_type": "execute_result"
    }
   ],
   "source": [
    "ppi"
   ]
  },
  {
   "cell_type": "code",
   "execution_count": 97,
   "metadata": {},
   "outputs": [
    {
     "name": "stderr",
     "output_type": "stream",
     "text": [
      "C:\\ProgramData\\Anaconda3\\lib\\site-packages\\ipykernel_launcher.py:7: SettingWithCopyWarning: \n",
      "A value is trying to be set on a copy of a slice from a DataFrame\n",
      "\n",
      "See the caveats in the documentation: https://pandas.pydata.org/pandas-docs/stable/user_guide/indexing.html#returning-a-view-versus-a-copy\n",
      "  import sys\n",
      "C:\\ProgramData\\Anaconda3\\lib\\site-packages\\ipykernel_launcher.py:8: SettingWithCopyWarning: \n",
      "A value is trying to be set on a copy of a slice from a DataFrame\n",
      "\n",
      "See the caveats in the documentation: https://pandas.pydata.org/pandas-docs/stable/user_guide/indexing.html#returning-a-view-versus-a-copy\n",
      "  \n"
     ]
    }
   ],
   "source": [
    "#FROM STRING DB\n",
    "\n",
    "ppi = pd.read_csv(f'{root}\\\\ppi_string.txt', sep = ' ')\n",
    "ppi.columns = ['Interactor_A_ID', 'Interactor_B_ID', 'weight']\n",
    "\n",
    "for i in ppi.index:\n",
    "    ppi['Interactor_A_ID'][i] = ppi['Interactor_A_ID'][i].split('.')[1]\n",
    "    ppi['Interactor_B_ID'][i] = ppi['Interactor_B_ID'][i].split('.')[1]\n",
    "    \n",
    "#ppi.to_csv(path_or_buf = root + '\\\\ppi_string.csv')"
   ]
  },
  {
   "cell_type": "code",
   "execution_count": 112,
   "metadata": {},
   "outputs": [],
   "source": [
    "conserved_ppi_A = plf_map_refseq[plf_map_refseq['Prot_ID'].isin(ppi['Interactor_A_ID'])]['Prot_ID']\n",
    "conserved_ppi_B = plf_map_refseq[plf_map_refseq['Prot_ID'].isin(ppi['Interactor_B_ID'])]['Prot_ID']\n",
    "\n",
    "conserved_ppi = pd.DataFrame(pd.concat([conserved_ppi_A, conserved_ppi_B], axis = 0).drop_duplicates())"
   ]
  },
  {
   "cell_type": "code",
   "execution_count": 113,
   "metadata": {
    "scrolled": true
   },
   "outputs": [],
   "source": [
    "conserved_ppi.reset_index(inplace = True, drop = True)"
   ]
  },
  {
   "cell_type": "code",
   "execution_count": 114,
   "metadata": {},
   "outputs": [],
   "source": [
    "conserved_ppi.drop_duplicates(inplace = True)"
   ]
  },
  {
   "cell_type": "code",
   "execution_count": 115,
   "metadata": {
    "scrolled": true
   },
   "outputs": [
    {
     "data": {
      "text/html": [
       "<div>\n",
       "<style scoped>\n",
       "    .dataframe tbody tr th:only-of-type {\n",
       "        vertical-align: middle;\n",
       "    }\n",
       "\n",
       "    .dataframe tbody tr th {\n",
       "        vertical-align: top;\n",
       "    }\n",
       "\n",
       "    .dataframe thead th {\n",
       "        text-align: right;\n",
       "    }\n",
       "</style>\n",
       "<table border=\"1\" class=\"dataframe\">\n",
       "  <thead>\n",
       "    <tr style=\"text-align: right;\">\n",
       "      <th></th>\n",
       "      <th>Prot_ID</th>\n",
       "    </tr>\n",
       "  </thead>\n",
       "  <tbody>\n",
       "    <tr>\n",
       "      <th>0</th>\n",
       "      <td>STM0934</td>\n",
       "    </tr>\n",
       "    <tr>\n",
       "      <th>1</th>\n",
       "      <td>STM0936</td>\n",
       "    </tr>\n",
       "    <tr>\n",
       "      <th>2</th>\n",
       "      <td>STM0942</td>\n",
       "    </tr>\n",
       "    <tr>\n",
       "      <th>3</th>\n",
       "      <td>STM0961</td>\n",
       "    </tr>\n",
       "    <tr>\n",
       "      <th>4</th>\n",
       "      <td>STM0969</td>\n",
       "    </tr>\n",
       "    <tr>\n",
       "      <th>...</th>\n",
       "      <td>...</td>\n",
       "    </tr>\n",
       "    <tr>\n",
       "      <th>434</th>\n",
       "      <td>STM0869</td>\n",
       "    </tr>\n",
       "    <tr>\n",
       "      <th>435</th>\n",
       "      <td>STM0874</td>\n",
       "    </tr>\n",
       "    <tr>\n",
       "      <th>436</th>\n",
       "      <td>STM0876</td>\n",
       "    </tr>\n",
       "    <tr>\n",
       "      <th>437</th>\n",
       "      <td>STM0889</td>\n",
       "    </tr>\n",
       "    <tr>\n",
       "      <th>438</th>\n",
       "      <td>STM0086</td>\n",
       "    </tr>\n",
       "  </tbody>\n",
       "</table>\n",
       "<p>439 rows × 1 columns</p>\n",
       "</div>"
      ],
      "text/plain": [
       "     Prot_ID\n",
       "0    STM0934\n",
       "1    STM0936\n",
       "2    STM0942\n",
       "3    STM0961\n",
       "4    STM0969\n",
       "..       ...\n",
       "434  STM0869\n",
       "435  STM0874\n",
       "436  STM0876\n",
       "437  STM0889\n",
       "438  STM0086\n",
       "\n",
       "[439 rows x 1 columns]"
      ]
     },
     "execution_count": 115,
     "metadata": {},
     "output_type": "execute_result"
    }
   ],
   "source": [
    "conserved_ppi"
   ]
  },
  {
   "cell_type": "code",
   "execution_count": 120,
   "metadata": {},
   "outputs": [],
   "source": [
    "AMR_ppi_A = AMR_refseq[AMR_refseq['Prot_ID'].isin(ppi['Interactor_A_ID'])]['Prot_ID']\n",
    "AMR_ppi_B = AMR_refseq[AMR_refseq['Prot_ID'].isin(ppi['Interactor_B_ID'])]['Prot_ID']\n",
    "\n",
    "AMR_ppi = pd.DataFrame(pd.concat([AMR_ppi_A, AMR_ppi_B], axis = 0))\n",
    "AMR_ppi.reset_index(drop=True, inplace=True)"
   ]
  },
  {
   "cell_type": "code",
   "execution_count": 123,
   "metadata": {},
   "outputs": [
    {
     "data": {
      "text/plain": [
       "62"
      ]
     },
     "execution_count": 123,
     "metadata": {},
     "output_type": "execute_result"
    }
   ],
   "source": [
    "AMR_ppi['Prot_ID'].nunique()"
   ]
  },
  {
   "cell_type": "code",
   "execution_count": 122,
   "metadata": {},
   "outputs": [],
   "source": [
    "AMR_ppi.drop_duplicates(inplace = True)"
   ]
  },
  {
   "cell_type": "code",
   "execution_count": 124,
   "metadata": {},
   "outputs": [],
   "source": [
    "ppi_graph = nx.from_pandas_edgelist(ppi, 'Interactor_A_ID', 'Interactor_B_ID')"
   ]
  },
  {
   "cell_type": "code",
   "execution_count": 125,
   "metadata": {},
   "outputs": [
    {
     "data": {
      "text/plain": [
       "52537"
      ]
     },
     "execution_count": 125,
     "metadata": {},
     "output_type": "execute_result"
    }
   ],
   "source": [
    "ppi_graph.number_of_edges()"
   ]
  },
  {
   "cell_type": "code",
   "execution_count": 126,
   "metadata": {},
   "outputs": [
    {
     "data": {
      "text/plain": [
       "3498"
      ]
     },
     "execution_count": 126,
     "metadata": {},
     "output_type": "execute_result"
    }
   ],
   "source": [
    "ppi_graph.number_of_nodes()"
   ]
  },
  {
   "cell_type": "code",
   "execution_count": 128,
   "metadata": {},
   "outputs": [],
   "source": [
    "plf_map_refseq = plf_map_refseq.set_index('Prot_ID')"
   ]
  },
  {
   "cell_type": "markdown",
   "metadata": {},
   "source": [
    "## Removing AMR anotated genes from conserved genes list"
   ]
  },
  {
   "cell_type": "markdown",
   "metadata": {},
   "source": [
    "As we saw in the previous experiment using path lengths, there are 10 conserved genes anotated as AMR genes. Let's remove them from the conserved genes list:"
   ]
  },
  {
   "cell_type": "code",
   "execution_count": 127,
   "metadata": {},
   "outputs": [
    {
     "data": {
      "text/html": [
       "<div>\n",
       "<style scoped>\n",
       "    .dataframe tbody tr th:only-of-type {\n",
       "        vertical-align: middle;\n",
       "    }\n",
       "\n",
       "    .dataframe tbody tr th {\n",
       "        vertical-align: top;\n",
       "    }\n",
       "\n",
       "    .dataframe thead th {\n",
       "        text-align: right;\n",
       "    }\n",
       "</style>\n",
       "<table border=\"1\" class=\"dataframe\">\n",
       "  <thead>\n",
       "    <tr style=\"text-align: right;\">\n",
       "      <th></th>\n",
       "      <th>Prot_ID</th>\n",
       "    </tr>\n",
       "  </thead>\n",
       "  <tbody>\n",
       "    <tr>\n",
       "      <th>2</th>\n",
       "      <td>STM0942</td>\n",
       "    </tr>\n",
       "    <tr>\n",
       "      <th>89</th>\n",
       "      <td>STM1700</td>\n",
       "    </tr>\n",
       "    <tr>\n",
       "      <th>146</th>\n",
       "      <td>STM2272</td>\n",
       "    </tr>\n",
       "    <tr>\n",
       "      <th>198</th>\n",
       "      <td>STM2814</td>\n",
       "    </tr>\n",
       "    <tr>\n",
       "      <th>236</th>\n",
       "      <td>STM3186</td>\n",
       "    </tr>\n",
       "    <tr>\n",
       "      <th>259</th>\n",
       "      <td>STM3390</td>\n",
       "    </tr>\n",
       "    <tr>\n",
       "      <th>262</th>\n",
       "      <td>STM3441</td>\n",
       "    </tr>\n",
       "    <tr>\n",
       "      <th>357</th>\n",
       "      <td>STM4292</td>\n",
       "    </tr>\n",
       "    <tr>\n",
       "      <th>358</th>\n",
       "      <td>STM4293</td>\n",
       "    </tr>\n",
       "    <tr>\n",
       "      <th>389</th>\n",
       "      <td>STM0046</td>\n",
       "    </tr>\n",
       "  </tbody>\n",
       "</table>\n",
       "</div>"
      ],
      "text/plain": [
       "     Prot_ID\n",
       "2    STM0942\n",
       "89   STM1700\n",
       "146  STM2272\n",
       "198  STM2814\n",
       "236  STM3186\n",
       "259  STM3390\n",
       "262  STM3441\n",
       "357  STM4292\n",
       "358  STM4293\n",
       "389  STM0046"
      ]
     },
     "execution_count": 127,
     "metadata": {},
     "output_type": "execute_result"
    }
   ],
   "source": [
    "conserved_ppi[conserved_ppi['Prot_ID'].isin(list(set(AMR_ppi['Prot_ID']) & set(conserved_ppi['Prot_ID'])))]"
   ]
  },
  {
   "cell_type": "code",
   "execution_count": 129,
   "metadata": {},
   "outputs": [],
   "source": [
    "conserved_amr_idx = conserved_ppi[conserved_ppi['Prot_ID'].isin(list(set(AMR_ppi['Prot_ID']) & set(conserved_ppi['Prot_ID'])))].index"
   ]
  },
  {
   "cell_type": "code",
   "execution_count": 130,
   "metadata": {},
   "outputs": [],
   "source": [
    "conserved_ppi.drop(labels=conserved_amr_idx, axis=0, inplace = True)"
   ]
  },
  {
   "cell_type": "markdown",
   "metadata": {},
   "source": [
    "## pStep Kernel"
   ]
  },
  {
   "cell_type": "markdown",
   "metadata": {},
   "source": [
    "After running the R code to get kernel matrix with p = 1 or p = 2, do the following steps:"
   ]
  },
  {
   "cell_type": "code",
   "execution_count": 131,
   "metadata": {},
   "outputs": [],
   "source": [
    "p = '1'"
   ]
  },
  {
   "cell_type": "code",
   "execution_count": 132,
   "metadata": {},
   "outputs": [],
   "source": [
    "pStepKernel = np.load(f'{root}\\\\pStepKernel_{p}_string.npy')"
   ]
  },
  {
   "cell_type": "code",
   "execution_count": 133,
   "metadata": {},
   "outputs": [],
   "source": [
    "with open (f'{root}\\\\protein_names_string.txt') as f:\n",
    "    protein_names = f.readlines()"
   ]
  },
  {
   "cell_type": "code",
   "execution_count": 134,
   "metadata": {},
   "outputs": [],
   "source": [
    "protein_names = protein_names[1:]\n",
    "protein_names = [name.replace('\\n', '') for name in protein_names]"
   ]
  },
  {
   "cell_type": "code",
   "execution_count": 135,
   "metadata": {},
   "outputs": [],
   "source": [
    "AMR_bin = np.zeros(shape=(len(protein_names), 1))\n",
    "\n",
    "for i in range(len(protein_names)):\n",
    "    if protein_names[i] in AMR_ppi['Prot_ID'].tolist():\n",
    "        AMR_bin[i] = 1\n",
    "        \n",
    "kernel = pd.concat([pd.DataFrame(protein_names), pd.DataFrame.from_records(np.dot(pStepKernel, AMR_bin))], axis = 1)\n",
    "\n",
    "kernel.columns = ['protein', 'kernel']\n",
    "\n",
    "kernel.sort_values(by = 'kernel', ascending = False, inplace = True)\n",
    "kernel = kernel[kernel['protein'].isin(conserved_ppi['Prot_ID'])]\n",
    "kernel.reset_index(drop = True, inplace = True)"
   ]
  },
  {
   "cell_type": "code",
   "execution_count": 136,
   "metadata": {},
   "outputs": [],
   "source": [
    "gene_set = kernel.iloc[range(20)]['protein']\n",
    "globals()[f'kernel_set_0'] = plf_map_refseq.loc[list(gene_set)]['PLF']\n",
    "\n",
    "bacdir = f'{root}/GeneSets/String/{p}StepKernel_20genes'\n",
    "\n",
    "os.mkdir(bacdir)\n",
    "\n",
    "newdir = f'set_0'\n",
    "setdir = os.path.join(bacdir, newdir)\n",
    "os.mkdir(setdir)\n",
    "\n",
    "sample = datadir\n",
    "for strain in listdir(sample):\n",
    "    with open(os.path.join(setdir, strain), 'a') as mystrain:\n",
    "        with open(os.path.join(sample, strain), 'r') as sequences:\n",
    "            first_loop = True\n",
    "            for line in sequences:\n",
    "                if line[0] == '>':\n",
    "                    if first_loop:\n",
    "                        plfam = line[1:len(line)-1]\n",
    "                        seq = ''\n",
    "                        first_loop = False\n",
    "                        continue\n",
    "                    if plfam in list((globals()[f'kernel_set_0'])):\n",
    "                        mystrain.write('>' + plfam + '\\n')\n",
    "                        mystrain.write(seq)\n",
    "                    plfam = line[1:len(line)-1]\n",
    "                    seq = ''\n",
    "                else:\n",
    "                    seq += line\n",
    "            if plfam in list((globals()[f'kernel_set_0'])):\n",
    "                        mystrain.write('>' + plfam + '\\n')\n",
    "                        mystrain.write(seq)"
   ]
  },
  {
   "cell_type": "markdown",
   "metadata": {},
   "source": [
    "# Constructing gene sets randomizing AMR"
   ]
  },
  {
   "cell_type": "code",
   "execution_count": 84,
   "metadata": {},
   "outputs": [],
   "source": [
    "%run E:\\\\User\\\\bruna.fistarol\\\\Documents\\\\MasterProject\\\\GuneyDistance.py"
   ]
  },
  {
   "cell_type": "code",
   "execution_count": 137,
   "metadata": {},
   "outputs": [],
   "source": [
    "#ppi['w'] = 1.0\n",
    "ppi.columns = ['p1', 'p2', 'w']\n",
    "\n",
    "G = nx.from_pandas_edgelist(ppi, 'p1', 'p2', edge_attr='w')\n",
    "\n",
    "s1 = set(AMR_ppi['Prot_ID'])\n",
    "s2 = set(ppi['p1']) | set(ppi['p2'])\n",
    "s3 = s1 & s2\n",
    "samples = GuneyDistance(G).get_random_nodes(s3, seed=0) #it creates 1000 sets of possible new fake AMR genes\n",
    "random_AMR = pd.DataFrame(samples)"
   ]
  },
  {
   "cell_type": "code",
   "execution_count": 172,
   "metadata": {},
   "outputs": [],
   "source": [
    "AMR_ppi_random = pd.DataFrame(random_AMR.iloc[98]) #to create another group, change the index\n",
    "AMR_ppi_random.columns = ['AMR_RefSeq']"
   ]
  },
  {
   "cell_type": "markdown",
   "metadata": {},
   "source": [
    "We can check if a set of fake AMR genes has some real AMR gene:"
   ]
  },
  {
   "cell_type": "code",
   "execution_count": 118,
   "metadata": {},
   "outputs": [
    {
     "data": {
      "text/plain": [
       "set()"
      ]
     },
     "execution_count": 118,
     "metadata": {},
     "output_type": "execute_result"
    }
   ],
   "source": [
    "set(AMR_ppi['AMR_RefSeq']) & set(AMR_ppi_random['AMR_RefSeq']) "
   ]
  },
  {
   "cell_type": "markdown",
   "metadata": {},
   "source": [
    "Now, substitute AMR_ppi for AMR_ppi_random to create randomized groups:"
   ]
  },
  {
   "cell_type": "code",
   "execution_count": 138,
   "metadata": {},
   "outputs": [],
   "source": [
    "for j in range(1, 31):\n",
    "    \n",
    "    AMR_ppi_random = pd.DataFrame(random_AMR.iloc[j])\n",
    "    AMR_ppi_random.columns = ['Prot_ID']\n",
    "\n",
    "    AMR_bin = np.zeros(shape=(len(protein_names), 1))\n",
    "\n",
    "    for i in range(len(protein_names)):\n",
    "        if protein_names[i] in AMR_ppi_random['Prot_ID'].tolist():\n",
    "            AMR_bin[i] = 1\n",
    "\n",
    "    kernel = pd.concat([pd.DataFrame(protein_names), pd.DataFrame.from_records(np.dot(pStepKernel, AMR_bin))], axis = 1)\n",
    "\n",
    "    kernel.columns = ['protein', 'kernel']\n",
    "\n",
    "    kernel.sort_values(by = 'kernel', ascending = False, inplace = True)\n",
    "    kernel = kernel[kernel['protein'].isin(conserved_ppi['Prot_ID'])]\n",
    "    kernel.reset_index(drop = True, inplace = True)\n",
    "\n",
    "    gene_set = kernel.iloc[range(20)]['protein']\n",
    "    globals()[f'kernel_set_{j}'] = plf_map_refseq.loc[list(gene_set)]['PLF']\n",
    "\n",
    "    bacdir = f'{root}/GeneSets/String/{p}StepKernel_20genes'\n",
    "\n",
    "    newdir = f'set_{j}'\n",
    "    setdir = os.path.join(bacdir, newdir)\n",
    "    os.mkdir(setdir)\n",
    "\n",
    "    sample = datadir\n",
    "    for strain in listdir(sample):\n",
    "        with open(os.path.join(setdir, strain), 'a') as mystrain:\n",
    "            with open(os.path.join(sample, strain), 'r') as sequences:\n",
    "                first_loop = True\n",
    "                for line in sequences:\n",
    "                    if line[0] == '>':\n",
    "                        if first_loop:\n",
    "                            plfam = line[1:len(line)-1]\n",
    "                            seq = ''\n",
    "                            first_loop = False\n",
    "                            continue\n",
    "                        if plfam in list((globals()[f'kernel_set_{j}'])):\n",
    "                            mystrain.write('>' + plfam + '\\n')\n",
    "                            mystrain.write(seq)\n",
    "                        plfam = line[1:len(line)-1]\n",
    "                        seq = ''\n",
    "                    else:\n",
    "                        seq += line\n",
    "                if plfam in list((globals()[f'kernel_set_{j}'])):\n",
    "                            mystrain.write('>' + plfam + '\\n')\n",
    "                            mystrain.write(seq)"
   ]
  },
  {
   "cell_type": "code",
   "execution_count": 174,
   "metadata": {},
   "outputs": [],
   "source": [
    "for j in range(1, 21):\n",
    "    \n",
    "    AMR_ppi_random = pd.DataFrame(random_AMR.iloc[j])\n",
    "    AMR_ppi_random.columns = ['AMR_RefSeq']\n",
    "\n",
    "    AMR_bin = np.zeros(shape=(len(protein_names), 1))\n",
    "\n",
    "    for i in range(len(protein_names)):\n",
    "        if protein_names[i] in AMR_ppi_random['AMR_RefSeq'].tolist():\n",
    "            AMR_bin[i] = 1\n",
    "\n",
    "    kernel = pd.concat([pd.DataFrame(protein_names), pd.DataFrame.from_records(np.dot(pStepKernel, AMR_bin))], axis = 1)\n",
    "\n",
    "    kernel.columns = ['protein', 'kernel']\n",
    "\n",
    "    kernel.sort_values(by = 'kernel', ascending = False, inplace = True)\n",
    "    kernel = kernel[kernel['protein'].isin(conserved_ppi['RefSeq'])]\n",
    "    kernel.reset_index(drop = True, inplace = True)\n",
    "\n",
    "    gene_set = kernel.iloc[range(20)]['protein']\n",
    "    globals()[f'kernel_set_{j}'] = plf_map_refseq.loc[list(gene_set)]['PLF']\n",
    "\n",
    "    bacdir = f'{root}/GeneSets/{p}StepKernel_20genes'\n",
    "\n",
    "    newdir = f'set_{j}'\n",
    "    setdir = os.path.join(bacdir, newdir)\n",
    "    os.mkdir(setdir)\n",
    "\n",
    "    sample = datadir\n",
    "    for strain in listdir(sample):\n",
    "        with open(os.path.join(setdir, strain), 'a') as mystrain:\n",
    "            with open(os.path.join(sample, strain), 'r') as sequences:\n",
    "                first_loop = True\n",
    "                for line in sequences:\n",
    "                    if line[0] == '>':\n",
    "                        if first_loop:\n",
    "                            plfam = line[1:len(line)-1]\n",
    "                            seq = ''\n",
    "                            first_loop = False\n",
    "                            continue\n",
    "                        if plfam in list((globals()[f'kernel_set_{j}'])):\n",
    "                            mystrain.write('>' + plfam + '\\n')\n",
    "                            mystrain.write(seq)\n",
    "                        plfam = line[1:len(line)-1]\n",
    "                        seq = ''\n",
    "                    else:\n",
    "                        seq += line\n",
    "                if plfam in list((globals()[f'kernel_set_{j}'])):\n",
    "                            mystrain.write('>' + plfam + '\\n')\n",
    "                            mystrain.write(seq)"
   ]
  },
  {
   "cell_type": "code",
   "execution_count": null,
   "metadata": {},
   "outputs": [],
   "source": []
  }
 ],
 "metadata": {
  "kernelspec": {
   "display_name": "Python 3",
   "language": "python",
   "name": "python3"
  },
  "language_info": {
   "codemirror_mode": {
    "name": "ipython",
    "version": 3
   },
   "file_extension": ".py",
   "mimetype": "text/x-python",
   "name": "python",
   "nbconvert_exporter": "python",
   "pygments_lexer": "ipython3",
   "version": "3.7.6"
  }
 },
 "nbformat": 4,
 "nbformat_minor": 4
}
