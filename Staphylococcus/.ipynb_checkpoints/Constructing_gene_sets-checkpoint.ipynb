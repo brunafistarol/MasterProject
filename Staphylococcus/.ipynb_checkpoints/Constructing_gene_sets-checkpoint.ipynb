{
 "cells": [
  {
   "cell_type": "code",
   "execution_count": 1,
   "metadata": {},
   "outputs": [],
   "source": [
    "import pandas as pd\n",
    "import numpy as np\n",
    "import networkx as nx\n",
    "import os\n",
    "from os import listdir\n",
    "import random"
   ]
  },
  {
   "cell_type": "markdown",
   "metadata": {},
   "source": [
    "# Staphylococcus aureus subsp. aureus NCTC 8325\n",
    "\n",
    "In order to have the same RefSeq on both databases, this subspecie is used"
   ]
  },
  {
   "cell_type": "code",
   "execution_count": 68,
   "metadata": {},
   "outputs": [],
   "source": [
    "root = os.getcwd()"
   ]
  },
  {
   "cell_type": "markdown",
   "metadata": {},
   "source": [
    "# Data From PATRIC"
   ]
  },
  {
   "cell_type": "markdown",
   "metadata": {},
   "source": [
    "## Genomic Features\n",
    "\n",
    "The table below contains a list of genomic features, including coding DNA.\n",
    "\n",
    "Each feature is solely identified by BRC ID and associated to a protein family referred as PATRIC genus-specific families (PLfams). Most of the genes has the associated RefSeq."
   ]
  },
  {
   "cell_type": "code",
   "execution_count": 70,
   "metadata": {},
   "outputs": [],
   "source": [
    "features = pd.read_csv('genome_features.csv')"
   ]
  },
  {
   "cell_type": "code",
   "execution_count": 71,
   "metadata": {},
   "outputs": [
    {
     "name": "stdout",
     "output_type": "stream",
     "text": [
      "<class 'pandas.core.frame.DataFrame'>\n",
      "RangeIndex: 2755 entries, 0 to 2754\n",
      "Data columns (total 21 columns):\n",
      " #   Column                                   Non-Null Count  Dtype  \n",
      "---  ------                                   --------------  -----  \n",
      " 0   Genome                                   2755 non-null   object \n",
      " 1   Genome ID                                2755 non-null   float64\n",
      " 2   Accession                                2755 non-null   object \n",
      " 3   BRC ID                                   2755 non-null   object \n",
      " 4   RefSeq Locus Tag                         2681 non-null   object \n",
      " 5   Alt Locus Tag                            2755 non-null   object \n",
      " 6   Feature ID                               2755 non-null   object \n",
      " 7   Annotation                               2755 non-null   object \n",
      " 8   Feature Type                             2755 non-null   object \n",
      " 9   Start                                    2755 non-null   int64  \n",
      " 10  End                                      2755 non-null   int64  \n",
      " 11  Length                                   2755 non-null   int64  \n",
      " 12  Strand                                   2755 non-null   object \n",
      " 13  FIGfam ID                                2727 non-null   object \n",
      " 14  PATRIC genus-specific families (PLfams)  2754 non-null   object \n",
      " 15  PATRIC cross-genus families (PGfams)     2754 non-null   object \n",
      " 16  Protein ID                               2681 non-null   object \n",
      " 17  AA Length                                2755 non-null   int64  \n",
      " 18  Gene Symbol                              207 non-null    object \n",
      " 19  Product                                  2755 non-null   object \n",
      " 20  GO                                       726 non-null    object \n",
      "dtypes: float64(1), int64(4), object(16)\n",
      "memory usage: 452.1+ KB\n"
     ]
    }
   ],
   "source": [
    "features.info()"
   ]
  },
  {
   "cell_type": "markdown",
   "metadata": {},
   "source": [
    "Through this table, we extract useful data to map protein families referred by Nguyen et. al.:"
   ]
  },
  {
   "cell_type": "code",
   "execution_count": 72,
   "metadata": {},
   "outputs": [
    {
     "data": {
      "text/html": [
       "<div>\n",
       "<style scoped>\n",
       "    .dataframe tbody tr th:only-of-type {\n",
       "        vertical-align: middle;\n",
       "    }\n",
       "\n",
       "    .dataframe tbody tr th {\n",
       "        vertical-align: top;\n",
       "    }\n",
       "\n",
       "    .dataframe thead th {\n",
       "        text-align: right;\n",
       "    }\n",
       "</style>\n",
       "<table border=\"1\" class=\"dataframe\">\n",
       "  <thead>\n",
       "    <tr style=\"text-align: right;\">\n",
       "      <th></th>\n",
       "      <th>PLFam</th>\n",
       "    </tr>\n",
       "    <tr>\n",
       "      <th>BRC_ID</th>\n",
       "      <th></th>\n",
       "    </tr>\n",
       "  </thead>\n",
       "  <tbody>\n",
       "    <tr>\n",
       "      <th>fig|93061.5.peg.943</th>\n",
       "      <td>PLF_1279_00001903</td>\n",
       "    </tr>\n",
       "    <tr>\n",
       "      <th>fig|93061.5.peg.944</th>\n",
       "      <td>PLF_1279_00000989</td>\n",
       "    </tr>\n",
       "    <tr>\n",
       "      <th>fig|93061.5.peg.945</th>\n",
       "      <td>PLF_1279_00001254</td>\n",
       "    </tr>\n",
       "    <tr>\n",
       "      <th>fig|93061.5.peg.946</th>\n",
       "      <td>PLF_1279_00000620</td>\n",
       "    </tr>\n",
       "    <tr>\n",
       "      <th>fig|93061.5.peg.947</th>\n",
       "      <td>PLF_1279_00085250</td>\n",
       "    </tr>\n",
       "    <tr>\n",
       "      <th>...</th>\n",
       "      <td>...</td>\n",
       "    </tr>\n",
       "    <tr>\n",
       "      <th>fig|93061.5.peg.83</th>\n",
       "      <td>PLF_1279_00002111</td>\n",
       "    </tr>\n",
       "    <tr>\n",
       "      <th>fig|93061.5.peg.939</th>\n",
       "      <td>PLF_1279_00000867</td>\n",
       "    </tr>\n",
       "    <tr>\n",
       "      <th>fig|93061.5.peg.940</th>\n",
       "      <td>PLF_1279_00000994</td>\n",
       "    </tr>\n",
       "    <tr>\n",
       "      <th>fig|93061.5.peg.941</th>\n",
       "      <td>PLF_1279_00000907</td>\n",
       "    </tr>\n",
       "    <tr>\n",
       "      <th>fig|93061.5.peg.942</th>\n",
       "      <td>PLF_1279_00000657</td>\n",
       "    </tr>\n",
       "  </tbody>\n",
       "</table>\n",
       "<p>2755 rows × 1 columns</p>\n",
       "</div>"
      ],
      "text/plain": [
       "                                 PLFam\n",
       "BRC_ID                                \n",
       "fig|93061.5.peg.943  PLF_1279_00001903\n",
       "fig|93061.5.peg.944  PLF_1279_00000989\n",
       "fig|93061.5.peg.945  PLF_1279_00001254\n",
       "fig|93061.5.peg.946  PLF_1279_00000620\n",
       "fig|93061.5.peg.947  PLF_1279_00085250\n",
       "...                                ...\n",
       "fig|93061.5.peg.83   PLF_1279_00002111\n",
       "fig|93061.5.peg.939  PLF_1279_00000867\n",
       "fig|93061.5.peg.940  PLF_1279_00000994\n",
       "fig|93061.5.peg.941  PLF_1279_00000907\n",
       "fig|93061.5.peg.942  PLF_1279_00000657\n",
       "\n",
       "[2755 rows x 1 columns]"
      ]
     },
     "execution_count": 72,
     "metadata": {},
     "output_type": "execute_result"
    }
   ],
   "source": [
    "plf = features[['BRC ID', 'PATRIC genus-specific families (PLfams)']].astype(\"string\")\n",
    "plf.columns = ['BRC_ID', 'PLFam']\n",
    "plf.set_index('BRC_ID', inplace = True)\n",
    "plf"
   ]
  },
  {
   "cell_type": "markdown",
   "metadata": {},
   "source": [
    "## Specialty Genes\n",
    "\n",
    "The table containing specialty genes relates several genomic features to a relevant property. Here the table is filtered by the antibiotic resistance property"
   ]
  },
  {
   "cell_type": "code",
   "execution_count": 73,
   "metadata": {},
   "outputs": [],
   "source": [
    "AMR_refseq = pd.DataFrame(pd.read_csv('specialty_genes.csv')['RefSeq Locus Tag'])\n",
    "AMR_refseq.columns = ['AMR_RefSeq']"
   ]
  },
  {
   "cell_type": "code",
   "execution_count": 74,
   "metadata": {},
   "outputs": [
    {
     "data": {
      "text/plain": [
       "49"
      ]
     },
     "execution_count": 74,
     "metadata": {},
     "output_type": "execute_result"
    }
   ],
   "source": [
    "AMR_refseq['AMR_RefSeq'].nunique()"
   ]
  },
  {
   "cell_type": "markdown",
   "metadata": {},
   "source": [
    "## Data from Nguyen et. al."
   ]
  },
  {
   "cell_type": "code",
   "execution_count": 75,
   "metadata": {},
   "outputs": [],
   "source": [
    "plf_500 = []\n",
    "\n",
    "datadir = root + '\\\\Nguyen_et_al_2020\\\\fasta.500.0'\n",
    "for strain in listdir(datadir):\n",
    "    with open(os.path.join(datadir, strain), 'r') as sequences:\n",
    "        for line in sequences:\n",
    "            if line[0] == '>':\n",
    "                plf_500.append(line[1:len(line)-1])\n",
    "                \n",
    "plf_500 = pd.DataFrame(np.unique(plf_500))\n",
    "plf_500.columns = ['Protein Family ID']"
   ]
  },
  {
   "cell_type": "markdown",
   "metadata": {},
   "source": [
    "## RefSeq Mapping"
   ]
  },
  {
   "cell_type": "code",
   "execution_count": 76,
   "metadata": {},
   "outputs": [],
   "source": [
    "refseq = features[['BRC ID', 'RefSeq Locus Tag']]\n",
    "refseq.columns = ['BRC_ID', 'RefSeq']\n",
    "refseq.set_index('BRC_ID', inplace = True)"
   ]
  },
  {
   "cell_type": "code",
   "execution_count": 77,
   "metadata": {},
   "outputs": [],
   "source": [
    "plf_map_refseq = features[['RefSeq Locus Tag', 'PATRIC genus-specific families (PLfams)']][features['PATRIC genus-specific families (PLfams)'].isin(plf_500['Protein Family ID'])].reset_index(drop = True)\n",
    "plf_map_refseq.columns = ['RefSeq', 'PLF']\n",
    "plf_map_refseq.dropna(inplace = True)\n",
    "plf_map_refseq.reset_index(drop = True, inplace = True)"
   ]
  },
  {
   "cell_type": "code",
   "execution_count": 78,
   "metadata": {},
   "outputs": [
    {
     "data": {
      "text/html": [
       "<div>\n",
       "<style scoped>\n",
       "    .dataframe tbody tr th:only-of-type {\n",
       "        vertical-align: middle;\n",
       "    }\n",
       "\n",
       "    .dataframe tbody tr th {\n",
       "        vertical-align: top;\n",
       "    }\n",
       "\n",
       "    .dataframe thead th {\n",
       "        text-align: right;\n",
       "    }\n",
       "</style>\n",
       "<table border=\"1\" class=\"dataframe\">\n",
       "  <thead>\n",
       "    <tr style=\"text-align: right;\">\n",
       "      <th></th>\n",
       "      <th>RefSeq</th>\n",
       "      <th>PLF</th>\n",
       "    </tr>\n",
       "  </thead>\n",
       "  <tbody>\n",
       "    <tr>\n",
       "      <th>0</th>\n",
       "      <td>SAOUHSC_01030</td>\n",
       "      <td>PLF_1279_00001903</td>\n",
       "    </tr>\n",
       "    <tr>\n",
       "      <th>1</th>\n",
       "      <td>SAOUHSC_01038</td>\n",
       "      <td>PLF_1279_00000817</td>\n",
       "    </tr>\n",
       "    <tr>\n",
       "      <th>2</th>\n",
       "      <td>SAOUHSC_01044</td>\n",
       "      <td>PLF_1279_00002027</td>\n",
       "    </tr>\n",
       "    <tr>\n",
       "      <th>3</th>\n",
       "      <td>SAOUHSC_01045</td>\n",
       "      <td>PLF_1279_00062515</td>\n",
       "    </tr>\n",
       "    <tr>\n",
       "      <th>4</th>\n",
       "      <td>SAOUHSC_01047</td>\n",
       "      <td>PLF_1279_00000667</td>\n",
       "    </tr>\n",
       "    <tr>\n",
       "      <th>...</th>\n",
       "      <td>...</td>\n",
       "      <td>...</td>\n",
       "    </tr>\n",
       "    <tr>\n",
       "      <th>494</th>\n",
       "      <td>SAOUHSC_01011</td>\n",
       "      <td>PLF_1279_00000821</td>\n",
       "    </tr>\n",
       "    <tr>\n",
       "      <th>495</th>\n",
       "      <td>SAOUHSC_01016</td>\n",
       "      <td>PLF_1279_00000658</td>\n",
       "    </tr>\n",
       "    <tr>\n",
       "      <th>496</th>\n",
       "      <td>SAOUHSC_01019</td>\n",
       "      <td>PLF_1279_00001408</td>\n",
       "    </tr>\n",
       "    <tr>\n",
       "      <th>497</th>\n",
       "      <td>SAOUHSC_01021</td>\n",
       "      <td>PLF_1279_00000378</td>\n",
       "    </tr>\n",
       "    <tr>\n",
       "      <th>498</th>\n",
       "      <td>SAOUHSC_00093</td>\n",
       "      <td>PLF_1279_00002111</td>\n",
       "    </tr>\n",
       "  </tbody>\n",
       "</table>\n",
       "<p>499 rows × 2 columns</p>\n",
       "</div>"
      ],
      "text/plain": [
       "            RefSeq                PLF\n",
       "0    SAOUHSC_01030  PLF_1279_00001903\n",
       "1    SAOUHSC_01038  PLF_1279_00000817\n",
       "2    SAOUHSC_01044  PLF_1279_00002027\n",
       "3    SAOUHSC_01045  PLF_1279_00062515\n",
       "4    SAOUHSC_01047  PLF_1279_00000667\n",
       "..             ...                ...\n",
       "494  SAOUHSC_01011  PLF_1279_00000821\n",
       "495  SAOUHSC_01016  PLF_1279_00000658\n",
       "496  SAOUHSC_01019  PLF_1279_00001408\n",
       "497  SAOUHSC_01021  PLF_1279_00000378\n",
       "498  SAOUHSC_00093  PLF_1279_00002111\n",
       "\n",
       "[499 rows x 2 columns]"
      ]
     },
     "execution_count": 78,
     "metadata": {},
     "output_type": "execute_result"
    }
   ],
   "source": [
    "plf_map_refseq"
   ]
  },
  {
   "cell_type": "markdown",
   "metadata": {},
   "source": [
    "## Protein Interaction Network"
   ]
  },
  {
   "cell_type": "code",
   "execution_count": 79,
   "metadata": {},
   "outputs": [],
   "source": [
    "ppi_patric = pd.read_csv('ppi_patric.csv')\n",
    "ppi_patric = ppi_patric[['Interactor A ID', 'Interactor B ID']].astype(\"string\")\n",
    "ppi_patric.columns = ['Interactor_A_ID', 'Interactor_B_ID']"
   ]
  },
  {
   "cell_type": "code",
   "execution_count": 80,
   "metadata": {},
   "outputs": [],
   "source": [
    "ppi_refseq = ppi_patric\n",
    "for i in range(len(ppi_refseq['Interactor_A_ID'])):\n",
    "    if ppi_refseq['Interactor_A_ID'][i] in list(refseq.index):\n",
    "        ppi_refseq.at[i, 'Interactor_A_ID'] = refseq.loc[ppi_refseq['Interactor_A_ID'][i]].RefSeq\n",
    "    else:\n",
    "        ppi_refseq.drop(inplace = True, labels = i)\n",
    "        \n",
    "ppi_refseq.reset_index(inplace = True, drop = True)\n",
    "        \n",
    "for i in range(len(ppi_refseq['Interactor_B_ID'])):\n",
    "    if ppi_refseq['Interactor_B_ID'][i]in (refseq.index):\n",
    "        ppi_refseq.at[i, 'Interactor_B_ID'] = refseq.loc[ppi_refseq['Interactor_B_ID'][i]].RefSeq\n",
    "    else:\n",
    "        ppi_refseq.drop(inplace = True, labels = i)"
   ]
  },
  {
   "cell_type": "code",
   "execution_count": 81,
   "metadata": {},
   "outputs": [],
   "source": [
    "ppi_string = pd.read_csv('ppi_string.txt', sep = ' ')\n",
    "ppi_string.columns = ['Interactor_A_ID', 'Interactor_B_ID', 'weight']\n",
    "ppi_string.replace('93061.', '', regex = True, inplace = True)"
   ]
  },
  {
   "cell_type": "code",
   "execution_count": 82,
   "metadata": {},
   "outputs": [],
   "source": [
    "ppi = pd.DataFrame(pd.concat([ppi_refseq, ppi_string], axis = 0)[['Interactor_A_ID', 'Interactor_B_ID']]).reset_index(drop = True)"
   ]
  },
  {
   "cell_type": "code",
   "execution_count": 83,
   "metadata": {},
   "outputs": [],
   "source": [
    "ppi.to_csv(path_or_buf = root + '\\\\ppi.csv')"
   ]
  },
  {
   "cell_type": "code",
   "execution_count": 84,
   "metadata": {},
   "outputs": [],
   "source": [
    "conserved_ppi_A = plf_map_refseq[plf_map_refseq['RefSeq'].isin(ppi['Interactor_A_ID'])]['RefSeq']\n",
    "conserved_ppi_B = plf_map_refseq[plf_map_refseq['RefSeq'].isin(ppi['Interactor_B_ID'])]['RefSeq']\n",
    "\n",
    "conserved_ppi = pd.DataFrame(pd.concat([conserved_ppi_A, conserved_ppi_B], axis = 0).drop_duplicates())"
   ]
  },
  {
   "cell_type": "code",
   "execution_count": 85,
   "metadata": {},
   "outputs": [
    {
     "data": {
      "text/html": [
       "<div>\n",
       "<style scoped>\n",
       "    .dataframe tbody tr th:only-of-type {\n",
       "        vertical-align: middle;\n",
       "    }\n",
       "\n",
       "    .dataframe tbody tr th {\n",
       "        vertical-align: top;\n",
       "    }\n",
       "\n",
       "    .dataframe thead th {\n",
       "        text-align: right;\n",
       "    }\n",
       "</style>\n",
       "<table border=\"1\" class=\"dataframe\">\n",
       "  <thead>\n",
       "    <tr style=\"text-align: right;\">\n",
       "      <th></th>\n",
       "      <th>RefSeq</th>\n",
       "    </tr>\n",
       "  </thead>\n",
       "  <tbody>\n",
       "    <tr>\n",
       "      <th>0</th>\n",
       "      <td>SAOUHSC_01030</td>\n",
       "    </tr>\n",
       "    <tr>\n",
       "      <th>1</th>\n",
       "      <td>SAOUHSC_01038</td>\n",
       "    </tr>\n",
       "    <tr>\n",
       "      <th>3</th>\n",
       "      <td>SAOUHSC_01045</td>\n",
       "    </tr>\n",
       "    <tr>\n",
       "      <th>4</th>\n",
       "      <td>SAOUHSC_01047</td>\n",
       "    </tr>\n",
       "    <tr>\n",
       "      <th>7</th>\n",
       "      <td>SAOUHSC_00097</td>\n",
       "    </tr>\n",
       "    <tr>\n",
       "      <th>...</th>\n",
       "      <td>...</td>\n",
       "    </tr>\n",
       "    <tr>\n",
       "      <th>495</th>\n",
       "      <td>SAOUHSC_01016</td>\n",
       "    </tr>\n",
       "    <tr>\n",
       "      <th>496</th>\n",
       "      <td>SAOUHSC_01019</td>\n",
       "    </tr>\n",
       "    <tr>\n",
       "      <th>497</th>\n",
       "      <td>SAOUHSC_01021</td>\n",
       "    </tr>\n",
       "    <tr>\n",
       "      <th>498</th>\n",
       "      <td>SAOUHSC_00093</td>\n",
       "    </tr>\n",
       "    <tr>\n",
       "      <th>183</th>\n",
       "      <td>SAOUHSC_01869</td>\n",
       "    </tr>\n",
       "  </tbody>\n",
       "</table>\n",
       "<p>387 rows × 1 columns</p>\n",
       "</div>"
      ],
      "text/plain": [
       "            RefSeq\n",
       "0    SAOUHSC_01030\n",
       "1    SAOUHSC_01038\n",
       "3    SAOUHSC_01045\n",
       "4    SAOUHSC_01047\n",
       "7    SAOUHSC_00097\n",
       "..             ...\n",
       "495  SAOUHSC_01016\n",
       "496  SAOUHSC_01019\n",
       "497  SAOUHSC_01021\n",
       "498  SAOUHSC_00093\n",
       "183  SAOUHSC_01869\n",
       "\n",
       "[387 rows x 1 columns]"
      ]
     },
     "execution_count": 85,
     "metadata": {},
     "output_type": "execute_result"
    }
   ],
   "source": [
    "conserved_ppi"
   ]
  },
  {
   "cell_type": "code",
   "execution_count": 86,
   "metadata": {},
   "outputs": [],
   "source": [
    "AMR_ppi_A = AMR_refseq[AMR_refseq['AMR_RefSeq'].isin(ppi['Interactor_A_ID'])]['AMR_RefSeq']\n",
    "AMR_ppi_B = AMR_refseq[AMR_refseq['AMR_RefSeq'].isin(ppi['Interactor_B_ID'])]['AMR_RefSeq']\n",
    "\n",
    "AMR_ppi = pd.DataFrame(pd.concat([AMR_ppi_A, AMR_ppi_B], axis = 0))\n",
    "AMR_ppi.reset_index(drop=True, inplace=True)"
   ]
  },
  {
   "cell_type": "code",
   "execution_count": 87,
   "metadata": {},
   "outputs": [
    {
     "data": {
      "text/plain": [
       "43"
      ]
     },
     "execution_count": 87,
     "metadata": {},
     "output_type": "execute_result"
    }
   ],
   "source": [
    "AMR_ppi['AMR_RefSeq'].nunique()"
   ]
  },
  {
   "cell_type": "code",
   "execution_count": 88,
   "metadata": {},
   "outputs": [],
   "source": [
    "AMR_ppi.drop_duplicates(inplace = True)"
   ]
  },
  {
   "cell_type": "code",
   "execution_count": 89,
   "metadata": {},
   "outputs": [],
   "source": [
    "ppi_graph = nx.from_pandas_edgelist(ppi, 'Interactor_A_ID', 'Interactor_B_ID')"
   ]
  },
  {
   "cell_type": "code",
   "execution_count": 90,
   "metadata": {},
   "outputs": [
    {
     "data": {
      "text/plain": [
       "32881"
      ]
     },
     "execution_count": 90,
     "metadata": {},
     "output_type": "execute_result"
    }
   ],
   "source": [
    "ppi_graph.number_of_edges()"
   ]
  },
  {
   "cell_type": "code",
   "execution_count": 91,
   "metadata": {},
   "outputs": [
    {
     "data": {
      "text/plain": [
       "1893"
      ]
     },
     "execution_count": 91,
     "metadata": {},
     "output_type": "execute_result"
    }
   ],
   "source": [
    "ppi_graph.number_of_nodes()"
   ]
  },
  {
   "cell_type": "code",
   "execution_count": 92,
   "metadata": {},
   "outputs": [],
   "source": [
    "plf_map_refseq = plf_map_refseq.set_index('RefSeq')"
   ]
  },
  {
   "cell_type": "markdown",
   "metadata": {},
   "source": [
    "## pStep Kernel"
   ]
  },
  {
   "cell_type": "markdown",
   "metadata": {},
   "source": [
    "After running the R code to get kernel matrix with p = 1 or p = 2, do the following steps:"
   ]
  },
  {
   "cell_type": "code",
   "execution_count": 98,
   "metadata": {},
   "outputs": [],
   "source": [
    "p = '1'"
   ]
  },
  {
   "cell_type": "code",
   "execution_count": 99,
   "metadata": {},
   "outputs": [],
   "source": [
    "pStepKernel = np.load(f'pStepKernel_{p}.npy')"
   ]
  },
  {
   "cell_type": "code",
   "execution_count": 100,
   "metadata": {},
   "outputs": [],
   "source": [
    "with open (f'protein_names_{p}step.txt') as f:\n",
    "    protein_names = f.readlines()"
   ]
  },
  {
   "cell_type": "code",
   "execution_count": 101,
   "metadata": {},
   "outputs": [],
   "source": [
    "protein_names = protein_names[1:]\n",
    "protein_names = [name.replace('\\n', '') for name in protein_names]"
   ]
  },
  {
   "cell_type": "code",
   "execution_count": 102,
   "metadata": {},
   "outputs": [],
   "source": [
    "AMR_bin = np.zeros(shape=(len(protein_names), 1))"
   ]
  },
  {
   "cell_type": "code",
   "execution_count": 103,
   "metadata": {},
   "outputs": [],
   "source": [
    "for i in range(len(protein_names)):\n",
    "    if protein_names[i] in AMR_ppi['AMR_RefSeq'].tolist():\n",
    "        AMR_bin[i] = 1"
   ]
  },
  {
   "cell_type": "code",
   "execution_count": 104,
   "metadata": {},
   "outputs": [],
   "source": [
    "kernel = pd.concat([pd.DataFrame(protein_names), pd.DataFrame.from_records(np.dot(pStepKernel, AMR_bin))], axis = 1)"
   ]
  },
  {
   "cell_type": "code",
   "execution_count": 105,
   "metadata": {},
   "outputs": [],
   "source": [
    "kernel.columns = ['protein', 'kernel']"
   ]
  },
  {
   "cell_type": "code",
   "execution_count": 106,
   "metadata": {},
   "outputs": [],
   "source": [
    "kernel.sort_values(by = 'kernel', ascending = False, inplace = True)\n",
    "kernel = kernel[kernel['protein'].isin(conserved_ppi['RefSeq'])]\n",
    "kernel.reset_index(drop = True, inplace = True)"
   ]
  },
  {
   "cell_type": "code",
   "execution_count": 107,
   "metadata": {
    "scrolled": false
   },
   "outputs": [
    {
     "data": {
      "text/html": [
       "<div>\n",
       "<style scoped>\n",
       "    .dataframe tbody tr th:only-of-type {\n",
       "        vertical-align: middle;\n",
       "    }\n",
       "\n",
       "    .dataframe tbody tr th {\n",
       "        vertical-align: top;\n",
       "    }\n",
       "\n",
       "    .dataframe thead th {\n",
       "        text-align: right;\n",
       "    }\n",
       "</style>\n",
       "<table border=\"1\" class=\"dataframe\">\n",
       "  <thead>\n",
       "    <tr style=\"text-align: right;\">\n",
       "      <th></th>\n",
       "      <th>protein</th>\n",
       "      <th>kernel</th>\n",
       "    </tr>\n",
       "  </thead>\n",
       "  <tbody>\n",
       "    <tr>\n",
       "      <th>0</th>\n",
       "      <td>SAOUHSC_02402</td>\n",
       "      <td>1.073826</td>\n",
       "    </tr>\n",
       "    <tr>\n",
       "      <th>1</th>\n",
       "      <td>SAOUHSC_02484</td>\n",
       "      <td>1.054325</td>\n",
       "    </tr>\n",
       "    <tr>\n",
       "      <th>2</th>\n",
       "      <td>SAOUHSC_01785</td>\n",
       "      <td>1.048231</td>\n",
       "    </tr>\n",
       "    <tr>\n",
       "      <th>3</th>\n",
       "      <td>SAOUHSC_00519</td>\n",
       "      <td>1.044491</td>\n",
       "    </tr>\n",
       "    <tr>\n",
       "      <th>4</th>\n",
       "      <td>SAOUHSC_00875</td>\n",
       "      <td>1.019842</td>\n",
       "    </tr>\n",
       "    <tr>\n",
       "      <th>...</th>\n",
       "      <td>...</td>\n",
       "      <td>...</td>\n",
       "    </tr>\n",
       "    <tr>\n",
       "      <th>382</th>\n",
       "      <td>SAOUHSC_01692</td>\n",
       "      <td>0.000000</td>\n",
       "    </tr>\n",
       "    <tr>\n",
       "      <th>383</th>\n",
       "      <td>SAOUHSC_00540</td>\n",
       "      <td>0.000000</td>\n",
       "    </tr>\n",
       "    <tr>\n",
       "      <th>384</th>\n",
       "      <td>SAOUHSC_00848</td>\n",
       "      <td>0.000000</td>\n",
       "    </tr>\n",
       "    <tr>\n",
       "      <th>385</th>\n",
       "      <td>SAOUHSC_00097</td>\n",
       "      <td>0.000000</td>\n",
       "    </tr>\n",
       "    <tr>\n",
       "      <th>386</th>\n",
       "      <td>SAOUHSC_02986</td>\n",
       "      <td>0.000000</td>\n",
       "    </tr>\n",
       "  </tbody>\n",
       "</table>\n",
       "<p>387 rows × 2 columns</p>\n",
       "</div>"
      ],
      "text/plain": [
       "           protein    kernel\n",
       "0    SAOUHSC_02402  1.073826\n",
       "1    SAOUHSC_02484  1.054325\n",
       "2    SAOUHSC_01785  1.048231\n",
       "3    SAOUHSC_00519  1.044491\n",
       "4    SAOUHSC_00875  1.019842\n",
       "..             ...       ...\n",
       "382  SAOUHSC_01692  0.000000\n",
       "383  SAOUHSC_00540  0.000000\n",
       "384  SAOUHSC_00848  0.000000\n",
       "385  SAOUHSC_00097  0.000000\n",
       "386  SAOUHSC_02986  0.000000\n",
       "\n",
       "[387 rows x 2 columns]"
      ]
     },
     "execution_count": 107,
     "metadata": {},
     "output_type": "execute_result"
    }
   ],
   "source": [
    "kernel"
   ]
  },
  {
   "cell_type": "markdown",
   "metadata": {},
   "source": [
    "Creating sets of 25 genes according to kernel descend order:"
   ]
  },
  {
   "cell_type": "code",
   "execution_count": 108,
   "metadata": {},
   "outputs": [],
   "source": [
    "for i in range(len(kernel)//25):\n",
    "    gene_set = kernel.iloc[range(25*i, 25*(i+1))]['protein']\n",
    "    globals()[f'kernel_top{i}'] = plf_map_refseq.loc[list(gene_set)]['PLF']"
   ]
  },
  {
   "cell_type": "code",
   "execution_count": 109,
   "metadata": {},
   "outputs": [
    {
     "data": {
      "text/plain": [
       "RefSeq\n",
       "SAOUHSC_00901    PLF_1279_00001960\n",
       "SAOUHSC_01100    PLF_1279_00000833\n",
       "SAOUHSC_01153    PLF_1279_00000698\n",
       "SAOUHSC_02349    PLF_1279_00000632\n",
       "SAOUHSC_00755    PLF_1279_00000734\n",
       "SAOUHSC_00575    PLF_1279_00000708\n",
       "SAOUHSC_01629    PLF_1279_00000905\n",
       "SAOUHSC_01670    PLF_1279_00001230\n",
       "SAOUHSC_01278    PLF_1279_00000345\n",
       "SAOUHSC_00533    PLF_1279_00001548\n",
       "SAOUHSC_00963    PLF_1279_00000303\n",
       "SAOUHSC_02457    PLF_1279_00001496\n",
       "SAOUHSC_02505    PLF_1279_00000352\n",
       "SAOUHSC_02482    PLF_1279_00001360\n",
       "SAOUHSC_02495    PLF_1279_00000758\n",
       "SAOUHSC_01492    PLF_1279_00000553\n",
       "SAOUHSC_01249    PLF_1279_00000188\n",
       "SAOUHSC_00518    PLF_1279_00000467\n",
       "SAOUHSC_01839    PLF_1279_00000917\n",
       "SAOUHSC_02460    PLF_1279_00001447\n",
       "SAOUHSC_00836    PLF_1279_00000897\n",
       "SAOUHSC_02478    PLF_1279_00000812\n",
       "SAOUHSC_00712    PLF_1279_00001448\n",
       "SAOUHSC_02512    PLF_1279_00000388\n",
       "SAOUHSC_03055    PLF_1279_00001126\n",
       "Name: PLF, dtype: object"
      ]
     },
     "execution_count": 109,
     "metadata": {},
     "output_type": "execute_result"
    }
   ],
   "source": [
    "kernel_top1"
   ]
  },
  {
   "cell_type": "code",
   "execution_count": 110,
   "metadata": {},
   "outputs": [],
   "source": [
    "bacdir = f'{root}/GeneSets/{p}StepKernel'\n",
    "#bacdir = f'{root}/GeneSets/{p}StepKernel_RandomAMR_1'\n",
    "#bacdir = f'{root}/GeneSets/{p}StepKernel_RandomAMR_2'\n",
    "#bacdir = f'{root}/GeneSets/{p}StepKernel_RandomAMR_3'\n",
    "\n",
    "os.mkdir(bacdir)\n",
    "\n",
    "for i in range(len(kernel)//25):\n",
    "    newdir = f'top.{i}'\n",
    "    rankdir = os.path.join(bacdir, newdir)\n",
    "    os.mkdir(rankdir)\n",
    "    \n",
    "    sample = datadir\n",
    "    for strain in listdir(sample):\n",
    "        with open(os.path.join(rankdir, strain), 'a') as mystrain:\n",
    "            with open(os.path.join(sample, strain), 'r') as sequences:\n",
    "                first_loop = True\n",
    "                for line in sequences:\n",
    "                    if line[0] == '>':\n",
    "                        if first_loop:\n",
    "                            plfam = line[1:len(line)-1]\n",
    "                            seq = ''\n",
    "                            first_loop = False\n",
    "                            continue\n",
    "                        if plfam in list((globals()[f'kernel_top{i}'])):\n",
    "                            mystrain.write('>' + plfam + '\\n')\n",
    "                            mystrain.write(seq)\n",
    "                        plfam = line[1:len(line)-1]\n",
    "                        seq = ''\n",
    "                    else:\n",
    "                        seq += line\n",
    "                if plfam in list((globals()[f'kernel_top{i}'])):\n",
    "                            mystrain.write('>' + plfam + '\\n')\n",
    "                            mystrain.write(seq)"
   ]
  },
  {
   "cell_type": "markdown",
   "metadata": {},
   "source": [
    "# Constructing gene sets randomizing AMR"
   ]
  },
  {
   "cell_type": "code",
   "execution_count": 93,
   "metadata": {},
   "outputs": [],
   "source": [
    "%run E:\\\\User\\\\bruna.fistarol\\\\Documents\\\\MasterProject\\\\GuneyDistance.py"
   ]
  },
  {
   "cell_type": "code",
   "execution_count": 94,
   "metadata": {},
   "outputs": [],
   "source": [
    "ppi['w'] = 1.0\n",
    "ppi.columns = ['p1', 'p2', 'w']\n",
    "\n",
    "G = nx.from_pandas_edgelist(ppi, 'p1', 'p2', edge_attr='w')\n",
    "\n",
    "s1 = set(AMR_ppi['AMR_RefSeq'])\n",
    "s2 = set(ppi['p1']) | set(ppi['p2'])\n",
    "s3 = s1 & s2\n",
    "samples = GuneyDistance(G).get_random_nodes(s3, seed=0) #it creates 1000 sets of possible new fake AMR genes\n",
    "df = pd.DataFrame(samples)"
   ]
  },
  {
   "cell_type": "code",
   "execution_count": 95,
   "metadata": {},
   "outputs": [],
   "source": [
    "AMR_ppi_random = pd.DataFrame(df.iloc[12]) #to create another group, change the index\n",
    "AMR_ppi_random.columns = ['AMR_RefSeq']"
   ]
  },
  {
   "cell_type": "markdown",
   "metadata": {},
   "source": [
    "We can check if a set of fake AMR genes has some real AMR gene:"
   ]
  },
  {
   "cell_type": "code",
   "execution_count": 96,
   "metadata": {},
   "outputs": [
    {
     "data": {
      "text/plain": [
       "{'SAOUHSC_00529'}"
      ]
     },
     "execution_count": 96,
     "metadata": {},
     "output_type": "execute_result"
    }
   ],
   "source": [
    "set(AMR_ppi['AMR_RefSeq']) & set(AMR_ppi_random['AMR_RefSeq']) "
   ]
  },
  {
   "cell_type": "markdown",
   "metadata": {},
   "source": [
    "Now, substitute AMR_ppi for AMR_ppi_random and run everything again from ''pStep Kernel''  "
   ]
  },
  {
   "cell_type": "code",
   "execution_count": 97,
   "metadata": {},
   "outputs": [],
   "source": [
    "AMR_ppi = AMR_ppi_random"
   ]
  },
  {
   "cell_type": "markdown",
   "metadata": {},
   "source": [
    "Remember to change directory name for create new gene set files using random AMR genes."
   ]
  },
  {
   "cell_type": "code",
   "execution_count": null,
   "metadata": {},
   "outputs": [],
   "source": []
  }
 ],
 "metadata": {
  "kernelspec": {
   "display_name": "Python 3",
   "language": "python",
   "name": "python3"
  },
  "language_info": {
   "codemirror_mode": {
    "name": "ipython",
    "version": 3
   },
   "file_extension": ".py",
   "mimetype": "text/x-python",
   "name": "python",
   "nbconvert_exporter": "python",
   "pygments_lexer": "ipython3",
   "version": "3.7.6"
  }
 },
 "nbformat": 4,
 "nbformat_minor": 4
}
