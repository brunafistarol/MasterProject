{
 "cells": [
  {
   "cell_type": "code",
   "execution_count": 1,
   "metadata": {},
   "outputs": [],
   "source": [
    "import pandas as pd\n",
    "import numpy as np\n",
    "import networkx as nx\n",
    "import os\n",
    "from os import listdir\n",
    "import random\n",
    "from datetime import date"
   ]
  },
  {
   "cell_type": "markdown",
   "metadata": {},
   "source": [
    "# Salmonella enterica subsp. enterica serovar Typhimurium str. LT2\n",
    "\n",
    "In order to have a specific Protein ID used to map protein families in a specific PPI, we chose a specific bacteria. But this should be resonable once we are carrying about conserved sequences."
   ]
  },
  {
   "cell_type": "code",
   "execution_count": 2,
   "metadata": {},
   "outputs": [],
   "source": [
    "bacteria = 'Salmonella'\n",
    "root = 'E:/User/bruna.fistarol/Documents/MasterProject'"
   ]
  },
  {
   "cell_type": "code",
   "execution_count": 3,
   "metadata": {},
   "outputs": [
    {
     "data": {
      "text/plain": [
       "'E:\\\\User\\\\bruna.fistarol\\\\Documents\\\\MasterProject\\\\Salmonella'"
      ]
     },
     "execution_count": 3,
     "metadata": {},
     "output_type": "execute_result"
    }
   ],
   "source": [
    "os.getcwd()"
   ]
  },
  {
   "cell_type": "markdown",
   "metadata": {},
   "source": [
    "# Data From PATRIC"
   ]
  },
  {
   "cell_type": "markdown",
   "metadata": {},
   "source": [
    "## Genomic Features\n",
    "\n",
    "The table below contains a list of genomic features, including coding DNA.\n",
    "\n",
    "Each feature is identified by BRC ID from PATRIC and associated to a protein family referred as PATRIC genus-specific families (PLfams). Most of the genes has the associated Protein ID."
   ]
  },
  {
   "cell_type": "code",
   "execution_count": 4,
   "metadata": {},
   "outputs": [],
   "source": [
    "features = pd.read_csv('genome_features.csv')"
   ]
  },
  {
   "cell_type": "code",
   "execution_count": 5,
   "metadata": {},
   "outputs": [
    {
     "name": "stdout",
     "output_type": "stream",
     "text": [
      "<class 'pandas.core.frame.DataFrame'>\n",
      "RangeIndex: 4970 entries, 0 to 4969\n",
      "Data columns (total 21 columns):\n",
      " #   Column                                   Non-Null Count  Dtype  \n",
      "---  ------                                   --------------  -----  \n",
      " 0   Genome                                   4970 non-null   object \n",
      " 1   Genome ID                                4970 non-null   float64\n",
      " 2   Accession                                4970 non-null   object \n",
      " 3   BRC ID                                   4970 non-null   object \n",
      " 4   RefSeq Locus Tag                         4460 non-null   object \n",
      " 5   Alt Locus Tag                            4970 non-null   object \n",
      " 6   Feature ID                               4970 non-null   object \n",
      " 7   Annotation                               4970 non-null   object \n",
      " 8   Feature Type                             4970 non-null   object \n",
      " 9   Start                                    4970 non-null   int64  \n",
      " 10  End                                      4970 non-null   int64  \n",
      " 11  Length                                   4970 non-null   int64  \n",
      " 12  Strand                                   4970 non-null   object \n",
      " 13  FIGfam ID                                4908 non-null   object \n",
      " 14  PATRIC genus-specific families (PLfams)  4970 non-null   object \n",
      " 15  PATRIC cross-genus families (PGfams)     4970 non-null   object \n",
      " 16  Protein ID                               4460 non-null   object \n",
      " 17  AA Length                                4970 non-null   int64  \n",
      " 18  Gene Symbol                              3297 non-null   object \n",
      " 19  Product                                  4970 non-null   object \n",
      " 20  GO                                       1129 non-null   object \n",
      "dtypes: float64(1), int64(4), object(16)\n",
      "memory usage: 815.5+ KB\n"
     ]
    }
   ],
   "source": [
    "features.info()"
   ]
  },
  {
   "cell_type": "markdown",
   "metadata": {},
   "source": [
    "Through this table, we extract useful data to map protein families referred by Nguyen et. al.:"
   ]
  },
  {
   "cell_type": "code",
   "execution_count": 6,
   "metadata": {},
   "outputs": [
    {
     "data": {
      "text/html": [
       "<div>\n",
       "<style scoped>\n",
       "    .dataframe tbody tr th:only-of-type {\n",
       "        vertical-align: middle;\n",
       "    }\n",
       "\n",
       "    .dataframe tbody tr th {\n",
       "        vertical-align: top;\n",
       "    }\n",
       "\n",
       "    .dataframe thead th {\n",
       "        text-align: right;\n",
       "    }\n",
       "</style>\n",
       "<table border=\"1\" class=\"dataframe\">\n",
       "  <thead>\n",
       "    <tr style=\"text-align: right;\">\n",
       "      <th></th>\n",
       "      <th>PLFam</th>\n",
       "      <th>Prot_ID</th>\n",
       "    </tr>\n",
       "    <tr>\n",
       "      <th>BRC_ID</th>\n",
       "      <th></th>\n",
       "      <th></th>\n",
       "    </tr>\n",
       "  </thead>\n",
       "  <tbody>\n",
       "    <tr>\n",
       "      <th>fig|99287.12.peg.977</th>\n",
       "      <td>PLF_590_00000012</td>\n",
       "      <td>NP_459904.1</td>\n",
       "    </tr>\n",
       "    <tr>\n",
       "      <th>fig|99287.12.peg.978</th>\n",
       "      <td>PLF_590_00014201</td>\n",
       "      <td>NP_459905.1</td>\n",
       "    </tr>\n",
       "    <tr>\n",
       "      <th>fig|99287.12.peg.979</th>\n",
       "      <td>PLF_590_00019426</td>\n",
       "      <td>&lt;NA&gt;</td>\n",
       "    </tr>\n",
       "    <tr>\n",
       "      <th>fig|99287.12.peg.980</th>\n",
       "      <td>PLF_590_00015851</td>\n",
       "      <td>&lt;NA&gt;</td>\n",
       "    </tr>\n",
       "    <tr>\n",
       "      <th>fig|99287.12.peg.981</th>\n",
       "      <td>PLF_590_00000025</td>\n",
       "      <td>NP_459907.1</td>\n",
       "    </tr>\n",
       "    <tr>\n",
       "      <th>...</th>\n",
       "      <td>...</td>\n",
       "      <td>...</td>\n",
       "    </tr>\n",
       "    <tr>\n",
       "      <th>fig|99287.12.peg.4975</th>\n",
       "      <td>PLF_590_00006047</td>\n",
       "      <td>NP_490593.1</td>\n",
       "    </tr>\n",
       "    <tr>\n",
       "      <th>fig|99287.12.peg.4976</th>\n",
       "      <td>PLF_590_00005031</td>\n",
       "      <td>NP_490594.1</td>\n",
       "    </tr>\n",
       "    <tr>\n",
       "      <th>fig|99287.12.peg.4844</th>\n",
       "      <td>PLF_590_00005081</td>\n",
       "      <td>NP_490493.1</td>\n",
       "    </tr>\n",
       "    <tr>\n",
       "      <th>fig|99287.12.peg.4864</th>\n",
       "      <td>PLF_590_00005446</td>\n",
       "      <td>NP_490507.1</td>\n",
       "    </tr>\n",
       "    <tr>\n",
       "      <th>fig|99287.12.peg.4846</th>\n",
       "      <td>PLF_590_00005107</td>\n",
       "      <td>NP_490494.1</td>\n",
       "    </tr>\n",
       "  </tbody>\n",
       "</table>\n",
       "<p>4970 rows × 2 columns</p>\n",
       "</div>"
      ],
      "text/plain": [
       "                                  PLFam      Prot_ID\n",
       "BRC_ID                                              \n",
       "fig|99287.12.peg.977   PLF_590_00000012  NP_459904.1\n",
       "fig|99287.12.peg.978   PLF_590_00014201  NP_459905.1\n",
       "fig|99287.12.peg.979   PLF_590_00019426         <NA>\n",
       "fig|99287.12.peg.980   PLF_590_00015851         <NA>\n",
       "fig|99287.12.peg.981   PLF_590_00000025  NP_459907.1\n",
       "...                                 ...          ...\n",
       "fig|99287.12.peg.4975  PLF_590_00006047  NP_490593.1\n",
       "fig|99287.12.peg.4976  PLF_590_00005031  NP_490594.1\n",
       "fig|99287.12.peg.4844  PLF_590_00005081  NP_490493.1\n",
       "fig|99287.12.peg.4864  PLF_590_00005446  NP_490507.1\n",
       "fig|99287.12.peg.4846  PLF_590_00005107  NP_490494.1\n",
       "\n",
       "[4970 rows x 2 columns]"
      ]
     },
     "execution_count": 6,
     "metadata": {},
     "output_type": "execute_result"
    }
   ],
   "source": [
    "prot_info = features[['BRC ID', 'PATRIC genus-specific families (PLfams)', 'Protein ID']].astype(\"string\")\n",
    "prot_info.columns = ['BRC_ID', 'PLFam', 'Prot_ID']\n",
    "prot_info.set_index('BRC_ID', inplace = True)\n",
    "prot_info"
   ]
  },
  {
   "cell_type": "markdown",
   "metadata": {},
   "source": [
    "## Specialty Genes\n",
    "\n",
    "A table containing AMR genes for this specie according to PATRIC."
   ]
  },
  {
   "cell_type": "code",
   "execution_count": 7,
   "metadata": {},
   "outputs": [],
   "source": [
    "AMR = pd.read_csv('specialty_genes.csv')['BRC ID']\n",
    "\n",
    "AMR_ID = pd.DataFrame(prot_info.loc[AMR, 'Prot_ID'])"
   ]
  },
  {
   "cell_type": "markdown",
   "metadata": {},
   "source": [
    "## Data from Nguyen et. al."
   ]
  },
  {
   "cell_type": "code",
   "execution_count": 8,
   "metadata": {},
   "outputs": [],
   "source": [
    "plf_500 = []\n",
    "\n",
    "datadir = os.getcwd() + '\\\\Nguyen_et_al_2020\\\\fasta.500.0'\n",
    "for strain in listdir(datadir):\n",
    "    with open(os.path.join(datadir, strain), 'r') as sequences:\n",
    "        for line in sequences:\n",
    "            if line[0] == '>':\n",
    "                plf_500.append(line[1:len(line)-1])\n",
    "                \n",
    "plf_500 = pd.DataFrame(np.unique(plf_500))\n",
    "plf_500.columns = ['PLFam']"
   ]
  },
  {
   "cell_type": "markdown",
   "metadata": {},
   "source": [
    "## Mapping PLF from Nguyen to Protein ID"
   ]
  },
  {
   "cell_type": "code",
   "execution_count": 9,
   "metadata": {},
   "outputs": [],
   "source": [
    "plf2id = prot_info[['PLFam', 'Prot_ID']][prot_info['PLFam'].isin(plf_500['PLFam'])]\n",
    "plf2id.columns = ['PLFam', 'Prot_ID']\n",
    "plf2id.dropna(inplace = True)\n",
    "plf2id = plf2id.reset_index(drop = True)"
   ]
  },
  {
   "cell_type": "markdown",
   "metadata": {},
   "source": [
    "## Protein Interaction Network"
   ]
  },
  {
   "cell_type": "code",
   "execution_count": 10,
   "metadata": {},
   "outputs": [],
   "source": [
    "transferred_links = pd.read_csv('salmonella.interolog', sep = '\\t', names = ['interactor1', 'interactor2', 'source1', 'source2', \n",
    "                                                         'interolog_quality', 'evalue', 'source_org_id', 'det_type', \n",
    "                                                         'int_type', 'pubmed'])\n",
    "ppi = pd.DataFrame(transferred_links[['interactor1', 'interactor2']])"
   ]
  },
  {
   "cell_type": "code",
   "execution_count": 11,
   "metadata": {},
   "outputs": [
    {
     "data": {
      "text/html": [
       "<div>\n",
       "<style scoped>\n",
       "    .dataframe tbody tr th:only-of-type {\n",
       "        vertical-align: middle;\n",
       "    }\n",
       "\n",
       "    .dataframe tbody tr th {\n",
       "        vertical-align: top;\n",
       "    }\n",
       "\n",
       "    .dataframe thead th {\n",
       "        text-align: right;\n",
       "    }\n",
       "</style>\n",
       "<table border=\"1\" class=\"dataframe\">\n",
       "  <thead>\n",
       "    <tr style=\"text-align: right;\">\n",
       "      <th></th>\n",
       "      <th>interactor1</th>\n",
       "      <th>interactor2</th>\n",
       "      <th>source1</th>\n",
       "      <th>source2</th>\n",
       "      <th>interolog_quality</th>\n",
       "      <th>evalue</th>\n",
       "      <th>source_org_id</th>\n",
       "      <th>det_type</th>\n",
       "      <th>int_type</th>\n",
       "      <th>pubmed</th>\n",
       "    </tr>\n",
       "  </thead>\n",
       "  <tbody>\n",
       "    <tr>\n",
       "      <th>0</th>\n",
       "      <td>NP_459018.1</td>\n",
       "      <td>NP_459428.1</td>\n",
       "      <td>P08622</td>\n",
       "      <td>Q46948</td>\n",
       "      <td>94.810460</td>\n",
       "      <td>1.490000e-135</td>\n",
       "      <td>83333</td>\n",
       "      <td>MI:0004</td>\n",
       "      <td>MI:0915</td>\n",
       "      <td>22157000</td>\n",
       "    </tr>\n",
       "    <tr>\n",
       "      <th>1</th>\n",
       "      <td>NP_459428.1</td>\n",
       "      <td>NP_460031.1</td>\n",
       "      <td>P04825</td>\n",
       "      <td>Q46948</td>\n",
       "      <td>94.632629</td>\n",
       "      <td>1.490000e-135</td>\n",
       "      <td>83333</td>\n",
       "      <td>MI:0004</td>\n",
       "      <td>MI:0915</td>\n",
       "      <td>22157000</td>\n",
       "    </tr>\n",
       "    <tr>\n",
       "      <th>2</th>\n",
       "      <td>NP_459428.1</td>\n",
       "      <td>NP_460284.1</td>\n",
       "      <td>P21179</td>\n",
       "      <td>Q46948</td>\n",
       "      <td>91.798379</td>\n",
       "      <td>1.490000e-135</td>\n",
       "      <td>83333</td>\n",
       "      <td>MI:0004</td>\n",
       "      <td>MI:0915</td>\n",
       "      <td>22157000</td>\n",
       "    </tr>\n",
       "    <tr>\n",
       "      <th>3</th>\n",
       "      <td>NP_459428.1</td>\n",
       "      <td>NP_461748.1</td>\n",
       "      <td>P00957</td>\n",
       "      <td>Q46948</td>\n",
       "      <td>95.165623</td>\n",
       "      <td>1.490000e-135</td>\n",
       "      <td>83333</td>\n",
       "      <td>MI:0004</td>\n",
       "      <td>MI:0915</td>\n",
       "      <td>22157000</td>\n",
       "    </tr>\n",
       "    <tr>\n",
       "      <th>4</th>\n",
       "      <td>NP_459051.1</td>\n",
       "      <td>NP_459428.1</td>\n",
       "      <td>P00956</td>\n",
       "      <td>Q46948</td>\n",
       "      <td>90.910213</td>\n",
       "      <td>1.490000e-135</td>\n",
       "      <td>83333</td>\n",
       "      <td>MI:0004</td>\n",
       "      <td>MI:0915</td>\n",
       "      <td>22157000</td>\n",
       "    </tr>\n",
       "    <tr>\n",
       "      <th>...</th>\n",
       "      <td>...</td>\n",
       "      <td>...</td>\n",
       "      <td>...</td>\n",
       "      <td>...</td>\n",
       "      <td>...</td>\n",
       "      <td>...</td>\n",
       "      <td>...</td>\n",
       "      <td>...</td>\n",
       "      <td>...</td>\n",
       "      <td>...</td>\n",
       "    </tr>\n",
       "    <tr>\n",
       "      <th>26393</th>\n",
       "      <td>NP_459733.1</td>\n",
       "      <td>NP_461210.1</td>\n",
       "      <td>P02932</td>\n",
       "      <td>P0A855</td>\n",
       "      <td>73.952374</td>\n",
       "      <td>1.630000e-138</td>\n",
       "      <td>83333</td>\n",
       "      <td>MI:0404</td>\n",
       "      <td>MI:0915</td>\n",
       "      <td>9393690</td>\n",
       "    </tr>\n",
       "    <tr>\n",
       "      <th>26394</th>\n",
       "      <td>NP_459733.1</td>\n",
       "      <td>NP_463096.1</td>\n",
       "      <td>P02943</td>\n",
       "      <td>P0A855</td>\n",
       "      <td>87.587772</td>\n",
       "      <td>0.000000e+00</td>\n",
       "      <td>83333</td>\n",
       "      <td>MI:0404</td>\n",
       "      <td>MI:0915</td>\n",
       "      <td>9393690</td>\n",
       "    </tr>\n",
       "    <tr>\n",
       "      <th>26395</th>\n",
       "      <td>NP_460851.1</td>\n",
       "      <td>NP_460852.1</td>\n",
       "      <td>P0A809</td>\n",
       "      <td>P0A812</td>\n",
       "      <td>95.749103</td>\n",
       "      <td>2.180000e-142</td>\n",
       "      <td>83333</td>\n",
       "      <td>MI:0020</td>\n",
       "      <td>MI:0915</td>\n",
       "      <td>7885479</td>\n",
       "    </tr>\n",
       "    <tr>\n",
       "      <th>26396</th>\n",
       "      <td>NP_460912.1</td>\n",
       "      <td>NP_461793.1</td>\n",
       "      <td>P06179</td>\n",
       "      <td>P41785</td>\n",
       "      <td>100.000000</td>\n",
       "      <td>1.390000e-68</td>\n",
       "      <td>99287</td>\n",
       "      <td>MI:0096</td>\n",
       "      <td>MI:0915</td>\n",
       "      <td>26449475</td>\n",
       "    </tr>\n",
       "    <tr>\n",
       "      <th>26397</th>\n",
       "      <td>NP_461698.1</td>\n",
       "      <td>NP_461793.1</td>\n",
       "      <td>P06179</td>\n",
       "      <td>P41785</td>\n",
       "      <td>87.133231</td>\n",
       "      <td>1.390000e-68</td>\n",
       "      <td>99287</td>\n",
       "      <td>MI:0096</td>\n",
       "      <td>MI:0915</td>\n",
       "      <td>26449475</td>\n",
       "    </tr>\n",
       "  </tbody>\n",
       "</table>\n",
       "<p>26398 rows × 10 columns</p>\n",
       "</div>"
      ],
      "text/plain": [
       "       interactor1  interactor2 source1 source2  interolog_quality  \\\n",
       "0      NP_459018.1  NP_459428.1  P08622  Q46948          94.810460   \n",
       "1      NP_459428.1  NP_460031.1  P04825  Q46948          94.632629   \n",
       "2      NP_459428.1  NP_460284.1  P21179  Q46948          91.798379   \n",
       "3      NP_459428.1  NP_461748.1  P00957  Q46948          95.165623   \n",
       "4      NP_459051.1  NP_459428.1  P00956  Q46948          90.910213   \n",
       "...            ...          ...     ...     ...                ...   \n",
       "26393  NP_459733.1  NP_461210.1  P02932  P0A855          73.952374   \n",
       "26394  NP_459733.1  NP_463096.1  P02943  P0A855          87.587772   \n",
       "26395  NP_460851.1  NP_460852.1  P0A809  P0A812          95.749103   \n",
       "26396  NP_460912.1  NP_461793.1  P06179  P41785         100.000000   \n",
       "26397  NP_461698.1  NP_461793.1  P06179  P41785          87.133231   \n",
       "\n",
       "              evalue  source_org_id det_type int_type    pubmed  \n",
       "0      1.490000e-135          83333  MI:0004  MI:0915  22157000  \n",
       "1      1.490000e-135          83333  MI:0004  MI:0915  22157000  \n",
       "2      1.490000e-135          83333  MI:0004  MI:0915  22157000  \n",
       "3      1.490000e-135          83333  MI:0004  MI:0915  22157000  \n",
       "4      1.490000e-135          83333  MI:0004  MI:0915  22157000  \n",
       "...              ...            ...      ...      ...       ...  \n",
       "26393  1.630000e-138          83333  MI:0404  MI:0915   9393690  \n",
       "26394   0.000000e+00          83333  MI:0404  MI:0915   9393690  \n",
       "26395  2.180000e-142          83333  MI:0020  MI:0915   7885479  \n",
       "26396   1.390000e-68          99287  MI:0096  MI:0915  26449475  \n",
       "26397   1.390000e-68          99287  MI:0096  MI:0915  26449475  \n",
       "\n",
       "[26398 rows x 10 columns]"
      ]
     },
     "execution_count": 11,
     "metadata": {},
     "output_type": "execute_result"
    }
   ],
   "source": [
    "transferred_links"
   ]
  },
  {
   "cell_type": "code",
   "execution_count": 12,
   "metadata": {},
   "outputs": [
    {
     "data": {
      "text/html": [
       "<div>\n",
       "<style scoped>\n",
       "    .dataframe tbody tr th:only-of-type {\n",
       "        vertical-align: middle;\n",
       "    }\n",
       "\n",
       "    .dataframe tbody tr th {\n",
       "        vertical-align: top;\n",
       "    }\n",
       "\n",
       "    .dataframe thead th {\n",
       "        text-align: right;\n",
       "    }\n",
       "</style>\n",
       "<table border=\"1\" class=\"dataframe\">\n",
       "  <thead>\n",
       "    <tr style=\"text-align: right;\">\n",
       "      <th></th>\n",
       "      <th>interactor1</th>\n",
       "      <th>interactor2</th>\n",
       "    </tr>\n",
       "  </thead>\n",
       "  <tbody>\n",
       "    <tr>\n",
       "      <th>0</th>\n",
       "      <td>NP_459018.1</td>\n",
       "      <td>NP_459428.1</td>\n",
       "    </tr>\n",
       "    <tr>\n",
       "      <th>1</th>\n",
       "      <td>NP_459428.1</td>\n",
       "      <td>NP_460031.1</td>\n",
       "    </tr>\n",
       "    <tr>\n",
       "      <th>2</th>\n",
       "      <td>NP_459428.1</td>\n",
       "      <td>NP_460284.1</td>\n",
       "    </tr>\n",
       "    <tr>\n",
       "      <th>3</th>\n",
       "      <td>NP_459428.1</td>\n",
       "      <td>NP_461748.1</td>\n",
       "    </tr>\n",
       "    <tr>\n",
       "      <th>4</th>\n",
       "      <td>NP_459051.1</td>\n",
       "      <td>NP_459428.1</td>\n",
       "    </tr>\n",
       "    <tr>\n",
       "      <th>...</th>\n",
       "      <td>...</td>\n",
       "      <td>...</td>\n",
       "    </tr>\n",
       "    <tr>\n",
       "      <th>26393</th>\n",
       "      <td>NP_459733.1</td>\n",
       "      <td>NP_461210.1</td>\n",
       "    </tr>\n",
       "    <tr>\n",
       "      <th>26394</th>\n",
       "      <td>NP_459733.1</td>\n",
       "      <td>NP_463096.1</td>\n",
       "    </tr>\n",
       "    <tr>\n",
       "      <th>26395</th>\n",
       "      <td>NP_460851.1</td>\n",
       "      <td>NP_460852.1</td>\n",
       "    </tr>\n",
       "    <tr>\n",
       "      <th>26396</th>\n",
       "      <td>NP_460912.1</td>\n",
       "      <td>NP_461793.1</td>\n",
       "    </tr>\n",
       "    <tr>\n",
       "      <th>26397</th>\n",
       "      <td>NP_461698.1</td>\n",
       "      <td>NP_461793.1</td>\n",
       "    </tr>\n",
       "  </tbody>\n",
       "</table>\n",
       "<p>26398 rows × 2 columns</p>\n",
       "</div>"
      ],
      "text/plain": [
       "       interactor1  interactor2\n",
       "0      NP_459018.1  NP_459428.1\n",
       "1      NP_459428.1  NP_460031.1\n",
       "2      NP_459428.1  NP_460284.1\n",
       "3      NP_459428.1  NP_461748.1\n",
       "4      NP_459051.1  NP_459428.1\n",
       "...            ...          ...\n",
       "26393  NP_459733.1  NP_461210.1\n",
       "26394  NP_459733.1  NP_463096.1\n",
       "26395  NP_460851.1  NP_460852.1\n",
       "26396  NP_460912.1  NP_461793.1\n",
       "26397  NP_461698.1  NP_461793.1\n",
       "\n",
       "[26398 rows x 2 columns]"
      ]
     },
     "execution_count": 12,
     "metadata": {},
     "output_type": "execute_result"
    }
   ],
   "source": [
    "ppi"
   ]
  },
  {
   "cell_type": "code",
   "execution_count": 13,
   "metadata": {},
   "outputs": [],
   "source": [
    "ppi.to_csv(path_or_buf = os.getcwd() + '\\\\ppi.csv')"
   ]
  },
  {
   "cell_type": "code",
   "execution_count": 18,
   "metadata": {},
   "outputs": [],
   "source": [
    "conserved_ppi_1 = plf2id[plf2id['Prot_ID'].isin(ppi['interactor1'])]['Prot_ID']\n",
    "conserved_ppi_2 = plf2id[plf2id['Prot_ID'].isin(ppi['interactor2'])]['Prot_ID']\n",
    "\n",
    "conserved_ppi = pd.DataFrame(pd.concat([conserved_ppi_1, conserved_ppi_2], axis = 0).drop_duplicates())"
   ]
  },
  {
   "cell_type": "code",
   "execution_count": 19,
   "metadata": {},
   "outputs": [
    {
     "data": {
      "text/html": [
       "<div>\n",
       "<style scoped>\n",
       "    .dataframe tbody tr th:only-of-type {\n",
       "        vertical-align: middle;\n",
       "    }\n",
       "\n",
       "    .dataframe tbody tr th {\n",
       "        vertical-align: top;\n",
       "    }\n",
       "\n",
       "    .dataframe thead th {\n",
       "        text-align: right;\n",
       "    }\n",
       "</style>\n",
       "<table border=\"1\" class=\"dataframe\">\n",
       "  <thead>\n",
       "    <tr style=\"text-align: right;\">\n",
       "      <th></th>\n",
       "      <th>Prot_ID</th>\n",
       "    </tr>\n",
       "  </thead>\n",
       "  <tbody>\n",
       "    <tr>\n",
       "      <th>0</th>\n",
       "      <td>NP_459911.1</td>\n",
       "    </tr>\n",
       "    <tr>\n",
       "      <th>1</th>\n",
       "      <td>NP_459913.1</td>\n",
       "    </tr>\n",
       "    <tr>\n",
       "      <th>2</th>\n",
       "      <td>NP_459919.1</td>\n",
       "    </tr>\n",
       "    <tr>\n",
       "      <th>3</th>\n",
       "      <td>NP_459937.1</td>\n",
       "    </tr>\n",
       "    <tr>\n",
       "      <th>4</th>\n",
       "      <td>NP_459944.1</td>\n",
       "    </tr>\n",
       "    <tr>\n",
       "      <th>...</th>\n",
       "      <td>...</td>\n",
       "    </tr>\n",
       "    <tr>\n",
       "      <th>432</th>\n",
       "      <td>NP_463414.1</td>\n",
       "    </tr>\n",
       "    <tr>\n",
       "      <th>433</th>\n",
       "      <td>NP_463423.1</td>\n",
       "    </tr>\n",
       "    <tr>\n",
       "      <th>434</th>\n",
       "      <td>NP_463426.1</td>\n",
       "    </tr>\n",
       "    <tr>\n",
       "      <th>435</th>\n",
       "      <td>NP_463435.1</td>\n",
       "    </tr>\n",
       "    <tr>\n",
       "      <th>490</th>\n",
       "      <td>NP_459865.1</td>\n",
       "    </tr>\n",
       "  </tbody>\n",
       "</table>\n",
       "<p>361 rows × 1 columns</p>\n",
       "</div>"
      ],
      "text/plain": [
       "         Prot_ID\n",
       "0    NP_459911.1\n",
       "1    NP_459913.1\n",
       "2    NP_459919.1\n",
       "3    NP_459937.1\n",
       "4    NP_459944.1\n",
       "..           ...\n",
       "432  NP_463414.1\n",
       "433  NP_463423.1\n",
       "434  NP_463426.1\n",
       "435  NP_463435.1\n",
       "490  NP_459865.1\n",
       "\n",
       "[361 rows x 1 columns]"
      ]
     },
     "execution_count": 19,
     "metadata": {},
     "output_type": "execute_result"
    }
   ],
   "source": [
    "conserved_ppi"
   ]
  },
  {
   "cell_type": "code",
   "execution_count": 20,
   "metadata": {},
   "outputs": [],
   "source": [
    "AMR_ppi_1 = AMR_ID[AMR_ID['Prot_ID'].isin(ppi['interactor1'])]['Prot_ID']\n",
    "AMR_ppi_2 = AMR_ID[AMR_ID['Prot_ID'].isin(ppi['interactor2'])]['Prot_ID']\n",
    "\n",
    "AMR_ppi = pd.DataFrame(pd.concat([AMR_ppi_1, AMR_ppi_2], axis = 0))\n",
    "AMR_ppi.reset_index(drop=True, inplace=True)"
   ]
  },
  {
   "cell_type": "code",
   "execution_count": 21,
   "metadata": {},
   "outputs": [],
   "source": [
    "AMR_ppi.drop_duplicates(inplace = True)"
   ]
  },
  {
   "cell_type": "code",
   "execution_count": 22,
   "metadata": {},
   "outputs": [],
   "source": [
    "ppi_info = pd.DataFrame(columns = ['Conserved Gene', 'Shortest Path to an AMR gene (length)',])\n",
    "\n",
    "ppi_info['Conserved Gene'] = conserved_ppi.reset_index(drop = True)['Prot_ID']"
   ]
  },
  {
   "cell_type": "code",
   "execution_count": 23,
   "metadata": {},
   "outputs": [],
   "source": [
    "ppi_graph = nx.from_pandas_edgelist(ppi, 'interactor1', 'interactor2')"
   ]
  },
  {
   "cell_type": "code",
   "execution_count": 24,
   "metadata": {},
   "outputs": [
    {
     "data": {
      "text/plain": [
       "16219"
      ]
     },
     "execution_count": 24,
     "metadata": {},
     "output_type": "execute_result"
    }
   ],
   "source": [
    "ppi_graph.number_of_edges()"
   ]
  },
  {
   "cell_type": "code",
   "execution_count": 25,
   "metadata": {},
   "outputs": [
    {
     "data": {
      "text/plain": [
       "2639"
      ]
     },
     "execution_count": 25,
     "metadata": {},
     "output_type": "execute_result"
    }
   ],
   "source": [
    "ppi_graph.number_of_nodes()"
   ]
  },
  {
   "cell_type": "code",
   "execution_count": 26,
   "metadata": {},
   "outputs": [
    {
     "name": "stderr",
     "output_type": "stream",
     "text": [
      "C:\\ProgramData\\Anaconda3\\lib\\site-packages\\ipykernel_launcher.py:8: SettingWithCopyWarning: \n",
      "A value is trying to be set on a copy of a slice from a DataFrame\n",
      "\n",
      "See the caveats in the documentation: https://pandas.pydata.org/pandas-docs/stable/user_guide/indexing.html#returning-a-view-versus-a-copy\n",
      "  \n"
     ]
    }
   ],
   "source": [
    "idx = 0\n",
    "for i in conserved_ppi['Prot_ID']:\n",
    "    lengths = []\n",
    "    for j in AMR_ppi['Prot_ID']:\n",
    "        if nx.has_path(ppi_graph, i, j):\n",
    "            lengths.append(nx.shortest_path_length(ppi_graph, i, j))\n",
    "    if lengths:        \n",
    "        ppi_info['Shortest Path to an AMR gene (length)'][idx] = min(lengths)\n",
    "        \n",
    "    idx += 1"
   ]
  },
  {
   "cell_type": "code",
   "execution_count": 27,
   "metadata": {
    "scrolled": true
   },
   "outputs": [
    {
     "data": {
      "text/plain": [
       "['NP_460659.1',\n",
       " 'NP_462772.2',\n",
       " 'NP_459919.1',\n",
       " 'NP_461214.1',\n",
       " 'NP_463158.1',\n",
       " 'NP_462345.1',\n",
       " 'NP_461740.1',\n",
       " 'NP_459051.1',\n",
       " 'NP_463157.1',\n",
       " 'NP_462300.1',\n",
       " 'NP_462101.2']"
      ]
     },
     "execution_count": 27,
     "metadata": {},
     "output_type": "execute_result"
    }
   ],
   "source": [
    "list(set(AMR_ID['Prot_ID']) & set(plf2id['Prot_ID']))"
   ]
  },
  {
   "cell_type": "code",
   "execution_count": 28,
   "metadata": {},
   "outputs": [],
   "source": [
    "plf2id.set_index('Prot_ID', drop = True, inplace = True)"
   ]
  },
  {
   "cell_type": "markdown",
   "metadata": {},
   "source": [
    "## pStep Kernel, p = 2"
   ]
  },
  {
   "cell_type": "code",
   "execution_count": 14,
   "metadata": {},
   "outputs": [],
   "source": [
    "pStepKernel_2 = np.load('pStepKernel_2.npy')"
   ]
  },
  {
   "cell_type": "code",
   "execution_count": 15,
   "metadata": {},
   "outputs": [],
   "source": [
    "with open ('protein_names.txt') as f:\n",
    "    protein_names = f.readlines()"
   ]
  },
  {
   "cell_type": "code",
   "execution_count": 16,
   "metadata": {},
   "outputs": [],
   "source": [
    "protein_names = protein_names[1:]\n",
    "protein_names = [name.replace('\\n', '') for name in protein_names]"
   ]
  },
  {
   "cell_type": "code",
   "execution_count": 32,
   "metadata": {},
   "outputs": [],
   "source": [
    "AMR_bin = np.zeros(shape=(len(protein_names), 1))\n",
    "for i in range(len(protein_names)):\n",
    "    if protein_names[i] in AMR_ppi['Prot_ID'].tolist():\n",
    "        AMR_bin[i] = 1"
   ]
  },
  {
   "cell_type": "code",
   "execution_count": 34,
   "metadata": {},
   "outputs": [
    {
     "data": {
      "text/html": [
       "<div>\n",
       "<style scoped>\n",
       "    .dataframe tbody tr th:only-of-type {\n",
       "        vertical-align: middle;\n",
       "    }\n",
       "\n",
       "    .dataframe tbody tr th {\n",
       "        vertical-align: top;\n",
       "    }\n",
       "\n",
       "    .dataframe thead th {\n",
       "        text-align: right;\n",
       "    }\n",
       "</style>\n",
       "<table border=\"1\" class=\"dataframe\">\n",
       "  <thead>\n",
       "    <tr style=\"text-align: right;\">\n",
       "      <th></th>\n",
       "      <th>protein</th>\n",
       "      <th>kernel</th>\n",
       "    </tr>\n",
       "  </thead>\n",
       "  <tbody>\n",
       "    <tr>\n",
       "      <th>0</th>\n",
       "      <td>NP_461740.1</td>\n",
       "      <td>2.004706</td>\n",
       "    </tr>\n",
       "    <tr>\n",
       "      <th>1</th>\n",
       "      <td>NP_462300.1</td>\n",
       "      <td>1.952091</td>\n",
       "    </tr>\n",
       "    <tr>\n",
       "      <th>2</th>\n",
       "      <td>NP_459919.1</td>\n",
       "      <td>1.655862</td>\n",
       "    </tr>\n",
       "    <tr>\n",
       "      <th>3</th>\n",
       "      <td>NP_461214.1</td>\n",
       "      <td>1.468215</td>\n",
       "    </tr>\n",
       "    <tr>\n",
       "      <th>4</th>\n",
       "      <td>NP_463157.1</td>\n",
       "      <td>1.389946</td>\n",
       "    </tr>\n",
       "    <tr>\n",
       "      <th>...</th>\n",
       "      <td>...</td>\n",
       "      <td>...</td>\n",
       "    </tr>\n",
       "    <tr>\n",
       "      <th>356</th>\n",
       "      <td>NP_460869.1</td>\n",
       "      <td>0.000000</td>\n",
       "    </tr>\n",
       "    <tr>\n",
       "      <th>357</th>\n",
       "      <td>NP_460779.1</td>\n",
       "      <td>0.000000</td>\n",
       "    </tr>\n",
       "    <tr>\n",
       "      <th>358</th>\n",
       "      <td>NP_460675.1</td>\n",
       "      <td>0.000000</td>\n",
       "    </tr>\n",
       "    <tr>\n",
       "      <th>359</th>\n",
       "      <td>NP_461398.1</td>\n",
       "      <td>0.000000</td>\n",
       "    </tr>\n",
       "    <tr>\n",
       "      <th>360</th>\n",
       "      <td>NP_459760.1</td>\n",
       "      <td>0.000000</td>\n",
       "    </tr>\n",
       "  </tbody>\n",
       "</table>\n",
       "<p>361 rows × 2 columns</p>\n",
       "</div>"
      ],
      "text/plain": [
       "         protein    kernel\n",
       "0    NP_461740.1  2.004706\n",
       "1    NP_462300.1  1.952091\n",
       "2    NP_459919.1  1.655862\n",
       "3    NP_461214.1  1.468215\n",
       "4    NP_463157.1  1.389946\n",
       "..           ...       ...\n",
       "356  NP_460869.1  0.000000\n",
       "357  NP_460779.1  0.000000\n",
       "358  NP_460675.1  0.000000\n",
       "359  NP_461398.1  0.000000\n",
       "360  NP_459760.1  0.000000\n",
       "\n",
       "[361 rows x 2 columns]"
      ]
     },
     "execution_count": 34,
     "metadata": {},
     "output_type": "execute_result"
    }
   ],
   "source": [
    "kernel = pd.concat([pd.DataFrame(protein_names), pd.DataFrame.from_records(np.dot(pStepKernel_2, AMR_bin))], axis = 1)\n",
    "kernel.columns = ['protein', 'kernel']\n",
    "kernel.sort_values(by = 'kernel', ascending = False, inplace = True)\n",
    "kernel = kernel[kernel['protein'].isin(conserved_ppi['Prot_ID'])]\n",
    "kernel.reset_index(drop = True, inplace = True)\n",
    "kernel"
   ]
  },
  {
   "cell_type": "markdown",
   "metadata": {},
   "source": [
    "Creating sets of 25 genes according to kernel descend order:"
   ]
  },
  {
   "cell_type": "code",
   "execution_count": 38,
   "metadata": {},
   "outputs": [],
   "source": [
    "for i in range(14):\n",
    "    gene_set = kernel.iloc[range(25*i, 25*(i+1))]['protein']\n",
    "    globals()[f'kernel_top{i}'] = plf2id.loc[list(gene_set)]['PLFam']"
   ]
  },
  {
   "cell_type": "code",
   "execution_count": 40,
   "metadata": {},
   "outputs": [],
   "source": [
    "bacdir = f'{root}/Fistarol_2022/{bacteria}'\n",
    "os.mkdir(bacdir)\n",
    "\n",
    "for i in range(14):\n",
    "    newdir = f'top.{i}'\n",
    "    rankdir = os.path.join(bacdir, newdir)\n",
    "    os.mkdir(rankdir)\n",
    "    \n",
    "    sample = f'{root}/{bacteria}/Nguyen_et_al_2020/fasta.500.0'\n",
    "    for strain in listdir(sample):\n",
    "        with open(os.path.join(rankdir, strain), 'a') as mystrain:\n",
    "            with open(os.path.join(sample, strain), 'r') as sequences:\n",
    "                first_loop = True\n",
    "                for line in sequences:\n",
    "                    if line[0] == '>':\n",
    "                        if first_loop:\n",
    "                            plfam = line[1:len(line)-1]\n",
    "                            seq = ''\n",
    "                            first_loop = False\n",
    "                            continue\n",
    "                        if plfam in list((globals()[f'kernel_top{i}'])):\n",
    "                            mystrain.write('>' + plfam + '\\n')\n",
    "                            mystrain.write(seq)\n",
    "                        plfam = line[1:len(line)-1]\n",
    "                        seq = ''\n",
    "                    else:\n",
    "                        seq += line\n",
    "                if plfam in list((globals()[f'kernel_top{i}'])):\n",
    "                            mystrain.write('>' + plfam + '\\n')\n",
    "                            mystrain.write(seq)"
   ]
  },
  {
   "cell_type": "code",
   "execution_count": null,
   "metadata": {},
   "outputs": [],
   "source": []
  }
 ],
 "metadata": {
  "kernelspec": {
   "display_name": "Python 3",
   "language": "python",
   "name": "python3"
  },
  "language_info": {
   "codemirror_mode": {
    "name": "ipython",
    "version": 3
   },
   "file_extension": ".py",
   "mimetype": "text/x-python",
   "name": "python",
   "nbconvert_exporter": "python",
   "pygments_lexer": "ipython3",
   "version": "3.7.6"
  }
 },
 "nbformat": 4,
 "nbformat_minor": 4
}
