{
 "cells": [
  {
   "cell_type": "code",
   "execution_count": 2,
   "metadata": {},
   "outputs": [],
   "source": [
    "import pandas as pd\n",
    "import numpy as np\n",
    "import matplotlib.pyplot as plt\n",
    "import math\n",
    "import os"
   ]
  },
  {
   "cell_type": "markdown",
   "metadata": {},
   "source": [
    "# Results - Shortest Path"
   ]
  },
  {
   "cell_type": "code",
   "execution_count": 14,
   "metadata": {},
   "outputs": [],
   "source": [
    "dir_labels = os.getcwd() + '\\\\GeneSets\\\\AMR'\n",
    "labels = os.listdir(dir_labels)[:-1]"
   ]
  },
  {
   "cell_type": "code",
   "execution_count": 15,
   "metadata": {},
   "outputs": [
    {
     "data": {
      "text/plain": [
       "['PLF_590_00000215',\n",
       " 'PLF_590_00000236',\n",
       " 'PLF_590_00000441',\n",
       " 'PLF_590_00000543',\n",
       " 'PLF_590_00001611',\n",
       " 'PLF_590_00001982',\n",
       " 'PLF_590_00002421',\n",
       " 'PLF_590_00002480',\n",
       " 'PLF_590_00002841',\n",
       " 'PLF_590_00003204',\n",
       " 'PLF_590_00024086']"
      ]
     },
     "execution_count": 15,
     "metadata": {},
     "output_type": "execute_result"
    }
   ],
   "source": [
    "labels"
   ]
  },
  {
   "cell_type": "code",
   "execution_count": 3,
   "metadata": {},
   "outputs": [],
   "source": [
    "root = os.getcwd() + '\\\\GeneSets\\\\AMR\\\\Results'"
   ]
  },
  {
   "cell_type": "code",
   "execution_count": 4,
   "metadata": {},
   "outputs": [],
   "source": [
    "samples = len(os.listdir(root))"
   ]
  },
  {
   "cell_type": "code",
   "execution_count": 5,
   "metadata": {},
   "outputs": [],
   "source": [
    "result_example = root + '\\\\' + os.listdir(root)[0] + '\\\\all\\\\f1.tab'\n",
    "\n",
    "with open(result_example, 'r') as result:\n",
    "    antibiotics = []\n",
    "    for line in result:\n",
    "        antibiotics.append(line.split('\\t')[0])"
   ]
  },
  {
   "cell_type": "code",
   "execution_count": 6,
   "metadata": {},
   "outputs": [],
   "source": [
    "results = pd.DataFrame(index = antibiotics, columns = range(samples))\n",
    "std = pd.DataFrame(index = antibiotics, columns = range(samples))\n",
    "\n",
    "for j in range(samples):\n",
    "    result_file = root + '\\\\' + os.listdir(root)[j] + '\\\\all\\\\f1.tab'\n",
    "    with open(result_file, 'r') as result:\n",
    "        for line in result:\n",
    "            values = line.split('\\t')\n",
    "            results.loc[values[0]][j] = np.around(float(values[1]), decimals = 3)\n",
    "            std.loc[values[0]][j] = np.around(float(values[1]) - float(values[2]), decimals = 3)"
   ]
  },
  {
   "cell_type": "code",
   "execution_count": 7,
   "metadata": {},
   "outputs": [
    {
     "data": {
      "text/html": [
       "<div>\n",
       "<style scoped>\n",
       "    .dataframe tbody tr th:only-of-type {\n",
       "        vertical-align: middle;\n",
       "    }\n",
       "\n",
       "    .dataframe tbody tr th {\n",
       "        vertical-align: top;\n",
       "    }\n",
       "\n",
       "    .dataframe thead th {\n",
       "        text-align: right;\n",
       "    }\n",
       "</style>\n",
       "<table border=\"1\" class=\"dataframe\">\n",
       "  <thead>\n",
       "    <tr style=\"text-align: right;\">\n",
       "      <th></th>\n",
       "      <th>0</th>\n",
       "      <th>1</th>\n",
       "      <th>2</th>\n",
       "      <th>3</th>\n",
       "      <th>4</th>\n",
       "      <th>5</th>\n",
       "      <th>6</th>\n",
       "      <th>7</th>\n",
       "      <th>8</th>\n",
       "      <th>9</th>\n",
       "      <th>10</th>\n",
       "    </tr>\n",
       "  </thead>\n",
       "  <tbody>\n",
       "    <tr>\n",
       "      <th>ALL</th>\n",
       "      <td>0.7</td>\n",
       "      <td>0.253</td>\n",
       "      <td>0.659</td>\n",
       "      <td>0.644</td>\n",
       "      <td>0.654</td>\n",
       "      <td>0.66</td>\n",
       "      <td>0.658</td>\n",
       "      <td>0.679</td>\n",
       "      <td>0.651</td>\n",
       "      <td>0.662</td>\n",
       "      <td>0.643</td>\n",
       "    </tr>\n",
       "    <tr>\n",
       "      <th>AMP</th>\n",
       "      <td>0.677</td>\n",
       "      <td>0.287</td>\n",
       "      <td>0.648</td>\n",
       "      <td>0.634</td>\n",
       "      <td>0.639</td>\n",
       "      <td>0.638</td>\n",
       "      <td>0.625</td>\n",
       "      <td>0.68</td>\n",
       "      <td>0.647</td>\n",
       "      <td>0.644</td>\n",
       "      <td>0.663</td>\n",
       "    </tr>\n",
       "    <tr>\n",
       "      <th>AUG</th>\n",
       "      <td>0.703</td>\n",
       "      <td>0.197</td>\n",
       "      <td>0.612</td>\n",
       "      <td>0.605</td>\n",
       "      <td>0.658</td>\n",
       "      <td>0.613</td>\n",
       "      <td>0.644</td>\n",
       "      <td>0.653</td>\n",
       "      <td>0.634</td>\n",
       "      <td>0.621</td>\n",
       "      <td>0.62</td>\n",
       "    </tr>\n",
       "    <tr>\n",
       "      <th>AXO</th>\n",
       "      <td>0.706</td>\n",
       "      <td>0.187</td>\n",
       "      <td>0.587</td>\n",
       "      <td>0.584</td>\n",
       "      <td>0.631</td>\n",
       "      <td>0.626</td>\n",
       "      <td>0.641</td>\n",
       "      <td>0.649</td>\n",
       "      <td>0.634</td>\n",
       "      <td>0.598</td>\n",
       "      <td>0.614</td>\n",
       "    </tr>\n",
       "    <tr>\n",
       "      <th>CHL</th>\n",
       "      <td>0.523</td>\n",
       "      <td>0.049</td>\n",
       "      <td>0.536</td>\n",
       "      <td>0.471</td>\n",
       "      <td>0.439</td>\n",
       "      <td>0.551</td>\n",
       "      <td>0.516</td>\n",
       "      <td>0.503</td>\n",
       "      <td>0.437</td>\n",
       "      <td>0.494</td>\n",
       "      <td>0.459</td>\n",
       "    </tr>\n",
       "    <tr>\n",
       "      <th>FIS</th>\n",
       "      <td>0.744</td>\n",
       "      <td>0.323</td>\n",
       "      <td>0.733</td>\n",
       "      <td>0.739</td>\n",
       "      <td>0.727</td>\n",
       "      <td>0.739</td>\n",
       "      <td>0.753</td>\n",
       "      <td>0.738</td>\n",
       "      <td>0.741</td>\n",
       "      <td>0.727</td>\n",
       "      <td>0.728</td>\n",
       "    </tr>\n",
       "    <tr>\n",
       "      <th>FOX</th>\n",
       "      <td>0.687</td>\n",
       "      <td>0.176</td>\n",
       "      <td>0.556</td>\n",
       "      <td>0.555</td>\n",
       "      <td>0.629</td>\n",
       "      <td>0.586</td>\n",
       "      <td>0.609</td>\n",
       "      <td>0.632</td>\n",
       "      <td>0.617</td>\n",
       "      <td>0.579</td>\n",
       "      <td>0.591</td>\n",
       "    </tr>\n",
       "    <tr>\n",
       "      <th>GEN</th>\n",
       "      <td>0.634</td>\n",
       "      <td>0.149</td>\n",
       "      <td>0.658</td>\n",
       "      <td>0.578</td>\n",
       "      <td>0.625</td>\n",
       "      <td>0.582</td>\n",
       "      <td>0.56</td>\n",
       "      <td>0.584</td>\n",
       "      <td>0.609</td>\n",
       "      <td>0.633</td>\n",
       "      <td>0.599</td>\n",
       "    </tr>\n",
       "    <tr>\n",
       "      <th>KAN</th>\n",
       "      <td>0.583</td>\n",
       "      <td>0.323</td>\n",
       "      <td>0.492</td>\n",
       "      <td>0.528</td>\n",
       "      <td>0.487</td>\n",
       "      <td>0.581</td>\n",
       "      <td>0.473</td>\n",
       "      <td>0.387</td>\n",
       "      <td>0.483</td>\n",
       "      <td>0.643</td>\n",
       "      <td>0.428</td>\n",
       "    </tr>\n",
       "    <tr>\n",
       "      <th>STR</th>\n",
       "      <td>0.681</td>\n",
       "      <td>0.43</td>\n",
       "      <td>0.695</td>\n",
       "      <td>0.635</td>\n",
       "      <td>0.618</td>\n",
       "      <td>0.639</td>\n",
       "      <td>0.678</td>\n",
       "      <td>0.648</td>\n",
       "      <td>0.68</td>\n",
       "      <td>0.646</td>\n",
       "      <td>0.588</td>\n",
       "    </tr>\n",
       "    <tr>\n",
       "      <th>TET</th>\n",
       "      <td>0.694</td>\n",
       "      <td>0.386</td>\n",
       "      <td>0.688</td>\n",
       "      <td>0.704</td>\n",
       "      <td>0.713</td>\n",
       "      <td>0.685</td>\n",
       "      <td>0.69</td>\n",
       "      <td>0.706</td>\n",
       "      <td>0.701</td>\n",
       "      <td>0.694</td>\n",
       "      <td>0.705</td>\n",
       "    </tr>\n",
       "    <tr>\n",
       "      <th>TIO</th>\n",
       "      <td>0.692</td>\n",
       "      <td>0.188</td>\n",
       "      <td>0.576</td>\n",
       "      <td>0.612</td>\n",
       "      <td>0.626</td>\n",
       "      <td>0.588</td>\n",
       "      <td>0.639</td>\n",
       "      <td>0.662</td>\n",
       "      <td>0.627</td>\n",
       "      <td>0.581</td>\n",
       "      <td>0.629</td>\n",
       "    </tr>\n",
       "  </tbody>\n",
       "</table>\n",
       "</div>"
      ],
      "text/plain": [
       "         0      1      2      3      4      5      6      7      8      9  \\\n",
       "ALL    0.7  0.253  0.659  0.644  0.654   0.66  0.658  0.679  0.651  0.662   \n",
       "AMP  0.677  0.287  0.648  0.634  0.639  0.638  0.625   0.68  0.647  0.644   \n",
       "AUG  0.703  0.197  0.612  0.605  0.658  0.613  0.644  0.653  0.634  0.621   \n",
       "AXO  0.706  0.187  0.587  0.584  0.631  0.626  0.641  0.649  0.634  0.598   \n",
       "CHL  0.523  0.049  0.536  0.471  0.439  0.551  0.516  0.503  0.437  0.494   \n",
       "FIS  0.744  0.323  0.733  0.739  0.727  0.739  0.753  0.738  0.741  0.727   \n",
       "FOX  0.687  0.176  0.556  0.555  0.629  0.586  0.609  0.632  0.617  0.579   \n",
       "GEN  0.634  0.149  0.658  0.578  0.625  0.582   0.56  0.584  0.609  0.633   \n",
       "KAN  0.583  0.323  0.492  0.528  0.487  0.581  0.473  0.387  0.483  0.643   \n",
       "STR  0.681   0.43  0.695  0.635  0.618  0.639  0.678  0.648   0.68  0.646   \n",
       "TET  0.694  0.386  0.688  0.704  0.713  0.685   0.69  0.706  0.701  0.694   \n",
       "TIO  0.692  0.188  0.576  0.612  0.626  0.588  0.639  0.662  0.627  0.581   \n",
       "\n",
       "        10  \n",
       "ALL  0.643  \n",
       "AMP  0.663  \n",
       "AUG   0.62  \n",
       "AXO  0.614  \n",
       "CHL  0.459  \n",
       "FIS  0.728  \n",
       "FOX  0.591  \n",
       "GEN  0.599  \n",
       "KAN  0.428  \n",
       "STR  0.588  \n",
       "TET  0.705  \n",
       "TIO  0.629  "
      ]
     },
     "execution_count": 7,
     "metadata": {},
     "output_type": "execute_result"
    }
   ],
   "source": [
    "results"
   ]
  },
  {
   "cell_type": "code",
   "execution_count": 29,
   "metadata": {
    "scrolled": false
   },
   "outputs": [
    {
     "data": {
      "image/png": "[encoded data removed]",
      "text/plain": [
       "<Figure size 1440x1224 with 12 Axes>"
      ]
     },
     "metadata": {
      "needs_background": "light"
     },
     "output_type": "display_data"
    }
   ],
   "source": [
    "figure, axis = plt.subplots(nrows=4, ncols=3, figsize=(20, 17))\n",
    "\n",
    "\n",
    "for row in range(4):\n",
    "    for col in range(3):\n",
    "        results_mean = results.loc[antibiotics[3*row+col]]\n",
    "        results_std = std.loc[antibiotics[3*row+col]]\n",
    "        axis[row, col].bar(range(11), results_mean, yerr = results_std, color = 'tab:red', ecolor = 'k', capsize=2, width = 0.8)\n",
    "        axis[row, col].set_title(antibiotics[3*row+col])\n",
    "        axis[row, col].set_ylim([0, 1])\n",
    "        axis[row, col].set_xticks(range(11))\n",
    "        axis[row, col].set_xticklabels(labels, rotation=90)\n",
    "    \n",
    "# for j in range(1,4):\n",
    "#     results_mean = globals()[f'results_{j}'].mean(axis = 1)\n",
    "#     results_std = globals()[f'results_{j}'].std(axis = 1)\n",
    "#     for row in range(4):\n",
    "#         for col in range(3):\n",
    "#             val = results_mean.iloc[3*row+col]\n",
    "#             err = results_std.iloc[3*row+col]\n",
    "#             axis[row, col].bar(j, val, yerr = err, ecolor = 'k', width = 0.8, capsize=2, align = 'center', color = '#0088aa')\n",
    "        \n",
    "# for row in range(4):\n",
    "#     for col in range(3):\n",
    "#         axis[row, col].set_title(antibiotics[3*row+col])\n",
    "#         axis[row, col].set_ylim([0.4, 0.8])\n",
    "#         \n",
    "#         axis[row, col].set_xticklabels(['AMR', 'Length 1', 'Length 2', 'Length 3'])\n",
    "        \n",
    "plt.subplots_adjust(top = 0.999, bottom=0.01, hspace=0.7, wspace=0.2)"
   ]
  },
  {
   "cell_type": "code",
   "execution_count": 44,
   "metadata": {},
   "outputs": [
    {
     "data": {
      "text/plain": [
       "array([0.721, 0.702, 0.713, 0.719, 0.54, 0.759, 0.684, 0.612, 0.587,\n",
       "       0.761, 0.73, 0.732], dtype=object)"
      ]
     },
     "execution_count": 44,
     "metadata": {},
     "output_type": "execute_result"
    }
   ],
   "source": [
    "results_0[0].values"
   ]
  }
 ],
 "metadata": {
  "kernelspec": {
   "display_name": "Python 3",
   "language": "python",
   "name": "python3"
  },
  "language_info": {
   "codemirror_mode": {
    "name": "ipython",
    "version": 3
   },
   "file_extension": ".py",
   "mimetype": "text/x-python",
   "name": "python",
   "nbconvert_exporter": "python",
   "pygments_lexer": "ipython3",
   "version": "3.7.6"
  }
 },
 "nbformat": 4,
 "nbformat_minor": 4
}
