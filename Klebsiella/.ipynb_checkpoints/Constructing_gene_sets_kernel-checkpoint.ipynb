{
 "cells": [
  {
   "cell_type": "code",
   "execution_count": 1,
   "metadata": {},
   "outputs": [],
   "source": [
    "import pandas as pd\n",
    "import numpy as np\n",
    "import networkx as nx\n",
    "import os\n",
    "from os import listdir\n",
    "import random"
   ]
  },
  {
   "cell_type": "markdown",
   "metadata": {},
   "source": [
    "# Klebsiella pneumoniae subsp. pneumoniae MGH 78578\n",
    "In order to have the same RefSeq on both databases, this subspecie is used"
   ]
  },
  {
   "cell_type": "code",
   "execution_count": 2,
   "metadata": {},
   "outputs": [],
   "source": [
    "bacteria = 'Klebsiella'\n",
    "root = 'E:/User/bruna.fistarol/Documents/MasterProject'"
   ]
  },
  {
   "cell_type": "markdown",
   "metadata": {},
   "source": [
    "# Data From PATRIC"
   ]
  },
  {
   "cell_type": "markdown",
   "metadata": {},
   "source": [
    "## Genomic Features\n",
    "\n",
    "The table below contains a list of genomic features, including coding DNA.\n",
    "\n",
    "Each feature is solely identified by BRC ID and associated to a protein family referred as PATRIC genus-specific families (PLfams). Most of the genes has the associated RefSeq."
   ]
  },
  {
   "cell_type": "code",
   "execution_count": 3,
   "metadata": {},
   "outputs": [],
   "source": [
    "features = pd.read_csv('genome_features.csv')"
   ]
  },
  {
   "cell_type": "code",
   "execution_count": 4,
   "metadata": {},
   "outputs": [
    {
     "name": "stdout",
     "output_type": "stream",
     "text": [
      "<class 'pandas.core.frame.DataFrame'>\n",
      "RangeIndex: 5267 entries, 0 to 5266\n",
      "Data columns (total 21 columns):\n",
      " #   Column                                   Non-Null Count  Dtype  \n",
      "---  ------                                   --------------  -----  \n",
      " 0   Genome                                   5267 non-null   object \n",
      " 1   Genome ID                                5267 non-null   float64\n",
      " 2   Accession                                5267 non-null   object \n",
      " 3   BRC ID                                   5267 non-null   object \n",
      " 4   RefSeq Locus Tag                         4942 non-null   object \n",
      " 5   Alt Locus Tag                            5267 non-null   object \n",
      " 6   Feature ID                               5267 non-null   object \n",
      " 7   Annotation                               5267 non-null   object \n",
      " 8   Feature Type                             5267 non-null   object \n",
      " 9   Start                                    5267 non-null   int64  \n",
      " 10  End                                      5267 non-null   int64  \n",
      " 11  Length                                   5267 non-null   int64  \n",
      " 12  Strand                                   5267 non-null   object \n",
      " 13  FIGfam ID                                5143 non-null   object \n",
      " 14  PATRIC genus-specific families (PLfams)  5267 non-null   object \n",
      " 15  PATRIC cross-genus families (PGfams)     5267 non-null   object \n",
      " 16  Protein ID                               4942 non-null   object \n",
      " 17  AA Length                                5267 non-null   int64  \n",
      " 18  Gene Symbol                              3155 non-null   object \n",
      " 19  Product                                  5267 non-null   object \n",
      " 20  GO                                       1290 non-null   object \n",
      "dtypes: float64(1), int64(4), object(16)\n",
      "memory usage: 864.2+ KB\n"
     ]
    }
   ],
   "source": [
    "features.info()"
   ]
  },
  {
   "cell_type": "markdown",
   "metadata": {},
   "source": [
    "Through this table, we extract useful data to map protein families referred by Nguyen et. al.:"
   ]
  },
  {
   "cell_type": "code",
   "execution_count": 5,
   "metadata": {},
   "outputs": [
    {
     "data": {
      "text/html": [
       "<div>\n",
       "<style scoped>\n",
       "    .dataframe tbody tr th:only-of-type {\n",
       "        vertical-align: middle;\n",
       "    }\n",
       "\n",
       "    .dataframe tbody tr th {\n",
       "        vertical-align: top;\n",
       "    }\n",
       "\n",
       "    .dataframe thead th {\n",
       "        text-align: right;\n",
       "    }\n",
       "</style>\n",
       "<table border=\"1\" class=\"dataframe\">\n",
       "  <thead>\n",
       "    <tr style=\"text-align: right;\">\n",
       "      <th></th>\n",
       "      <th>PLFam</th>\n",
       "    </tr>\n",
       "    <tr>\n",
       "      <th>BRC_ID</th>\n",
       "      <th></th>\n",
       "    </tr>\n",
       "  </thead>\n",
       "  <tbody>\n",
       "    <tr>\n",
       "      <th>fig|272620.9.peg.923</th>\n",
       "      <td>PLF_570_00001646</td>\n",
       "    </tr>\n",
       "    <tr>\n",
       "      <th>fig|272620.9.peg.924</th>\n",
       "      <td>PLF_570_00000827</td>\n",
       "    </tr>\n",
       "    <tr>\n",
       "      <th>fig|272620.9.peg.925</th>\n",
       "      <td>PLF_570_00002014</td>\n",
       "    </tr>\n",
       "    <tr>\n",
       "      <th>fig|272620.9.peg.10</th>\n",
       "      <td>PLF_570_00001421</td>\n",
       "    </tr>\n",
       "    <tr>\n",
       "      <th>fig|272620.9.peg.926</th>\n",
       "      <td>PLF_570_00002244</td>\n",
       "    </tr>\n",
       "    <tr>\n",
       "      <th>...</th>\n",
       "      <td>...</td>\n",
       "    </tr>\n",
       "    <tr>\n",
       "      <th>fig|272620.9.peg.5264</th>\n",
       "      <td>PLF_570_00006439</td>\n",
       "    </tr>\n",
       "    <tr>\n",
       "      <th>fig|272620.9.peg.5266</th>\n",
       "      <td>PLF_570_00023239</td>\n",
       "    </tr>\n",
       "    <tr>\n",
       "      <th>fig|272620.9.peg.5267</th>\n",
       "      <td>PLF_570_00005744</td>\n",
       "    </tr>\n",
       "    <tr>\n",
       "      <th>fig|272620.9.peg.5268</th>\n",
       "      <td>PLF_570_00116871</td>\n",
       "    </tr>\n",
       "    <tr>\n",
       "      <th>fig|272620.9.peg.5269</th>\n",
       "      <td>PLF_570_00006439</td>\n",
       "    </tr>\n",
       "  </tbody>\n",
       "</table>\n",
       "<p>5267 rows × 1 columns</p>\n",
       "</div>"
      ],
      "text/plain": [
       "                                  PLFam\n",
       "BRC_ID                                 \n",
       "fig|272620.9.peg.923   PLF_570_00001646\n",
       "fig|272620.9.peg.924   PLF_570_00000827\n",
       "fig|272620.9.peg.925   PLF_570_00002014\n",
       "fig|272620.9.peg.10    PLF_570_00001421\n",
       "fig|272620.9.peg.926   PLF_570_00002244\n",
       "...                                 ...\n",
       "fig|272620.9.peg.5264  PLF_570_00006439\n",
       "fig|272620.9.peg.5266  PLF_570_00023239\n",
       "fig|272620.9.peg.5267  PLF_570_00005744\n",
       "fig|272620.9.peg.5268  PLF_570_00116871\n",
       "fig|272620.9.peg.5269  PLF_570_00006439\n",
       "\n",
       "[5267 rows x 1 columns]"
      ]
     },
     "execution_count": 5,
     "metadata": {},
     "output_type": "execute_result"
    }
   ],
   "source": [
    "plf = features[['BRC ID', 'PATRIC genus-specific families (PLfams)']].astype(\"string\")\n",
    "plf.columns = ['BRC_ID', 'PLFam']\n",
    "plf.set_index('BRC_ID', inplace = True)\n",
    "plf"
   ]
  },
  {
   "cell_type": "markdown",
   "metadata": {},
   "source": [
    "## Specialty Genes\n",
    "\n",
    "The table containing specialty genes relates several genomic features to a relevant property. Here the table is filtered by the antibiotic resistance property"
   ]
  },
  {
   "cell_type": "code",
   "execution_count": 6,
   "metadata": {},
   "outputs": [],
   "source": [
    "AMR_refseq = pd.DataFrame(pd.read_csv('specialty_genes.csv')['RefSeq Locus Tag'])\n",
    "AMR_refseq.columns = ['AMR_RefSeq']"
   ]
  },
  {
   "cell_type": "code",
   "execution_count": 7,
   "metadata": {},
   "outputs": [
    {
     "data": {
      "text/plain": [
       "83"
      ]
     },
     "execution_count": 7,
     "metadata": {},
     "output_type": "execute_result"
    }
   ],
   "source": [
    "AMR_refseq['AMR_RefSeq'].nunique()"
   ]
  },
  {
   "cell_type": "markdown",
   "metadata": {},
   "source": [
    "## Data from Nguyen et. al."
   ]
  },
  {
   "cell_type": "code",
   "execution_count": 8,
   "metadata": {},
   "outputs": [],
   "source": [
    "plf_500 = []\n",
    "\n",
    "datadir = f'E:/User/bruna.fistarol/Documents/GitHub/Nguyen_et_al_2020/{bacteria}/fasta.500.0'\n",
    "for strain in listdir(datadir):\n",
    "    with open(os.path.join(datadir, strain), 'r') as sequences:\n",
    "        for line in sequences:\n",
    "            if line[0] == '>':\n",
    "                plf_500.append(line[1:len(line)-1])\n",
    "                \n",
    "plf_500 = pd.DataFrame(np.unique(plf_500))\n",
    "plf_500.columns = ['Protein Family ID']"
   ]
  },
  {
   "cell_type": "markdown",
   "metadata": {},
   "source": [
    "## RefSeq Mapping"
   ]
  },
  {
   "cell_type": "code",
   "execution_count": 9,
   "metadata": {},
   "outputs": [],
   "source": [
    "refseq = features[['BRC ID', 'RefSeq Locus Tag']]\n",
    "refseq.columns = ['BRC_ID', 'RefSeq']\n",
    "refseq.set_index('BRC_ID', inplace = True)"
   ]
  },
  {
   "cell_type": "code",
   "execution_count": 10,
   "metadata": {},
   "outputs": [],
   "source": [
    "plf_map_refseq = features[['RefSeq Locus Tag', 'PATRIC genus-specific families (PLfams)']][features['PATRIC genus-specific families (PLfams)'].isin(plf_500['Protein Family ID'])].reset_index(drop = True)\n",
    "plf_map_refseq.columns = ['RefSeq', 'PLF']\n",
    "plf_map_refseq.dropna(inplace = True)\n",
    "plf_map_refseq.reset_index(drop = True, inplace = True)"
   ]
  },
  {
   "cell_type": "code",
   "execution_count": 11,
   "metadata": {},
   "outputs": [
    {
     "data": {
      "text/html": [
       "<div>\n",
       "<style scoped>\n",
       "    .dataframe tbody tr th:only-of-type {\n",
       "        vertical-align: middle;\n",
       "    }\n",
       "\n",
       "    .dataframe tbody tr th {\n",
       "        vertical-align: top;\n",
       "    }\n",
       "\n",
       "    .dataframe thead th {\n",
       "        text-align: right;\n",
       "    }\n",
       "</style>\n",
       "<table border=\"1\" class=\"dataframe\">\n",
       "  <thead>\n",
       "    <tr style=\"text-align: right;\">\n",
       "      <th></th>\n",
       "      <th>RefSeq</th>\n",
       "      <th>PLF</th>\n",
       "    </tr>\n",
       "  </thead>\n",
       "  <tbody>\n",
       "    <tr>\n",
       "      <th>0</th>\n",
       "      <td>KPN_00896</td>\n",
       "      <td>PLF_570_00000827</td>\n",
       "    </tr>\n",
       "    <tr>\n",
       "      <th>1</th>\n",
       "      <td>KPN_00900</td>\n",
       "      <td>PLF_570_00002125</td>\n",
       "    </tr>\n",
       "    <tr>\n",
       "      <th>2</th>\n",
       "      <td>KPN_00902</td>\n",
       "      <td>PLF_570_00000651</td>\n",
       "    </tr>\n",
       "    <tr>\n",
       "      <th>3</th>\n",
       "      <td>KPN_00909</td>\n",
       "      <td>PLF_570_00001323</td>\n",
       "    </tr>\n",
       "    <tr>\n",
       "      <th>4</th>\n",
       "      <td>KPN_00917</td>\n",
       "      <td>PLF_570_00001430</td>\n",
       "    </tr>\n",
       "    <tr>\n",
       "      <th>...</th>\n",
       "      <td>...</td>\n",
       "      <td>...</td>\n",
       "    </tr>\n",
       "    <tr>\n",
       "      <th>479</th>\n",
       "      <td>KPN_00081</td>\n",
       "      <td>PLF_570_00000905</td>\n",
       "    </tr>\n",
       "    <tr>\n",
       "      <th>480</th>\n",
       "      <td>KPN_00859</td>\n",
       "      <td>PLF_570_00002832</td>\n",
       "    </tr>\n",
       "    <tr>\n",
       "      <th>481</th>\n",
       "      <td>KPN_00868</td>\n",
       "      <td>PLF_570_00002022</td>\n",
       "    </tr>\n",
       "    <tr>\n",
       "      <th>482</th>\n",
       "      <td>KPN_00884</td>\n",
       "      <td>PLF_570_00000996</td>\n",
       "    </tr>\n",
       "    <tr>\n",
       "      <th>483</th>\n",
       "      <td>KPN_00890</td>\n",
       "      <td>PLF_570_00002286</td>\n",
       "    </tr>\n",
       "  </tbody>\n",
       "</table>\n",
       "<p>484 rows × 2 columns</p>\n",
       "</div>"
      ],
      "text/plain": [
       "        RefSeq               PLF\n",
       "0    KPN_00896  PLF_570_00000827\n",
       "1    KPN_00900  PLF_570_00002125\n",
       "2    KPN_00902  PLF_570_00000651\n",
       "3    KPN_00909  PLF_570_00001323\n",
       "4    KPN_00917  PLF_570_00001430\n",
       "..         ...               ...\n",
       "479  KPN_00081  PLF_570_00000905\n",
       "480  KPN_00859  PLF_570_00002832\n",
       "481  KPN_00868  PLF_570_00002022\n",
       "482  KPN_00884  PLF_570_00000996\n",
       "483  KPN_00890  PLF_570_00002286\n",
       "\n",
       "[484 rows x 2 columns]"
      ]
     },
     "execution_count": 11,
     "metadata": {},
     "output_type": "execute_result"
    }
   ],
   "source": [
    "plf_map_refseq"
   ]
  },
  {
   "cell_type": "markdown",
   "metadata": {},
   "source": [
    "## Protein Interaction Network"
   ]
  },
  {
   "cell_type": "code",
   "execution_count": 12,
   "metadata": {},
   "outputs": [],
   "source": [
    "ppi_patric = pd.read_csv('ppi_patric.csv')\n",
    "ppi_patric = ppi_patric[['Interactor A ID', 'Interactor B ID']].astype(\"string\")\n",
    "ppi_patric.columns = ['Interactor_A_ID', 'Interactor_B_ID']"
   ]
  },
  {
   "cell_type": "code",
   "execution_count": 13,
   "metadata": {},
   "outputs": [],
   "source": [
    "ppi_refseq = ppi_patric\n",
    "for i in range(len(ppi_refseq['Interactor_A_ID'])):\n",
    "    if ppi_refseq['Interactor_A_ID'][i] in list(refseq.index):\n",
    "        ppi_refseq.at[i, 'Interactor_A_ID'] = refseq.loc[ppi_refseq['Interactor_A_ID'][i]].RefSeq\n",
    "    else:\n",
    "        ppi_refseq.drop(inplace = True, labels = i)\n",
    "        \n",
    "ppi_refseq.reset_index(inplace = True, drop = True)\n",
    "        \n",
    "for i in range(len(ppi_refseq['Interactor_B_ID'])):\n",
    "    if ppi_refseq['Interactor_B_ID'][i]in (refseq.index):\n",
    "        ppi_refseq.at[i, 'Interactor_B_ID'] = refseq.loc[ppi_refseq['Interactor_B_ID'][i]].RefSeq\n",
    "    else:\n",
    "        ppi_refseq.drop(inplace = True, labels = i)"
   ]
  },
  {
   "cell_type": "code",
   "execution_count": 14,
   "metadata": {},
   "outputs": [],
   "source": [
    "ppi_string = pd.read_csv('ppi_string.txt', sep = ' ')\n",
    "ppi_string.columns = ['Interactor_A_ID', 'Interactor_B_ID', 'weight']\n",
    "ppi_string.replace('93061.', '', regex = True, inplace = True)"
   ]
  },
  {
   "cell_type": "code",
   "execution_count": 15,
   "metadata": {},
   "outputs": [],
   "source": [
    "ppi = pd.DataFrame(pd.concat([ppi_refseq, ppi_string], axis = 0)[['Interactor_A_ID', 'Interactor_B_ID']]).reset_index(drop = True)"
   ]
  },
  {
   "cell_type": "code",
   "execution_count": 16,
   "metadata": {},
   "outputs": [],
   "source": [
    "ppi.to_csv(path_or_buf = os.getcwd() + '\\\\ppi.csv')"
   ]
  },
  {
   "cell_type": "code",
   "execution_count": 17,
   "metadata": {},
   "outputs": [],
   "source": [
    "conserved_ppi_A = plf_map_refseq[plf_map_refseq['RefSeq'].isin(ppi['Interactor_A_ID'])]['RefSeq']\n",
    "conserved_ppi_B = plf_map_refseq[plf_map_refseq['RefSeq'].isin(ppi['Interactor_B_ID'])]['RefSeq']\n",
    "\n",
    "conserved_ppi = pd.DataFrame(pd.concat([conserved_ppi_A, conserved_ppi_B], axis = 0).drop_duplicates())"
   ]
  },
  {
   "cell_type": "code",
   "execution_count": 18,
   "metadata": {},
   "outputs": [
    {
     "data": {
      "text/html": [
       "<div>\n",
       "<style scoped>\n",
       "    .dataframe tbody tr th:only-of-type {\n",
       "        vertical-align: middle;\n",
       "    }\n",
       "\n",
       "    .dataframe tbody tr th {\n",
       "        vertical-align: top;\n",
       "    }\n",
       "\n",
       "    .dataframe thead th {\n",
       "        text-align: right;\n",
       "    }\n",
       "</style>\n",
       "<table border=\"1\" class=\"dataframe\">\n",
       "  <thead>\n",
       "    <tr style=\"text-align: right;\">\n",
       "      <th></th>\n",
       "      <th>RefSeq</th>\n",
       "    </tr>\n",
       "  </thead>\n",
       "  <tbody>\n",
       "    <tr>\n",
       "      <th>1</th>\n",
       "      <td>KPN_00900</td>\n",
       "    </tr>\n",
       "    <tr>\n",
       "      <th>5</th>\n",
       "      <td>KPN_00923</td>\n",
       "    </tr>\n",
       "    <tr>\n",
       "      <th>7</th>\n",
       "      <td>KPN_00932</td>\n",
       "    </tr>\n",
       "    <tr>\n",
       "      <th>9</th>\n",
       "      <td>KPN_00092</td>\n",
       "    </tr>\n",
       "    <tr>\n",
       "      <th>11</th>\n",
       "      <td>KPN_00970</td>\n",
       "    </tr>\n",
       "    <tr>\n",
       "      <th>...</th>\n",
       "      <td>...</td>\n",
       "    </tr>\n",
       "    <tr>\n",
       "      <th>420</th>\n",
       "      <td>KPN_04655</td>\n",
       "    </tr>\n",
       "    <tr>\n",
       "      <th>422</th>\n",
       "      <td>KPN_04666</td>\n",
       "    </tr>\n",
       "    <tr>\n",
       "      <th>432</th>\n",
       "      <td>KPN_04788</td>\n",
       "    </tr>\n",
       "    <tr>\n",
       "      <th>466</th>\n",
       "      <td>KPN_00730</td>\n",
       "    </tr>\n",
       "    <tr>\n",
       "      <th>471</th>\n",
       "      <td>KPN_00802</td>\n",
       "    </tr>\n",
       "  </tbody>\n",
       "</table>\n",
       "<p>219 rows × 1 columns</p>\n",
       "</div>"
      ],
      "text/plain": [
       "        RefSeq\n",
       "1    KPN_00900\n",
       "5    KPN_00923\n",
       "7    KPN_00932\n",
       "9    KPN_00092\n",
       "11   KPN_00970\n",
       "..         ...\n",
       "420  KPN_04655\n",
       "422  KPN_04666\n",
       "432  KPN_04788\n",
       "466  KPN_00730\n",
       "471  KPN_00802\n",
       "\n",
       "[219 rows x 1 columns]"
      ]
     },
     "execution_count": 18,
     "metadata": {},
     "output_type": "execute_result"
    }
   ],
   "source": [
    "conserved_ppi"
   ]
  },
  {
   "cell_type": "code",
   "execution_count": 19,
   "metadata": {},
   "outputs": [],
   "source": [
    "AMR_ppi_A = AMR_refseq[AMR_refseq['AMR_RefSeq'].isin(ppi['Interactor_A_ID'])]['AMR_RefSeq']\n",
    "AMR_ppi_B = AMR_refseq[AMR_refseq['AMR_RefSeq'].isin(ppi['Interactor_B_ID'])]['AMR_RefSeq']\n",
    "\n",
    "AMR_ppi = pd.DataFrame(pd.concat([AMR_ppi_A, AMR_ppi_B], axis = 0))\n",
    "AMR_ppi.reset_index(drop=True, inplace=True)"
   ]
  },
  {
   "cell_type": "code",
   "execution_count": 20,
   "metadata": {},
   "outputs": [],
   "source": [
    "AMR_ppi.drop_duplicates(inplace = True)"
   ]
  },
  {
   "cell_type": "code",
   "execution_count": 21,
   "metadata": {},
   "outputs": [],
   "source": [
    "ppi_graph = nx.from_pandas_edgelist(ppi, 'Interactor_A_ID', 'Interactor_B_ID')"
   ]
  },
  {
   "cell_type": "code",
   "execution_count": 22,
   "metadata": {},
   "outputs": [
    {
     "data": {
      "text/plain": [
       "60016"
      ]
     },
     "execution_count": 22,
     "metadata": {},
     "output_type": "execute_result"
    }
   ],
   "source": [
    "ppi_graph.number_of_edges()"
   ]
  },
  {
   "cell_type": "code",
   "execution_count": 23,
   "metadata": {},
   "outputs": [
    {
     "data": {
      "text/plain": [
       "5410"
      ]
     },
     "execution_count": 23,
     "metadata": {},
     "output_type": "execute_result"
    }
   ],
   "source": [
    "ppi_graph.number_of_nodes()"
   ]
  },
  {
   "cell_type": "code",
   "execution_count": 24,
   "metadata": {},
   "outputs": [],
   "source": [
    "plf_map_refseq = plf_map_refseq.set_index('RefSeq')"
   ]
  },
  {
   "cell_type": "markdown",
   "metadata": {},
   "source": [
    "## pStep Kernel, p = 1"
   ]
  },
  {
   "cell_type": "code",
   "execution_count": 25,
   "metadata": {},
   "outputs": [],
   "source": [
    "pStepKernel_2 = np.load('pStepKernel_1.npy')"
   ]
  },
  {
   "cell_type": "code",
   "execution_count": 26,
   "metadata": {},
   "outputs": [],
   "source": [
    "with open ('protein_names1.txt') as f:\n",
    "    protein_names = f.readlines()"
   ]
  },
  {
   "cell_type": "code",
   "execution_count": 27,
   "metadata": {},
   "outputs": [],
   "source": [
    "protein_names = protein_names[1:]\n",
    "protein_names = [name.replace('\\n', '') for name in protein_names]"
   ]
  },
  {
   "cell_type": "code",
   "execution_count": 28,
   "metadata": {},
   "outputs": [],
   "source": [
    "AMR_bin = np.zeros(shape=(len(protein_names), 1))"
   ]
  },
  {
   "cell_type": "code",
   "execution_count": 29,
   "metadata": {},
   "outputs": [],
   "source": [
    "for i in range(len(protein_names)):\n",
    "    if protein_names[i] in AMR_ppi['AMR_RefSeq'].tolist():\n",
    "        AMR_bin[i] = 1"
   ]
  },
  {
   "cell_type": "code",
   "execution_count": 30,
   "metadata": {},
   "outputs": [],
   "source": [
    "kernel = pd.concat([pd.DataFrame(protein_names), pd.DataFrame.from_records(np.dot(pStepKernel_2, AMR_bin))], axis = 1)"
   ]
  },
  {
   "cell_type": "code",
   "execution_count": 31,
   "metadata": {},
   "outputs": [],
   "source": [
    "kernel.columns = ['protein', 'kernel']"
   ]
  },
  {
   "cell_type": "code",
   "execution_count": 32,
   "metadata": {},
   "outputs": [],
   "source": [
    "kernel.sort_values(by = 'kernel', ascending = False, inplace = True)\n",
    "kernel = kernel[kernel['protein'].isin(conserved_ppi['RefSeq'])]\n",
    "kernel.reset_index(drop = True, inplace = True)"
   ]
  },
  {
   "cell_type": "code",
   "execution_count": 33,
   "metadata": {
    "scrolled": false
   },
   "outputs": [
    {
     "data": {
      "text/html": [
       "<div>\n",
       "<style scoped>\n",
       "    .dataframe tbody tr th:only-of-type {\n",
       "        vertical-align: middle;\n",
       "    }\n",
       "\n",
       "    .dataframe tbody tr th {\n",
       "        vertical-align: top;\n",
       "    }\n",
       "\n",
       "    .dataframe thead th {\n",
       "        text-align: right;\n",
       "    }\n",
       "</style>\n",
       "<table border=\"1\" class=\"dataframe\">\n",
       "  <thead>\n",
       "    <tr style=\"text-align: right;\">\n",
       "      <th></th>\n",
       "      <th>protein</th>\n",
       "      <th>kernel</th>\n",
       "    </tr>\n",
       "  </thead>\n",
       "  <tbody>\n",
       "    <tr>\n",
       "      <th>0</th>\n",
       "      <td>KPN_00364</td>\n",
       "      <td>0.358447</td>\n",
       "    </tr>\n",
       "    <tr>\n",
       "      <th>1</th>\n",
       "      <td>KPN_00372</td>\n",
       "      <td>0.316228</td>\n",
       "    </tr>\n",
       "    <tr>\n",
       "      <th>2</th>\n",
       "      <td>KPN_02472</td>\n",
       "      <td>0.282843</td>\n",
       "    </tr>\n",
       "    <tr>\n",
       "      <th>3</th>\n",
       "      <td>KPN_01236</td>\n",
       "      <td>0.267261</td>\n",
       "    </tr>\n",
       "    <tr>\n",
       "      <th>4</th>\n",
       "      <td>KPN_03326</td>\n",
       "      <td>0.250000</td>\n",
       "    </tr>\n",
       "    <tr>\n",
       "      <th>...</th>\n",
       "      <td>...</td>\n",
       "      <td>...</td>\n",
       "    </tr>\n",
       "    <tr>\n",
       "      <th>214</th>\n",
       "      <td>KPN_02295</td>\n",
       "      <td>0.000000</td>\n",
       "    </tr>\n",
       "    <tr>\n",
       "      <th>215</th>\n",
       "      <td>KPN_02696</td>\n",
       "      <td>0.000000</td>\n",
       "    </tr>\n",
       "    <tr>\n",
       "      <th>216</th>\n",
       "      <td>KPN_01196</td>\n",
       "      <td>0.000000</td>\n",
       "    </tr>\n",
       "    <tr>\n",
       "      <th>217</th>\n",
       "      <td>KPN_03432</td>\n",
       "      <td>0.000000</td>\n",
       "    </tr>\n",
       "    <tr>\n",
       "      <th>218</th>\n",
       "      <td>KPN_02372</td>\n",
       "      <td>0.000000</td>\n",
       "    </tr>\n",
       "  </tbody>\n",
       "</table>\n",
       "<p>219 rows × 2 columns</p>\n",
       "</div>"
      ],
      "text/plain": [
       "       protein    kernel\n",
       "0    KPN_00364  0.358447\n",
       "1    KPN_00372  0.316228\n",
       "2    KPN_02472  0.282843\n",
       "3    KPN_01236  0.267261\n",
       "4    KPN_03326  0.250000\n",
       "..         ...       ...\n",
       "214  KPN_02295  0.000000\n",
       "215  KPN_02696  0.000000\n",
       "216  KPN_01196  0.000000\n",
       "217  KPN_03432  0.000000\n",
       "218  KPN_02372  0.000000\n",
       "\n",
       "[219 rows x 2 columns]"
      ]
     },
     "execution_count": 33,
     "metadata": {},
     "output_type": "execute_result"
    }
   ],
   "source": [
    "kernel"
   ]
  },
  {
   "cell_type": "markdown",
   "metadata": {},
   "source": [
    "Creating sets of 25 genes according to kernel descend order:"
   ]
  },
  {
   "cell_type": "code",
   "execution_count": 34,
   "metadata": {},
   "outputs": [],
   "source": [
    "for i in range(8):\n",
    "    gene_set = kernel.iloc[range(25*i, 25*(i+1))]['protein']\n",
    "    globals()[f'kernel_top{i}'] = plf_map_refseq.loc[list(gene_set)]['PLF']"
   ]
  },
  {
   "cell_type": "code",
   "execution_count": 35,
   "metadata": {},
   "outputs": [
    {
     "data": {
      "text/plain": [
       "RefSeq\n",
       "KPN_04233    PLF_570_00000838\n",
       "KPN_03410    PLF_570_00003223\n",
       "KPN_01535    PLF_570_00001512\n",
       "KPN_00433    PLF_570_00000583\n",
       "KPN_03735    PLF_570_00001835\n",
       "KPN_00312    PLF_570_00002960\n",
       "KPN_04788    PLF_570_00001299\n",
       "KPN_04630    PLF_570_00000859\n",
       "KPN_01000    PLF_570_00001600\n",
       "KPN_00204    PLF_570_00001269\n",
       "KPN_04655    PLF_570_00000265\n",
       "KPN_04600    PLF_570_00000377\n",
       "KPN_03956    PLF_570_00000808\n",
       "KPN_00900    PLF_570_00002125\n",
       "KPN_03159    PLF_570_00000712\n",
       "KPN_00144    PLF_570_00000798\n",
       "KPN_01071    PLF_570_00001153\n",
       "KPN_01063    PLF_570_00000246\n",
       "KPN_01745    PLF_570_00004265\n",
       "KPN_03800    PLF_570_00000723\n",
       "KPN_03426    PLF_570_00002375\n",
       "KPN_04421    PLF_570_00001144\n",
       "KPN_00230    PLF_570_00001685\n",
       "KPN_02198    PLF_570_00002274\n",
       "KPN_02429    PLF_570_00001259\n",
       "Name: PLF, dtype: object"
      ]
     },
     "execution_count": 35,
     "metadata": {},
     "output_type": "execute_result"
    }
   ],
   "source": [
    "kernel_top1"
   ]
  },
  {
   "cell_type": "code",
   "execution_count": 36,
   "metadata": {},
   "outputs": [],
   "source": [
    "bacdir = f'{root}/Fistarol_2022/1StepKernel{bacteria}'\n",
    "os.mkdir(bacdir)\n",
    "\n",
    "for i in range(8):\n",
    "    newdir = f'top.{i}'\n",
    "    rankdir = os.path.join(bacdir, newdir)\n",
    "    os.mkdir(rankdir)\n",
    "    \n",
    "    sample = f'{root}/{bacteria}/Nguyen_et_al_2020/fasta.500.0'\n",
    "    for strain in listdir(sample):\n",
    "        with open(os.path.join(rankdir, strain), 'a') as mystrain:\n",
    "            with open(os.path.join(sample, strain), 'r') as sequences:\n",
    "                first_loop = True\n",
    "                for line in sequences:\n",
    "                    if line[0] == '>':\n",
    "                        if first_loop:\n",
    "                            plfam = line[1:len(line)-1]\n",
    "                            seq = ''\n",
    "                            first_loop = False\n",
    "                            continue\n",
    "                        if plfam in list((globals()[f'kernel_top{i}'])):\n",
    "                            mystrain.write('>' + plfam + '\\n')\n",
    "                            mystrain.write(seq)\n",
    "                        plfam = line[1:len(line)-1]\n",
    "                        seq = ''\n",
    "                    else:\n",
    "                        seq += line\n",
    "                if plfam in list((globals()[f'kernel_top{i}'])):\n",
    "                            mystrain.write('>' + plfam + '\\n')\n",
    "                            mystrain.write(seq)"
   ]
  },
  {
   "cell_type": "code",
   "execution_count": null,
   "metadata": {},
   "outputs": [],
   "source": []
  }
 ],
 "metadata": {
  "kernelspec": {
   "display_name": "Python 3",
   "language": "python",
   "name": "python3"
  },
  "language_info": {
   "codemirror_mode": {
    "name": "ipython",
    "version": 3
   },
   "file_extension": ".py",
   "mimetype": "text/x-python",
   "name": "python",
   "nbconvert_exporter": "python",
   "pygments_lexer": "ipython3",
   "version": "3.7.6"
  }
 },
 "nbformat": 4,
 "nbformat_minor": 4
}
